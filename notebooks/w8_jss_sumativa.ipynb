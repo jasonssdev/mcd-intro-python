{
 "cells": [
  {
   "cell_type": "markdown",
   "id": "48dd1b2f",
   "metadata": {},
   "source": [
    "Recibirás de base una lista de listas, donde cada lista interior representa a un cliente que visitó una distribuidora con intención de comprar un vehículo. Para cada cliente tienes la siguiente información:\n",
    "\n",
    "User ID: id del cliente, este dato es único para cada cliente de la distribuidora\n",
    "Gender: género del cliente, puede ser Female o Male.\n",
    "Age: edad del cliente\n",
    "Annual Salary: salario anual del cliente en dólares\n",
    "Purchase Decision: decisión del cliente sobre comprar el vehículo, es 1 si decidió comprar el vehículo y 0 en caso contrario.\n",
    "\n",
    "Luego, tienes una lista de listas con 1000 elementos en el siguiente formato:\n",
    "\n",
    "```python\n",
    "[['User ID', 'Gender', 'Age', 'AnnualSalary', 'Purchased'],\n",
    "[385, 'Male', 35, 20000, 0],\n",
    "[681, 'Male', 40, 43500, 0],\n",
    "[353, 'Male', 49, 74000, 0],\n",
    "[895, 'Male', 40, 107500, 1],\n",
    "….\n",
    "]\n",
    "```\n",
    "Para esta tarea deberás definir correctamente dos funciones. Estas funciones reciben como parámetro una lista en el formato anterior y retornan información al respecto.\n",
    "\n",
    "1. Para esta parte deberás programa la función distribucion_clientes(lista).\n",
    "Con esta función queremos crear la siguiente tabla que nos muestre la distribución de datos en la lista recibida.\n",
    "\n",
    "\n",
    "La tabla se divide horizontalmente según el género del cliente (Hombre o Mujer), además se divide verticalmente según el rango de edad al que pertenece y si es rico o no. Un cliente es rico si tiene un salario anual de 100.000 o más dólares, y no es rico en caso contrario.\n",
    "\n",
    "Deberás llenar la tabla anterior con la cantidad de clientes que pertenecen a cada cuadrante. Por ejemplo, si lista es:"
   ]
  },
  {
   "cell_type": "code",
   "execution_count": 1,
   "id": "29706962",
   "metadata": {},
   "outputs": [],
   "source": [
    "import pandas as pd\n",
    "from pathlib import Path"
   ]
  },
  {
   "cell_type": "code",
   "execution_count": 2,
   "id": "0827fca8",
   "metadata": {},
   "outputs": [
    {
     "name": "stdout",
     "output_type": "stream",
     "text": [
      "/Users/jasonssdev/Dev/Learning/UC/mcd-intro-python\n",
      "/Users/jasonssdev/Dev/Learning/UC/mcd-intro-python/data/raw/car_data.csv\n"
     ]
    }
   ],
   "source": [
    "project_root = Path().resolve()\n",
    "print(project_root)\n",
    "data_path = project_root / \"data\" / \"raw\" / \"car_data.csv\"\n",
    "print(data_path)"
   ]
  },
  {
   "cell_type": "code",
   "execution_count": 3,
   "id": "bb8c5b5e",
   "metadata": {},
   "outputs": [],
   "source": [
    "lista = [['User ID', 'Gender', 'Age', 'AnnualSalary', 'Purchased'],\n",
    "[385, 'Male', 35, 20000, 0],\n",
    "[681, 'Male', 40, 43500, 0],\n",
    "[353, 'Male', 49, 74000, 0],\n",
    "[895, 'Male', 40, 107500, 1]\n",
    "]"
   ]
  },
  {
   "cell_type": "code",
   "execution_count": 4,
   "id": "1f66a5be",
   "metadata": {},
   "outputs": [
    {
     "data": {
      "text/plain": [
       "'Male'"
      ]
     },
     "execution_count": 4,
     "metadata": {},
     "output_type": "execute_result"
    }
   ],
   "source": [
    "lista[1][1]"
   ]
  },
  {
   "cell_type": "code",
   "execution_count": 16,
   "id": "1f930944",
   "metadata": {},
   "outputs": [],
   "source": [
    "def distribucion_clientes(lista):\n",
    "    tabla = [\n",
    "            [0, 0, 0, 0, 0, 0],  \n",
    "            [0, 0, 0, 0, 0, 0]   \n",
    "        ]\n",
    "    for person in lista[1:]:\n",
    "        user_id, gender, age, salary, purchased = person\n",
    "        if gender == 'Male':\n",
    "            row_index = 0\n",
    "        else:\n",
    "            row_index = 1\n",
    "        if salary < 100000:\n",
    "            if age < 30:\n",
    "                column_index = 0\n",
    "            elif 30 <= age <= 53:\n",
    "                column_index = 1\n",
    "            else:\n",
    "                column_index = 2\n",
    "        else:\n",
    "            if age < 30:\n",
    "                column_index = 3\n",
    "            elif 30 <= age <= 53:\n",
    "                column_index = 4\n",
    "            else:\n",
    "                column_index = 5\n",
    "\n",
    "        tabla[row_index][column_index] += 1\n",
    "    return tabla"
   ]
  },
  {
   "cell_type": "code",
   "execution_count": 17,
   "id": "f6e8a32a",
   "metadata": {},
   "outputs": [
    {
     "data": {
      "text/plain": [
       "[[0, 2, 1, 0, 1, 0], [0, 0, 0, 0, 0, 0]]"
      ]
     },
     "execution_count": 17,
     "metadata": {},
     "output_type": "execute_result"
    }
   ],
   "source": [
    "distribucion_clientes(lista)"
   ]
  },
  {
   "cell_type": "code",
   "execution_count": 10,
   "id": "34c57220",
   "metadata": {},
   "outputs": [
    {
     "name": "stdout",
     "output_type": "stream",
     "text": [
      "[[1, 2, 0, 0, 0, 1], [0, 1, 2, 0, 1, 0]]\n"
     ]
    }
   ],
   "source": [
    "lista = [['User ID', 'Gender', 'Age', 'AnnualSalary', 'Purchased'],\n",
    "[385, 'Male', 35, 20000, 0],\n",
    "[681, 'Female', 51, 43500, 0],\n",
    "[353, 'Female', 59, 74000, 0],\n",
    "[896, 'Male', 30, 10500, 1],\n",
    "[382, 'Male', 29, 20000, 0],\n",
    "[682, 'Female', 60, 43500, 0],\n",
    "[351, 'Female', 35, 107500, 0],\n",
    "[894, 'Male', 56, 107500, 1]\n",
    "]\n",
    "\n",
    "print(distribucion_cliente(lista))"
   ]
  },
  {
   "cell_type": "markdown",
   "id": "a511149a",
   "metadata": {},
   "source": [
    "2. Para esta parte deberás programar la función prob_compra_edad(lista), esta función recibe como parámetro una lista en el formato anterior. La función deberá retornar un diccionario con key en rangos de edad de 10 años y value la probabilidad de que un cliente perteneciente a ese rango de edad compre un vehículo. Por ejemplo, si Lista es:\n",
    "\n",
    "\n",
    "```python\n",
    "lista = [['User ID', 'Gender', 'Age', 'AnnualSalary', 'Purchased'],\n",
    "[385, 'Male', 35, 20000, 0],\n",
    "[681, 'Male', 50, 43500, 0],\n",
    "[353, 'Male', 59, 74000, 0],\n",
    "[895, 'Male', 53, 107500, 1]\n",
    "]\n",
    "```\n",
    "La función deberá retornar:\n",
    "```python\n",
    "{\n",
    "'30-39': 0\n",
    "'50-59': 0.33\n",
    "}\n",
    "```\n",
    "Notar que los rango de edad van siempre en decenas (10-19,20-29, 30-39, 40-49,...). Además, los rangos que retornes deben contener solamente aquellos que tengan al menos un cliente en la lista recibida. (por ejemplo, en la lista anterior no mostramos el rango de edad 40-49, ya que no habían clientes con esa edad).\n",
    "\n",
    "La probabilidad de que un cliente perteneciente a un rango de edad compre un vehículo la calcularemos como:\n",
    "\n",
    "cantidad de clientes en el rango de edad que compraron vehículos / \n",
    "cantidad total de clientes en el rango de edad\n",
    "\n",
    "Por último, para facilitar la lectura de tus datos, las probabilidades de compra deben estar aproximadas al segundo decimal, para esto puedes utilizar la función round(x, k) de python. Esta función recibe un float x y un entero k, la función retorna el float x aproximado al k decimal.\n",
    "\n",
    "En este caso, como queremos aproximar al segundo decimal, podemos hacer:"
   ]
  },
  {
   "cell_type": "code",
   "execution_count": 13,
   "id": "a0646edf",
   "metadata": {},
   "outputs": [],
   "source": [
    "def prob_compra_edad(lista):    \n",
    "    total_purchases_by_group = dict()\n",
    "    total_customers_by_group = dict()\n",
    "\n",
    "    for person in lista[1:]:\n",
    "        _, _, age, _, purchased = person\n",
    "\n",
    "        start = (age // 10) * 10\n",
    "        end = start + 9\n",
    "        key = f\"{start}-{end}\"\n",
    "\n",
    "        if key not in total_purchases_by_group:\n",
    "            total_purchases_by_group[key] = 0\n",
    "            total_customers_by_group[key] = 0\n",
    "\n",
    "        total_customers_by_group[key] += 1\n",
    "        \n",
    "        if purchased == 1:\n",
    "            total_purchases_by_group[key] += 1\n",
    "\n",
    "    diccionario = dict()\n",
    "    for key in total_customers_by_group:\n",
    "        probabilidad = total_purchases_by_group[key] / total_customers_by_group[key]\n",
    "        diccionario[key] = round(probabilidad,2)\n",
    "    return diccionario\n",
    "        \n",
    "        "
   ]
  },
  {
   "cell_type": "code",
   "execution_count": 15,
   "id": "949d872b",
   "metadata": {},
   "outputs": [
    {
     "data": {
      "text/plain": [
       "{'30-39': 0.0, '50-59': 0.33}"
      ]
     },
     "execution_count": 15,
     "metadata": {},
     "output_type": "execute_result"
    }
   ],
   "source": [
    "lista = [['User ID', 'Gender', 'Age', 'AnnualSalary', 'Purchased'],\n",
    "[385, 'Male', 35, 20000, 0],\n",
    "[681, 'Male', 50, 43500, 0],\n",
    "[353, 'Male', 59, 74000, 0],\n",
    "[895, 'Male', 53, 107500, 1]\n",
    "]\n",
    "prob_compra_edad(lista)"
   ]
  },
  {
   "cell_type": "code",
   "execution_count": null,
   "id": "a5f68239",
   "metadata": {},
   "outputs": [],
   "source": []
  }
 ],
 "metadata": {
  "kernelspec": {
   "display_name": "da-py3.12",
   "language": "python",
   "name": "python3"
  },
  "language_info": {
   "codemirror_mode": {
    "name": "ipython",
    "version": 3
   },
   "file_extension": ".py",
   "mimetype": "text/x-python",
   "name": "python",
   "nbconvert_exporter": "python",
   "pygments_lexer": "ipython3",
   "version": "3.12.2"
  }
 },
 "nbformat": 4,
 "nbformat_minor": 5
}
