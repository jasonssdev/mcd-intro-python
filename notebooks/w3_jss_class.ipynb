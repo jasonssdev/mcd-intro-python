{
 "cells": [
  {
   "cell_type": "code",
   "execution_count": 1,
   "metadata": {},
   "outputs": [],
   "source": [
    "from collections import deque"
   ]
  },
  {
   "cell_type": "code",
   "execution_count": 8,
   "metadata": {},
   "outputs": [],
   "source": [
    "palindromos = [\n",
    "    'ojo', 'radar', 'orejero', 'anita lava la tina', 'luz azul',\n",
    "    'yo hago yoga hoy'\n",
    "]\n",
    "\n",
    "no_palindromos = ['tigre', 'pato', 'anita', 'mojado', 'secar la', 'silla']\n"
   ]
  },
  {
   "cell_type": "code",
   "execution_count": 4,
   "metadata": {},
   "outputs": [],
   "source": [
    "def es_palindromo(palabra):\n",
    "    stack = deque()\n",
    "    for letra in palabra:\n",
    "        if letra != \" \":\n",
    "            stack.append(letra)\n",
    "\n",
    "    for letra in palabra:\n",
    "        if letra != \" \":\n",
    "            letra_stack = stack.pop()\n",
    "            if letra != letra_stack:\n",
    "                return False\n",
    "    return True"
   ]
  },
  {
   "cell_type": "code",
   "execution_count": 9,
   "metadata": {},
   "outputs": [
    {
     "name": "stdout",
     "output_type": "stream",
     "text": [
      "False\n",
      "False\n",
      "False\n",
      "False\n",
      "False\n",
      "False\n"
     ]
    }
   ],
   "source": [
    "for palabra in no_palindromos:\n",
    "    print(es_palindromo(palabra))"
   ]
  },
  {
   "cell_type": "code",
   "execution_count": null,
   "metadata": {},
   "outputs": [],
   "source": []
  }
 ],
 "metadata": {
  "kernelspec": {
   "display_name": "da-py3.12",
   "language": "python",
   "name": "python3"
  },
  "language_info": {
   "codemirror_mode": {
    "name": "ipython",
    "version": 3
   },
   "file_extension": ".py",
   "mimetype": "text/x-python",
   "name": "python",
   "nbconvert_exporter": "python",
   "pygments_lexer": "ipython3",
   "version": "3.12.2"
  }
 },
 "nbformat": 4,
 "nbformat_minor": 2
}
