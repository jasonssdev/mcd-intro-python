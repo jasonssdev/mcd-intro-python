{
 "cells": [
  {
   "cell_type": "markdown",
   "id": "9be66070",
   "metadata": {},
   "source": [
    "Cada vez que realizas una compra en el supermercado tienes la opción de descargar la boleta de tu compra desde el sitio web. La información de cada boleta viene en un diccionario que posee las llaves 'fecha_compra', 'precio' y 'productos', donde cada una posee los siguientes valores:\n",
    "\n",
    "'fecha_compra': es un str con la fecha en que se realizó la compra, en el formato día-mes-año.\n",
    "\n",
    "'precio': es un int con el valor total de la compra.\n",
    "\n",
    "'productos': es un dict que contiene información de los productos comprados. En este diccionario, cada llave corresponde a un str con el nombre de un producto y cada valor corresponde a una tupla con dos elementos: un int con la cantidad comprada de ese producto y un int con el valor total pagado por ese/esos producto/s.\n",
    "\n",
    "Por ejemplo, una posible boleta podría ser:\n",
    "```\n",
    "{\n",
    "    'fecha_compra': '30-05-23',\n",
    "    'precio': 12000,\n",
    "    'productos': {\n",
    "        'Leche': (2, 2500),\n",
    "        'Chocolate': (1, 2000),\n",
    "        'Arroz': (5, 7500)\n",
    "    }\n",
    "}\n",
    "```\n",
    "Donde la compra fue realizada el 30-05-23, el valor total de esta fue de $12000 y se compraron 2 leches, 1 chocolate y 5 arroz.  \n",
    "\n",
    "Luego de realizar un par de compras, decides descargar todas tus boletas desde el sitio. Al hacer esto, el sitio te entrega una lista de diccionarios en el formato anterior. Por ejemplo, si has realizado tres compras, entonces el sitio podría entregar la siguiente lista: \n",
    "```\n",
    "[\n",
    "    {\n",
    "        'fecha_compra': '29-05-23',\n",
    "        'precio': 11800,\n",
    "        'productos': {\n",
    "            'Chocolate': (1, 2300),\n",
    "            'Mantequilla': (1, 2500),\n",
    "            'Huevos': (12, 4000),\n",
    "            'Pan': (1, 3000)\n",
    "        }\n",
    "    },\n",
    "    {\n",
    "        'fecha_compra': '31-05-23',\n",
    "        'precio': 5200,\n",
    "        'productos': {\n",
    "            'Pan': (1, 3000),\n",
    "            'Leche': (2, 2200)\n",
    "        }\n",
    "    },\n",
    "    {\n",
    "        'fecha_compra': '01-06-23',\n",
    "        'precio': 6800,\n",
    "        'productos': {\n",
    "            'Mantequilla': (2, 5000),\n",
    "            'Azúcar': (1, 1800)\n",
    "        }\n",
    "    }\n",
    "]\n",
    "```\n",
    "Una vez descargada esta información, decides crear un programa que calcule ciertas estadísticas sobre tus compras. Para esto decides implementar las siguientes funciones:  "
   ]
  },
  {
   "cell_type": "code",
   "execution_count": 1,
   "id": "40cafb6b",
   "metadata": {},
   "outputs": [],
   "source": [
    "boletas = [\n",
    "    {\n",
    "        'fecha_compra': '29-05-23',\n",
    "        'precio': 11800,\n",
    "        'productos': {\n",
    "            'Chocolate': (1, 2300),\n",
    "            'Mantequilla': (1, 2500),\n",
    "            'Huevos': (12, 4000),\n",
    "            'Pan': (1, 3000)\n",
    "        }\n",
    "    },\n",
    "    {\n",
    "        'fecha_compra': '31-05-23',\n",
    "        'precio': 5200,\n",
    "        'productos': {\n",
    "            'Pan': (1, 3000),\n",
    "            'Leche': (2, 2200)\n",
    "        }\n",
    "    },\n",
    "    {\n",
    "        'fecha_compra': '01-06-23',\n",
    "        'precio': 6800,\n",
    "        'productos': {\n",
    "            'Mantequilla': (2, 5000),\n",
    "            'Azúcar': (1, 1800)\n",
    "        }\n",
    "    }\n",
    "]"
   ]
  },
  {
   "cell_type": "code",
   "execution_count": 2,
   "id": "b79453b9",
   "metadata": {},
   "outputs": [
    {
     "data": {
      "text/plain": [
       "11800"
      ]
     },
     "execution_count": 2,
     "metadata": {},
     "output_type": "execute_result"
    }
   ],
   "source": [
    "type(boletas)\n",
    "len(boletas)\n",
    "type(boletas[0]['precio'])\n",
    "boletas[0]['precio']"
   ]
  },
  {
   "cell_type": "markdown",
   "id": "1af59dd8",
   "metadata": {},
   "source": [
    "Question 1\n",
    "\n",
    "```precio_total(boletas)```: Esta función recibe como parámetro una lista de boletas en el formato descrito anteriormente. La función deberá retornar un número entero con la suma total del precio de todas las compras. Para la lista de boletas del ejemplo anterior, la función debería retornar 23800."
   ]
  },
  {
   "cell_type": "code",
   "execution_count": 3,
   "id": "4c51bbc3",
   "metadata": {},
   "outputs": [
    {
     "name": "stdout",
     "output_type": "stream",
     "text": [
      "23800\n"
     ]
    }
   ],
   "source": [
    "def precio_total(boletas):\n",
    "    suma = 0\n",
    "    for boleta in boletas:\n",
    "        suma += boleta['precio']\n",
    "    return suma\n",
    "\n",
    "print(precio_total(boletas))"
   ]
  },
  {
   "cell_type": "markdown",
   "id": "fd9428f1",
   "metadata": {},
   "source": [
    "Question 2\n",
    "```precio_por_mes(boletas)```: Esta función recibe como parámetro una lista de boletas en el formato descrito anteriormente. La función deberá retornar un diccionario, donde cada llave es un mes-año donde se haya realizado al menos una compra y su valor es el precio total de compras realizadas en ese mes. Para la lista de boletas del ejemplo anterior, la función debería retornar: \n",
    "```\n",
    "{\n",
    "    '05-23': 17000,\n",
    "    '06-23': 6800,\n",
    "}\n",
    "```"
   ]
  },
  {
   "cell_type": "code",
   "execution_count": 4,
   "id": "b3416c30",
   "metadata": {},
   "outputs": [
    {
     "name": "stdout",
     "output_type": "stream",
     "text": [
      "05-23\n",
      "05-23\n",
      "06-23\n"
     ]
    }
   ],
   "source": [
    "for boleta in boletas:\n",
    "    print(boleta['fecha_compra'][3:])"
   ]
  },
  {
   "cell_type": "code",
   "execution_count": 26,
   "id": "0f4e35a8",
   "metadata": {},
   "outputs": [
    {
     "name": "stdout",
     "output_type": "stream",
     "text": [
      "{'Chocolate': (1, 2300), 'Mantequilla': (1, 2500), 'Huevos': (12, 4000), 'Pan': (1, 3000)}\n",
      "{'Pan': (1, 3000), 'Leche': (2, 2200)}\n",
      "{'Mantequilla': (2, 5000), 'Azúcar': (1, 1800)}\n"
     ]
    }
   ],
   "source": [
    "for boleta in boletas:\n",
    "    fecha, precio, productos = boleta.values()\n",
    "    print(productos)"
   ]
  },
  {
   "cell_type": "code",
   "execution_count": 6,
   "id": "af0f5f9c",
   "metadata": {},
   "outputs": [
    {
     "name": "stdout",
     "output_type": "stream",
     "text": [
      "{'05-23': 17000, '06-23': 6800}\n"
     ]
    }
   ],
   "source": [
    "def precio_por_mes(boletas):\n",
    "    d = dict()\n",
    "    for boleta in boletas:\n",
    "        fecha = boleta['fecha_compra'][3:]\n",
    "        precio = boleta['precio']\n",
    "        if fecha in d:\n",
    "            d[fecha] += precio\n",
    "        else:\n",
    "            d[fecha] = precio\n",
    "    return d\n",
    "\n",
    "print(precio_por_mes(boletas))"
   ]
  },
  {
   "cell_type": "markdown",
   "id": "38efecdb",
   "metadata": {},
   "source": [
    "Question 3\n",
    "\n",
    "```productos_frecuentes(boletas)```:  Esta función recibe como parámetro una lista de boletas en el formato descrito anteriormente. La función deberá retornar un set con aquellos productos que estén en al menos el 50% de las boletas, es decir, aquellos productos que se compraron en la mitad de todas las compras o más. Para la lista de boletas del ejemplo anterior, la función debería retornar:  \n",
    "```\n",
    "{'Pan', 'Mantequilla'}"
   ]
  },
  {
   "cell_type": "code",
   "execution_count": 11,
   "id": "2846f91c",
   "metadata": {},
   "outputs": [
    {
     "data": {
      "text/plain": [
       "2"
      ]
     },
     "execution_count": 11,
     "metadata": {},
     "output_type": "execute_result"
    }
   ],
   "source": [
    "at_least_50 = round(len(boletas)/2)\n",
    "at_least_50"
   ]
  },
  {
   "cell_type": "code",
   "execution_count": null,
   "id": "56f7e765",
   "metadata": {},
   "outputs": [
    {
     "name": "stdout",
     "output_type": "stream",
     "text": [
      "dict_keys(['Chocolate', 'Mantequilla', 'Huevos', 'Pan'])\n",
      "Chocolate\n",
      "Mantequilla\n",
      "Huevos\n",
      "Pan\n",
      "dict_keys(['Pan', 'Leche'])\n",
      "Pan\n",
      "Leche\n",
      "dict_keys(['Mantequilla', 'Azúcar'])\n",
      "Mantequilla\n",
      "Azúcar\n"
     ]
    }
   ],
   "source": [
    "for boleta in boletas:\n",
    "    s = set()\n",
    "    productos_boleta = boleta['productos'].keys()\n",
    "    print(productos_boleta)\n",
    "    for producto in productos_boleta:\n",
    "        print(producto)"
   ]
  },
  {
   "cell_type": "code",
   "execution_count": 36,
   "id": "daaaa3c9",
   "metadata": {},
   "outputs": [
    {
     "name": "stdout",
     "output_type": "stream",
     "text": [
      "{'Pan', 'Mantequilla'}\n"
     ]
    }
   ],
   "source": [
    "def productos_frecuentes(boletas):\n",
    "    cincuenta_porciento = round(len(boletas)/2)\n",
    "    contador = {}\n",
    "    c = set()\n",
    "    for boleta in boletas:\n",
    "        productos_boleta = set(boleta['productos'].keys())\n",
    "        for producto in productos_boleta:\n",
    "            if producto in contador:\n",
    "                contador[producto] += 1\n",
    "            else:\n",
    "                contador[producto] = 1\n",
    "\n",
    "    for producto, cuenta in contador.items():\n",
    "        if cuenta >= cincuenta_porciento:\n",
    "            c.add(producto)\n",
    "\n",
    "    return c\n",
    "\n",
    "print(productos_frecuentes(boletas))"
   ]
  },
  {
   "cell_type": "markdown",
   "id": "5a8364ad",
   "metadata": {},
   "source": [
    "4.\n",
    "Question 4\n",
    "```gasto_productos(boletas)```: Esta función recibe como parámetro una lista de boletas en el formato descrito anteriormente. La función deberá calcular el precio total gastado en cada producto y retornarlo como un diccionario donde cada llave es el nombre de un producto y cada valor es el gasto total en ese producto. Para la lista de boletas del ejemplo anterior, la función debería retornar: \n",
    "```\n",
    "{\n",
    "    'Mantequilla': 7500,\n",
    "    'Pan': 6000,\n",
    "    'Huevos': 4000,\n",
    "    'Chocolate': 2300,\n",
    "    'Leche': 2200,\n",
    "    'Azúcar': 1800\n",
    "}\n",
    "```"
   ]
  },
  {
   "cell_type": "code",
   "execution_count": 49,
   "id": "fbceff23",
   "metadata": {},
   "outputs": [
    {
     "name": "stdout",
     "output_type": "stream",
     "text": [
      "{'Chocolate': 2300, 'Mantequilla': 7500, 'Huevos': 4000, 'Pan': 6000, 'Leche': 2200, 'Azúcar': 1800}\n"
     ]
    }
   ],
   "source": [
    "def gasto_productos(boletas):\n",
    "    d = dict()\n",
    "    for boleta in boletas:\n",
    "        productos_boleta = boleta['productos']\n",
    "        for producto, tupla in productos_boleta.items():\n",
    "            if producto in d:\n",
    "                d[producto] += tupla[1]\n",
    "            else:\n",
    "                d[producto] = tupla[1]\n",
    "    return d\n",
    "\n",
    "print(gasto_productos(boletas))"
   ]
  },
  {
   "cell_type": "code",
   "execution_count": null,
   "id": "fbc7cf4e",
   "metadata": {},
   "outputs": [],
   "source": []
  }
 ],
 "metadata": {
  "kernelspec": {
   "display_name": "da-py3.12",
   "language": "python",
   "name": "python3"
  },
  "language_info": {
   "codemirror_mode": {
    "name": "ipython",
    "version": 3
   },
   "file_extension": ".py",
   "mimetype": "text/x-python",
   "name": "python",
   "nbconvert_exporter": "python",
   "pygments_lexer": "ipython3",
   "version": "3.12.2"
  }
 },
 "nbformat": 4,
 "nbformat_minor": 5
}
