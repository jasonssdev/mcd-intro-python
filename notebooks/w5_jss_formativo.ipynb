{
 "cells": [
  {
   "cell_type": "markdown",
   "id": "07d7b6de",
   "metadata": {},
   "source": [
    ".\n",
    "Question 1\n",
    "Tienes la clase:\n",
    "\n",
    "\n",
    "```python\n",
    "class Estudiante:\n",
    "    def __init__(self, nombre, notas)\n",
    "        self.nombre = nombre\n",
    "        self.notas = notas\n",
    "```\n",
    "Si sabemos que nombre es un string y notas es una lista de floats, por ejemplo, notas puedes ser [6.2, 5.5,4.8]. Al imprimir esta clase quieres que se imprima lo siguiente:\n",
    "Nota mínima X - Nota máxima Y\n",
    "Por ejemplo, si tienes una Estudiante Alicia con las notas [6.2, 5.5, 4.8]. Entonces deberá imprimir:\n",
    "Nota mínima 4.8 - Nota máxima 6.2\n",
    "\n",
    "¿Cuál de los siguientes códigos hace lo pedido?"
   ]
  },
  {
   "cell_type": "code",
   "execution_count": 5,
   "id": "dd1a9ded",
   "metadata": {},
   "outputs": [],
   "source": [
    "class Estudiante:\n",
    "\n",
    "    def __init__(self, nombre, notas):\n",
    "        self.nombre = nombre\n",
    "        self.notas = notas\n",
    "\n",
    "    def __str__(self):\n",
    "        nota_minima = min(self.notas)\n",
    "        nota_maxima = max(self.notas)\n",
    "        text = f\"Nota Minima: {nota_minima} - Nota Maxima: {nota_maxima}\"\n",
    "        return text"
   ]
  },
  {
   "cell_type": "code",
   "execution_count": 6,
   "id": "5d4d5720",
   "metadata": {},
   "outputs": [
    {
     "name": "stdout",
     "output_type": "stream",
     "text": [
      "Nota Minima: 5 - Nota Maxima: 8\n",
      "Nota Minima: 7 - Nota Maxima: 10\n"
     ]
    }
   ],
   "source": [
    "e1 = Estudiante(\"Juan\", [5, 6, 7, 8])\n",
    "e2 = Estudiante(\"Maria\", [8, 9, 10, 7])\n",
    "print(e1)\n",
    "print(e2)"
   ]
  },
  {
   "cell_type": "markdown",
   "id": "4fc6ee46",
   "metadata": {},
   "source": [
    "2.\n",
    "Question 2\n",
    "Dada la definición de Estudiante vista en clases:\n",
    "\n",
    "```python\n",
    "class Estudiante:\n",
    "    def __init__(self,n,p,f):\n",
    "        self.nombre = n\n",
    "        self.parcial = p\n",
    "        self.final = f\n",
    "```\n",
    "Cuál es los siguientes códigos le agrega correctamente a la clase el método recorreccion_parcial(self, nota_nueva), el cuál recibe como parámetro la nota recorregida de la evaluación parcial del alumno. El método debe reemplazar la nota del parcial que tenía el alumno por la nota nota_nueva."
   ]
  },
  {
   "cell_type": "code",
   "execution_count": 7,
   "id": "83f7e9d5",
   "metadata": {},
   "outputs": [],
   "source": [
    "class Estudiante:\n",
    "\n",
    "    def __init__(self, n, p, f):\n",
    "        self.nombre = n\n",
    "        self.parcial = p\n",
    "        self.final = f\n",
    "\n",
    "def recorrecion_parcial(self, nota_nueva):\n",
    "    self.parcial = nota_nueva"
   ]
  },
  {
   "cell_type": "markdown",
   "id": "de1dcf8b",
   "metadata": {},
   "source": [
    "3.\n",
    "Question 3\n",
    "Dada la definición de Carta vista en clases:\n",
    "```python\n",
    "class Carta:\n",
    "    def __init__(self, n, p)\n",
    "        self.num = n\n",
    "        self.pinta = p\n",
    "```\n",
    "Quieres imprimir una carta como el número seguido su pinta, por ejemplo el 7 de corazones lo imprimimos como: 7 Corazones\n",
    "\n",
    "¿Cuál de los siguientes código define correctamente el __str__ para que se impriman las cartas de la manera pedida?"
   ]
  },
  {
   "cell_type": "code",
   "execution_count": 12,
   "id": "5a1e93f6",
   "metadata": {},
   "outputs": [],
   "source": [
    "class Carta:\n",
    "\n",
    "    def __init__(self, n, p):\n",
    "        self.num = n\n",
    "        self.pinta = p\n",
    "    def __str__(self):\n",
    "        return f\"{self.num} {self.pinta}\""
   ]
  },
  {
   "cell_type": "code",
   "execution_count": 13,
   "id": "af78d1cd",
   "metadata": {},
   "outputs": [
    {
     "name": "stdout",
     "output_type": "stream",
     "text": [
      "1 corazones\n",
      "2 diamantes\n"
     ]
    }
   ],
   "source": [
    "c1 = Carta(1, \"corazones\")\n",
    "c2 = Carta(2, \"diamantes\")\n",
    "\n",
    "print(c1)\n",
    "print(c2)"
   ]
  },
  {
   "cell_type": "markdown",
   "id": "5b931c53",
   "metadata": {},
   "source": [
    "```python\n",
    "class Estudiante:\n",
    "    def __init__(self, n)\n",
    "        self.nombre = n\n",
    "        self.notas = []\n",
    "\n",
    "    def nota_final(self):\n",
    "        if len(self.notas) < 4:\n",
    "            return “Error: faltan notas”\n",
    "        if len(self.notas) > 6:\n",
    "            return “Error: Demasiadas notas”\n",
    "        for nota in self.notas:\n",
    "            if nota < 1 or nota > 7:\n",
    "                return “Error: Nota inválida”\n",
    "        return sum(self.notas) / len(self.notas)\n",
    "\n",
    "a = Estudiante(‘Alicia’)\n",
    "a.notas.append(5.0)\n",
    "a.notas.append(5.0)\n",
    "a.notas.append(7.0)\n",
    "a.notas.append(2.0)\n",
    "a.notas.append(1.0)\n",
    "print(a.nota_final())\n",
    "```\n",
    "¿Qué imprimirá el código anterior?"
   ]
  },
  {
   "cell_type": "code",
   "execution_count": 14,
   "id": "b9e3cccf",
   "metadata": {},
   "outputs": [
    {
     "name": "stdout",
     "output_type": "stream",
     "text": [
      "4.0\n"
     ]
    }
   ],
   "source": [
    "class Estudiante:\n",
    "    def __init__(self, n):\n",
    "        self.nombre = n\n",
    "        self.notas = []\n",
    "\n",
    "    def nota_final(self):\n",
    "        if len(self.notas) < 4:\n",
    "            return \"Error: faltan notas\"\n",
    "        if len(self.notas) > 6:\n",
    "            return \"Error: Demasiadas notas\"\n",
    "        for nota in self.notas:\n",
    "            if nota < 1 or nota > 7:\n",
    "                return \"Error: Nota inválida\"\n",
    "        return sum(self.notas) / len(self.notas)\n",
    "\n",
    "a = Estudiante('Alicia')\n",
    "a.notas.append(5.0)\n",
    "a.notas.append(5.0)\n",
    "a.notas.append(7.0)\n",
    "a.notas.append(2.0)\n",
    "a.notas.append(1.0)\n",
    "print(a.nota_final())"
   ]
  },
  {
   "cell_type": "markdown",
   "id": "eb257b38",
   "metadata": {},
   "source": [
    "Question 5\n",
    "Tienes la siguiente clase ya definida:\n",
    "```python\n",
    "class Gato:\n",
    "    def __init__(self):\n",
    "        self.tablero = [[' ']*3,\n",
    "                        [' '] * 3,\n",
    "                        [' '] * 3]\n",
    "```\n",
    "Esta clase representa un juego de Gato, donde inicialmente hay un tablero vacío. Esta clase necesita el método jugada(self, fila, columna, figura), el cuál recibe como parámetros dos enteros (fila y columna) y un string figura. El método deberá asegurarse de lo siguientes:\n",
    "\n",
    "fila y columna deben ser enteros entre 0 y 2 inclusive.\n",
    "figura tiene que ser un string de un solo carácter\n",
    "la posición del tablero debe estár vacía (ser un string inicial del tablero)\n",
    "\n",
    "Si no se cumple alguna de estas condiciones, la función deberá retornar False. En caso de que se cumplan todas las condiciones se deberá actualizar el tablero con la jugada y retornar True. ¿Cuál de los siguientes códigos define el método correctamente?"
   ]
  },
  {
   "cell_type": "code",
   "execution_count": 22,
   "id": "2e92f49d",
   "metadata": {},
   "outputs": [],
   "source": [
    "class Gato:\n",
    "\n",
    "    def __init__(self):\n",
    "        self.tablero = [[' '] * 3, [' '] * 3, [' '] * 3]\n",
    "\n",
    "    def jugada(self, fila, columna, figura):\n",
    "        if (fila or columna) < 0 or (fila or columna) < 2:\n",
    "            return False\n",
    "        elif len(figura) != 1 or self.tablero[fila][columna] != ' ':\n",
    "            return False\n",
    "        else:\n",
    "            self.tablero[fila][columna] = figura\n",
    "            return True\n",
    "\n",
    "    def __str__(self):\n",
    "        text = \"\"\n",
    "        for i in range(3):\n",
    "            for j in range(3):\n",
    "                text += self.tablero[i][j]\n",
    "            text += \"\\n\"\n",
    "        return text"
   ]
  },
  {
   "cell_type": "code",
   "execution_count": 23,
   "id": "be90ba1d",
   "metadata": {},
   "outputs": [
    {
     "name": "stdout",
     "output_type": "stream",
     "text": [
      "   \n",
      "   \n",
      "   \n",
      "\n"
     ]
    }
   ],
   "source": [
    "g1 = Gato()\n",
    "print(g1)"
   ]
  },
  {
   "cell_type": "code",
   "execution_count": 24,
   "id": "87a199f1",
   "metadata": {},
   "outputs": [
    {
     "name": "stdout",
     "output_type": "stream",
     "text": [
      "False\n"
     ]
    }
   ],
   "source": [
    "jugada = g1.jugada(0, 0, 'X')\n",
    "print(jugada)"
   ]
  },
  {
   "cell_type": "code",
   "execution_count": 25,
   "id": "cb063a71",
   "metadata": {},
   "outputs": [
    {
     "name": "stdout",
     "output_type": "stream",
     "text": [
      "   \n",
      "   \n",
      "   \n",
      "\n"
     ]
    }
   ],
   "source": [
    "print(g1)"
   ]
  },
  {
   "cell_type": "code",
   "execution_count": 26,
   "id": "735e2329",
   "metadata": {},
   "outputs": [
    {
     "name": "stdout",
     "output_type": "stream",
     "text": [
      "False\n",
      "   \n",
      "   \n",
      "   \n",
      "\n",
      "False\n",
      "   \n",
      "   \n",
      "   \n",
      "\n",
      "True\n",
      "  X\n",
      "   \n",
      "   \n",
      "\n"
     ]
    }
   ],
   "source": [
    "jugada = g1.jugada(0, 0, 'X')\n",
    "print(jugada)\n",
    "print(g1)\n",
    "jugada = g1.jugada(0, 1, 'X')\n",
    "print(jugada)\n",
    "print(g1)\n",
    "jugada = g1.jugada(0, 2, 'X')\n",
    "print(jugada)\n",
    "print(g1)"
   ]
  },
  {
   "cell_type": "code",
   "execution_count": null,
   "id": "bfc2891e",
   "metadata": {},
   "outputs": [],
   "source": []
  }
 ],
 "metadata": {
  "kernelspec": {
   "display_name": "da-py3.12",
   "language": "python",
   "name": "python3"
  },
  "language_info": {
   "codemirror_mode": {
    "name": "ipython",
    "version": 3
   },
   "file_extension": ".py",
   "mimetype": "text/x-python",
   "name": "python",
   "nbconvert_exporter": "python",
   "pygments_lexer": "ipython3",
   "version": "3.12.2"
  }
 },
 "nbformat": 4,
 "nbformat_minor": 5
}
