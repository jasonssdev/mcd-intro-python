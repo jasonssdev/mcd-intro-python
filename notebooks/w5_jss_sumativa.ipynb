{
 "cells": [
  {
   "cell_type": "markdown",
   "id": "985f40e1",
   "metadata": {},
   "source": [
    "1. Question 1\n",
    "define la clase Planta, la cuál en su constructor recibe los parámetros: especie (str) y altura (int) y guarda la información en atributos con los mismos nombres. Tu código deberá ejecutarse correctamente con un código como el siguiente:\n",
    "\n",
    "\n",
    "```python\n",
    "a = Planta( 'Washingtonia filifera', 15 )\n",
    "print(a.especie)\n",
    "print(a.altura)\n",
    "```\n",
    "Si se ejecuta el código anterior, este deberá imprimir:\n",
    "\n",
    "Washingtonia filifera\n",
    "15"
   ]
  },
  {
   "cell_type": "code",
   "execution_count": 1,
   "id": "4847f37d",
   "metadata": {},
   "outputs": [
    {
     "name": "stdout",
     "output_type": "stream",
     "text": [
      "Washingtonia filifera\n",
      "15\n"
     ]
    }
   ],
   "source": [
    "class Planta:\n",
    "    def __init__(self, especie: str, altura: int):\n",
    "        self.especie = especie\n",
    "        self.altura = altura\n",
    "\n",
    "a = Planta( 'Washingtonia filifera', 15 )\n",
    "print(a.especie)\n",
    "print(a.altura)"
   ]
  },
  {
   "cell_type": "markdown",
   "id": "256918f7",
   "metadata": {},
   "source": [
    "2. Question 2\n",
    "define la clase Casa, la cuál en su constructor recibe los parámetros: dirección (str), piezas (int), baños (int), metros_cuadrados (float) y urbana (bool) y guarda la información. Además, deberás definir el método precio(self) de Casa, el cuál no recibe parámetros y retorna el precio de la casa. El precio se calcula como:\n",
    "\n",
    "\n",
    "* Si es urbana: (piezas + baños) * metros_cuadrados + 100\n",
    "* Si no es urbana: (piezas + baños) * metros_cuadrados \n",
    "\n",
    "Tu código deberá ejecutarse correctamente con un código como el siguiente:\n",
    "\n",
    "\n",
    "```python\n",
    "c1 = Casa('Frente al mall 321', 1, 1, 20.0, True)\n",
    "c2 = Casa('Frente al lago 123', 2, 2, 50.0, False)\n",
    "\n",
    "print(c1.precio())\n",
    "print(c2.precio())\n",
    "```\n",
    "Si se ejecuta el código anterior, este deberá imprimir:\n",
    "```\n",
    "140.0\n",
    "200.0\n",
    "```"
   ]
  },
  {
   "cell_type": "code",
   "execution_count": 2,
   "id": "0e651a3f",
   "metadata": {},
   "outputs": [
    {
     "name": "stdout",
     "output_type": "stream",
     "text": [
      "140.0\n",
      "200.0\n"
     ]
    }
   ],
   "source": [
    "class Casa:\n",
    "    def __init__(self, direccion, piezas, baños, metros_cuadrados, urbana):\n",
    "        self.direccion = direccion\n",
    "        self.piezas = piezas\n",
    "        self.baños = baños\n",
    "        self.metros_cuadrados = metros_cuadrados\n",
    "        self.urbana = urbana\n",
    "\n",
    "    def precio(self):\n",
    "        if self.urbana:\n",
    "            precio_urbana = (self.piezas +\n",
    "                             self.baños) * self.metros_cuadrados + 100\n",
    "            return precio_urbana\n",
    "        else:\n",
    "            precio_no_urbana = (self.piezas +\n",
    "                                self.baños) * self.metros_cuadrados\n",
    "            return precio_no_urbana\n",
    "\n",
    "c1 = Casa('Frente al mall 321', 1, 1, 20.0, True)\n",
    "c2 = Casa('Frente al lago 123', 2, 2, 50.0, False)\n",
    "\n",
    "print(c1.precio())\n",
    "print(c2.precio())"
   ]
  },
  {
   "cell_type": "markdown",
   "id": "2ee37e12",
   "metadata": {},
   "source": [
    "3. Question 3\n",
    "Estás digitalizando la información de tu restaurante, para manejar la información del menú decides crear la clase Menu. La clase deberá recibir los parámetros: comidas (lista de strings) y precios (lista de ints del mismo largo que la lista comidas). Además, deberás definir el método __str__(self), este método deberá retornar tantas líneas como comidas tenga el menú, donde cada línea deberá ser una comida seguida de dos puntos y su precio.\n",
    "Tu código deberá ejecutarse correctamente con un código como el siguiente:\n",
    "\n",
    "\n",
    "```python\n",
    "comidas = ['Pato a la mostaza', 'Hamburguesa', 'Ensalada', 'Lasagna']\n",
    "precios = [20000, 8000, 6000, 9000]\n",
    "menu = Menu(comidas, precios)\n",
    "\n",
    "print(menu)\n",
    "```\n",
    "\n",
    "Si se ejecuta el código anterior, este deberá imprimir:\n",
    "```\n",
    "Pato a la mostaza: 20000\n",
    "Hamburguesa: 8000\n",
    "Ensalada: 6000\n",
    "Lasagna: 9000\n",
    "```"
   ]
  },
  {
   "cell_type": "code",
   "execution_count": 3,
   "id": "e3c5cbac",
   "metadata": {},
   "outputs": [
    {
     "name": "stdout",
     "output_type": "stream",
     "text": [
      "Pato a la mostaza: 20000\n",
      "Hamburguesa: 8000\n",
      "Ensalada: 6000\n",
      "Lasagna: 9000\n"
     ]
    }
   ],
   "source": [
    "class Menu:\n",
    "    def __init__(self, comidas: list[str], precios: list[int]):\n",
    "        self.comidas = comidas\n",
    "        self.precios = precios\n",
    "\n",
    "    def __str__(self):\n",
    "        return \"\\n\".join([f\"{comida}: {precio}\" for comida, precio in zip(self.comidas, self.precios)])\n",
    "\n",
    "comidas = ['Pato a la mostaza', 'Hamburguesa', 'Ensalada', 'Lasagna']\n",
    "precios = [20000, 8000, 6000, 9000]\n",
    "menu = Menu(comidas, precios)\n",
    "\n",
    "print(menu)"
   ]
  },
  {
   "cell_type": "markdown",
   "id": "f4204ed7",
   "metadata": {},
   "source": [
    "4. Question 4\n",
    "Estás programando un videojuego, para facilitar el manejo de enemigos decides crear tu propia clase. Define la clase Enemigo, la cuál en su constructor recibe los parámetros: nombre (str), vida (float) y fuerza_ataque (float); el constructor deberá guardar esa información en atributos con los mismos nombres.\n",
    "\n",
    "Además tu clase deberá tener los siguientes métodos:\n",
    "\n",
    "recibir_ataque(self, daño): este método deberá descontar daño de la vida del enemigo, considerando que la vida nunca puede ser menor a 0.\n",
    "\n",
    "atacar(self, otro): este método recibe como parámetro otro enemigo. El monstruo deberá hacer daño igual a su fuerza de ataque al monstruo recibido, considerando que la vida nunca puede ser menor a 0.\n",
    "\n",
    "__str__(self): este método deberá retornar el nombre del monstruo seguido de un \" - \" (note los espacios \" \" entre antes y después del \"-\") y su vida actual.\n",
    "\n",
    "Tu código deberá ejecutarse correctamente con un código como el siguiente:\n",
    "\n",
    "```python\n",
    "a = Enemigo( 'Esqueleto', 8, 6 )\n",
    "b = Enemigo( 'Zombie', 10, 5 )\n",
    "print(a)\n",
    "print(b)\n",
    "\n",
    "a.recibir_ataque(5)\n",
    "print(a)\n",
    "\n",
    "a.atacar(b)\n",
    "print(b)\n",
    "\n",
    "a.atacar(b)\n",
    "print(b)\n",
    "```\n",
    "\n",
    "Si se ejecuta el código anterior, este deberá imprimir:\n",
    "```\n",
    "Esqueleto - 8\n",
    "Zombie - 10\n",
    "Esqueleto - 3\n",
    "Zombie - 4\n",
    "Zombie - 0\n",
    "```"
   ]
  },
  {
   "cell_type": "code",
   "execution_count": 7,
   "id": "509c6de5",
   "metadata": {},
   "outputs": [
    {
     "name": "stdout",
     "output_type": "stream",
     "text": [
      "Esqueleto - 8\n",
      "Zombie - 10\n",
      "Esqueleto - 3\n",
      "Zombie - 4\n",
      "Zombie - 0\n"
     ]
    }
   ],
   "source": [
    "class Enemigo:\n",
    "\n",
    "    def __init__(self, nombre, vida, fuerza_ataque):\n",
    "        self.nombre = nombre\n",
    "        self.vida = vida\n",
    "        self.fuerza_ataque = fuerza_ataque\n",
    "\n",
    "    def recibir_ataque(self, daño):\n",
    "        self.vida -= daño\n",
    "        if self.vida < 0:\n",
    "            self.vida = 0\n",
    "\n",
    "    def atacar(self, otro):\n",
    "        otro.vida -= self.fuerza_ataque\n",
    "        if otro.vida < 0:\n",
    "            otro.vida = 0\n",
    "\n",
    "    def __str__(self):\n",
    "        return f\"{self.nombre} - {self.vida}\"\n",
    "\n",
    "a = Enemigo( 'Esqueleto', 8, 6 )\n",
    "b = Enemigo( 'Zombie', 10, 5 )\n",
    "print(a)\n",
    "print(b)\n",
    "\n",
    "a.recibir_ataque(5)\n",
    "print(a)\n",
    "\n",
    "a.atacar(b)\n",
    "print(b)\n",
    "\n",
    "a.atacar(b)\n",
    "print(b)"
   ]
  },
  {
   "cell_type": "code",
   "execution_count": null,
   "id": "204b4d99",
   "metadata": {},
   "outputs": [],
   "source": []
  }
 ],
 "metadata": {
  "kernelspec": {
   "display_name": "da-py3.12",
   "language": "python",
   "name": "python3"
  },
  "language_info": {
   "codemirror_mode": {
    "name": "ipython",
    "version": 3
   },
   "file_extension": ".py",
   "mimetype": "text/x-python",
   "name": "python",
   "nbconvert_exporter": "python",
   "pygments_lexer": "ipython3",
   "version": "3.12.2"
  }
 },
 "nbformat": 4,
 "nbformat_minor": 5
}
