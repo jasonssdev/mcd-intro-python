{
 "cells": [
  {
   "cell_type": "markdown",
   "metadata": {},
   "source": [
    "Tienes la siguiente lista de listas: \n",
    "```\n",
    "lista = [\n",
    "    ['A1', 'B1', 'C1', 'D1'],\n",
    "    ['A2', 'B2', 'C2', 'D2'],\n",
    "    ['A3', 'B7', 'C3', 'D3'],\n",
    "    ['A4', 'B4', 'C4', 'D4']\n",
    "]\n",
    "```\n",
    "Luego de crearla te das cuenta que en lugar de poner B3 pusiste B7. "
   ]
  },
  {
   "cell_type": "code",
   "execution_count": 1,
   "metadata": {},
   "outputs": [
    {
     "name": "stdout",
     "output_type": "stream",
     "text": [
      "[['A1', 'B1', 'C1', 'D1'], ['A2', 'B2', 'C2', 'D2'], ['A3', 'B3', 'C3', 'D3'], ['A4', 'B4', 'C4', 'D4']]\n"
     ]
    }
   ],
   "source": [
    "lista = [['A1', 'B1', 'C1', 'D1'], ['A2', 'B2', 'C2', 'D2'],\n",
    "         ['A3', 'B7', 'C3', 'D3'], ['A4', 'B4', 'C4', 'D4']]\n",
    "\n",
    "lista[2][1] = 'B3'\n",
    "print(lista)"
   ]
  },
  {
   "cell_type": "markdown",
   "metadata": {},
   "source": [
    "Question 2\n",
    "Acaban de terminar las elecciones presidenciales y dices crear un programa en Python para contar los votos. Tienes una lista de listas donde cada elemento de esta lista es una lista con 2 valores: el nombre de un candidato y la cantidad de votos que recibió. Por ejemplo:\n",
    "```\n",
    "votos = [\n",
    "    ['Alicia', 35],\n",
    "    ['Bob', 42],\n",
    "    ['Carlos', 29],\n",
    "    ['David', 33]\n",
    "]\n",
    "```\n",
    "¿Cuál de los siguientes códigos imprime correctamente el nombre del candidato que recibió la mayor cantidad de votos?"
   ]
  },
  {
   "cell_type": "code",
   "execution_count": 3,
   "metadata": {},
   "outputs": [
    {
     "name": "stdout",
     "output_type": "stream",
     "text": [
      "David\n"
     ]
    }
   ],
   "source": [
    "votos = [['Alicia', 35], ['Bob', 42], ['Carlos', 29], ['David', 43]]\n",
    "\n",
    "mejor = ['', 0]\n",
    "\n",
    "for candidato in votos:\n",
    "    if candidato[1] > mejor[1]:\n",
    "        mejor = candidato\n",
    "print(mejor[0])"
   ]
  },
  {
   "cell_type": "markdown",
   "metadata": {},
   "source": [
    "Question 3\n",
    "Tienes la siguiente lista de listas con números:\n",
    "```\n",
    "lista = [\n",
    "    [-1, 2, -5, 40],\n",
    "    [9, 65, -6, -34],\n",
    "    [0, -4, 9, 2]\n",
    "]\n",
    "```\n",
    "Sin embargo, te acaban de mencionar que los datos deben tener como valor mínimo 0. \n",
    "\n",
    "¿Cuál de los siguientes códigos reemplaza todos los valores negativos en la lista por 0?"
   ]
  },
  {
   "cell_type": "code",
   "execution_count": 20,
   "metadata": {},
   "outputs": [
    {
     "name": "stdout",
     "output_type": "stream",
     "text": [
      "[[0, 2, 0, 40], [9, 65, 0, 0], [0, 0, 9, 2]]\n"
     ]
    }
   ],
   "source": [
    "lista = [[-1, 2, -5, 40], [9, 65, -6, -34], [0, -4, 9, 2]]\n",
    "\n",
    "for i in range(len(lista)):\n",
    "    for j in range(len(lista[i])):\n",
    "        if lista[i][j] < 0:\n",
    "            lista[i][j] = 0\n",
    "\n",
    "print(lista)\n"
   ]
  },
  {
   "cell_type": "markdown",
   "metadata": {},
   "source": [
    "Question 4\n",
    "Tienes la siguiente lista de listas:\n",
    "```\n",
    "lista = [\n",
    "    ['', 'YYZZ', 'ZY', ''],\n",
    "    ['YZZY', 'YY', 'Y', 'YZYY'],\n",
    "    ['Y', 'YZ', 'YZ', 'Y']\n",
    "]\n",
    "```\n",
    "Quieres imprimir el número total de 'Y' que hay en la lista.\n",
    "\n",
    "¿Cuál de los siguientes códigos imprime el número correcto?"
   ]
  },
  {
   "cell_type": "code",
   "execution_count": null,
   "metadata": {},
   "outputs": [
    {
     "name": "stdout",
     "output_type": "stream",
     "text": [
      "15\n",
      "15\n"
     ]
    }
   ],
   "source": [
    "lista = [['', 'YYZZ', 'ZY', ''],\n",
    "        ['YZZY', 'YY', 'Y', 'YZYY'],\n",
    "        ['Y', 'YZ', 'YZ', 'Y']]\n",
    "\n",
    "cuenta = 0\n",
    "\n",
    "for i in range(len(lista)):\n",
    "    for j in range(len(lista[i])): #lista[i] index\n",
    "        string = lista[i][j]\n",
    "        cuenta += string.count('Y')\n",
    "\n",
    "\n",
    "print(cuenta)\n",
    "\n",
    "counter = 0\n",
    "for fila in lista:\n",
    "    for dato in fila:\n",
    "        counter += dato.count('Y')\n",
    "\n",
    "print(counter)"
   ]
  },
  {
   "cell_type": "markdown",
   "metadata": {},
   "source": [
    "5.\n",
    "Question 5\n",
    "Tus amigos deciden organizar una completada (para comer hot dogs). Para evitar que todos traigan ketchup y nadie salchichas decides crear un programa en python que verifique variedad de ingredientes. Tienes una lista de lista con los ingredientes que tiene cada uno de tus 4 amigos.\n",
    "```\n",
    "ingredientes_amigos = [\n",
    "    ['Pan', 'Salchichas', 'Mostaza', 'Ketchup'],\n",
    "    ['Pan', 'Tomate', 'Chucrut'],\n",
    "    ['Ketchup', 'Salchichas'],\n",
    "    ['Chucrut', 'Pan']\n",
    "]\n",
    "```\n",
    "Además tienes una lista con tus ingredientes favoritos para los completos: \n",
    "\n",
    "```ingredientes_favoritos = ['Pan', 'Tomate', 'Salchichas', 'Chucrut', 'Mostaza', 'Ketchup', 'Mayonesa', 'Palta']```\n",
    "\n",
    "Quieres imprimir una lista con todos los ingredientes de tus ingredientes favoritos que no tienen tus amigos para comprarlos tú y poder comer tus completos como a ti te gusta.\n",
    "\n",
    "¿Cuál de los siguientes códigos hace correctamente lo pedido?"
   ]
  },
  {
   "cell_type": "code",
   "execution_count": 30,
   "metadata": {},
   "outputs": [
    {
     "name": "stdout",
     "output_type": "stream",
     "text": [
      "['Mayonesa', 'Palta']\n"
     ]
    }
   ],
   "source": [
    "ingredientes_amigos = [['Pan', 'Salchichas', 'Mostaza', 'Ketchup'],\n",
    "                       ['Pan', 'Tomate', 'Chucrut'], ['Ketchup', 'Salchichas'],\n",
    "                       ['Chucrut', 'Pan']]\n",
    "\n",
    "ingredientes_favoritos = [\n",
    "    'Pan', 'Tomate', 'Salchichas', 'Chucrut', 'Mostaza', 'Ketchup', 'Mayonesa',\n",
    "    'Palta'\n",
    "]\n",
    "\n",
    "ingredientes_faltantes = []\n",
    "\n",
    "for amigo in ingredientes_amigos:\n",
    "    for ingrediente in amigo:\n",
    "        if ingrediente in ingredientes_favoritos:\n",
    "            ingredientes_favoritos.remove(ingrediente)\n",
    "\n",
    "print(ingredientes_favoritos)"
   ]
  },
  {
   "cell_type": "markdown",
   "metadata": {},
   "source": [
    "6.\n",
    "Question 6\n",
    "Tienes una lista de listas, donde todas las listas interiores contienen los mismos números. Además, todas las listas interiores contienen los números en el mismo orden, excepto una. Por ejemplo: \n",
    "```\n",
    "lista = [\n",
    "    [0, 1, 2, 3, 4],\n",
    "    [0, 1, 2, 3, 4],\n",
    "    [0, 1, 2, 3, 4],\n",
    "    [0, 1, 2, 3, 4],\n",
    "    [4, 0, 2, 3, 1],\n",
    "    [0, 1, 2, 3, 4],\n",
    "    [0, 1, 2, 3, 4]\n",
    "]\n",
    "```\n",
    "¿Cuál de los siguientes códigos imprime la lista interior que es diferente? "
   ]
  },
  {
   "cell_type": "code",
   "execution_count": 40,
   "metadata": {},
   "outputs": [
    {
     "name": "stdout",
     "output_type": "stream",
     "text": [
      "[4, 0, 2, 3, 1]\n",
      "[4, 0, 2, 3, 1]\n"
     ]
    }
   ],
   "source": [
    "lista = [[0, 1, 2, 3, 4], [0, 1, 2, 3, 4], [0, 1, 2, 3, 4], [0, 1, 2, 3, 4],\n",
    "         [4, 0, 2, 3, 1], [0, 1, 2, 3, 4], [0, 1, 2, 3, 4]]\n",
    "\n",
    "for lista_interior in lista:\n",
    "    if lista_interior != lista[0]:\n",
    "        print(lista_interior)\n",
    "\n",
    "\n",
    "for lista_int in lista:\n",
    "    if lista.count(lista_int) == 1:\n",
    "        print(lista_int)"
   ]
  },
  {
   "cell_type": "code",
   "execution_count": null,
   "metadata": {},
   "outputs": [],
   "source": []
  }
 ],
 "metadata": {
  "kernelspec": {
   "display_name": "da-py3.12",
   "language": "python",
   "name": "python3"
  },
  "language_info": {
   "codemirror_mode": {
    "name": "ipython",
    "version": 3
   },
   "file_extension": ".py",
   "mimetype": "text/x-python",
   "name": "python",
   "nbconvert_exporter": "python",
   "pygments_lexer": "ipython3",
   "version": "3.12.9"
  }
 },
 "nbformat": 4,
 "nbformat_minor": 2
}
