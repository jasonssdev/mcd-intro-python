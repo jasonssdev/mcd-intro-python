{
 "cells": [
  {
   "cell_type": "markdown",
   "id": "ffc5e161",
   "metadata": {},
   "source": [
    "1. \n",
    "Tienes una pila implementada con deque que contiene utensilios de cocina sucios para lavar, por ejemplo:\n",
    "```python\n",
    "pila = deque(['plato', 'sartén', 'bowl'])\n",
    "```\n",
    "Además, tienes una lista de tuplas, donde cada tupla contiene una instrucción para ejecutar sobre la pila. Las instrucciones pueden ser de 2 tipos:\n",
    "\n",
    "**Lavar utensilio:** Esta instrucción indica que se debe lavar el último utensilio de la pila. En este caso, la tupla contendrá la palabra ```'lavar'```, es decir, se verá de la siguiente forma: \n",
    "```('lavar',)```.\n",
    "\n",
    "**Nuevo utensilio:** Esta instrucción indica que se agrega un nuevo utensilio al final de la pila. En este caso, la tupla contendrá 2 elementos: la palabra ```'nuevo'``` y el tipo de utensilio que se agrega a la pila, es decir, se podría ver de la siguiente forma: ```('nuevo', 'cuchara')```.\n",
    "\n",
    "Por ejemplo, una lista de instrucciones podría ser:\n",
    "```python\n",
    "instrucciones = [('lavar',), ('lavar',), ('nuevo', 'cuchara'), ('lavar',)]\n",
    "```\n",
    "Deberás definir la función ```lavar_pila(pila, instrucciones)```, la cual recibe como parámetros una pila y una lista de instrucciones en los formatos descritos anteriormente. Esta función debe procesar las instrucciones en el orden que se reciben y modificar la pila de acuerdo a estas, para finalmente retornar la pila. Para la pila y las instrucciones del ejemplo anterior, la función debería retornar:\n",
    "```python\n",
    "deque([‘plato’])\n",
    "```"
   ]
  },
  {
   "cell_type": "code",
   "execution_count": 2,
   "id": "9d1c5a33",
   "metadata": {},
   "outputs": [],
   "source": [
    "from collections import deque"
   ]
  },
  {
   "cell_type": "code",
   "execution_count": 4,
   "id": "b8de6ab8",
   "metadata": {},
   "outputs": [
    {
     "name": "stdout",
     "output_type": "stream",
     "text": [
      "deque(['plato'])\n"
     ]
    }
   ],
   "source": [
    "stack = deque(['plato', 'sartén', 'bowl'])\n",
    "\n",
    "instrucciones = [('lavar', ), ('lavar', ), ('nuevo', 'cuchara'), ('lavar', )]\n",
    "\n",
    "\n",
    "def lavar_stack(stack, instrucciones):\n",
    "    while len(stack) > 0:\n",
    "        for i in instrucciones:\n",
    "            if i[0] == \"lavar\":\n",
    "                stack.pop()\n",
    "            elif i[0] == \"nuevo\":\n",
    "                stack.append(i[1])\n",
    "        return stack\n",
    "\n",
    "print(lavar_stack(stack, instrucciones))"
   ]
  },
  {
   "cell_type": "code",
   "execution_count": 5,
   "id": "fb4bfbae",
   "metadata": {},
   "outputs": [
    {
     "name": "stdout",
     "output_type": "stream",
     "text": [
      "deque(['cuchillo'])\n"
     ]
    }
   ],
   "source": [
    "stack = deque(['cuchillo', 'plato', 'sartén', 'bowl', 'tasa'])\n",
    "\n",
    "instrucciones = [('lavar', ), ('lavar', ), ('nuevo', 'cuchara'), ('lavar', ),\n",
    "                 ('nuevo', \"vaso\"), ('lavar', ), ('lavar', ), ('lavar', )]\n",
    "\n",
    "print(lavar_stack(stack, instrucciones))"
   ]
  },
  {
   "cell_type": "markdown",
   "id": "f938d1c4",
   "metadata": {},
   "source": [
    "2. \n",
    "Tienes una cola implementada con deque que contiene nombres de personas que están en una fila para ser atendidas, por ejemplo:\n",
    "\n",
    "```cola = deque(['María', 'Felipe', 'Carlos'])```\n",
    "\n",
    "Además, tienes una lista de tuplas, donde cada tupla contiene una instrucción para ejecutar sobre la cola. Las instrucciones pueden ser de 3 tipos:\n",
    "\n",
    "**Atender persona:** Esta instrucción indica que se debe atender a la primera persona de la cola. En este caso, la tupla contendrá la palabra 'atender', es decir, se verá de la siguiente forma: ('atender',).\n",
    "\n",
    "**Nueva persona:** Esta instrucción indica que llega una nueva persona al final de la cola. En este caso, la tupla contendrá 2 elementos: la palabra 'nueva' y el nombre de la persona que llega a la cola, es decir, se podría ver de la siguiente forma: ('nueva', 'Alejandra').\n",
    "\n",
    "**Colar persona:** Esta instrucción indica que una nueva persona se cola a la fila. En este caso, la tupla contendrá 3 elementos: la palabra 'colar', el nombre de la persona que se cola a la fila y un número entero con la posición en la que se cola la persona (partiendo desde 0), es decir, se podría ver de la siguiente forma: ('colar', 'Rocío', 1). \n",
    "\n",
    "Por ejemplo, una lista de instrucciones podría ser:\n",
    "\n",
    "```instrucciones = [('nueva', 'Alejandra'), ('atender',), ('colar', 'Rocío', 1), ('atender',)]```\n",
    "\n",
    "Deberás definir la función atender_cola(cola, instrucciones), la cual recibe como parámetros una cola y una lista de instrucciones en los formatos descritos anteriormente. Esta función debe procesar las instrucciones en el orden que se reciben y modificar la cola de acuerdo a estas, para finalmente retornar la cola. Para la cola y las instrucciones del ejemplo anterior, la función debería retornar:\n",
    "```\n",
    "deque([‘Rocío’, 'Carlos’, ‘Alejandra’])\n",
    "```"
   ]
  },
  {
   "cell_type": "code",
   "execution_count": 14,
   "id": "d4f46ff4",
   "metadata": {},
   "outputs": [
    {
     "name": "stdout",
     "output_type": "stream",
     "text": [
      "deque(['Rocío', 'Carlos', 'Alejandra'])\n"
     ]
    }
   ],
   "source": [
    "cola = deque(['María', 'Felipe', 'Carlos'])\n",
    "instrucciones = [('nueva', 'Alejandra'), ('atender', ), ('colar', 'Rocío', 1),\n",
    "                 ('atender', )]\n",
    "\n",
    "\n",
    "def atender_cola(cola, instrucciones):\n",
    "    for i in instrucciones:\n",
    "        if i[0] == \"nueva\":\n",
    "            cola.append(i[1])\n",
    "        elif i[0] == \"atender\":\n",
    "            cola.popleft()\n",
    "        elif i[0] == \"colar\":\n",
    "            cola.insert(i[2], i[1])\n",
    "    return cola\n",
    "\n",
    "print(atender_cola(cola, instrucciones))"
   ]
  },
  {
   "cell_type": "markdown",
   "id": "c455f3e0",
   "metadata": {},
   "source": [
    "3.\n",
    "Question 3\n",
    "Tienes dos colas implementadas con deque que contienen números enteros, por ejemplo:\n",
    "```\n",
    "cola_1 = deque([1, 2, 3, 4])\n",
    "cola_2 = deque([5, 6, 7, 8])\n",
    "```\n",
    "Deberás definir la función intercalar_colas(cola_1, cola_2), la cual recibe como argumentos 2 colas en el formato descrito anteriormente. Esta función debe intercalar los elementos de ambas colas en una nueva cola, de tal forma que quede de la siguiente forma: elemento1_cola1, elemento1_cola2, elemento2_cola1, elemento2_cola2, ... y así para todos los elementos. Para las colas del ejemplo anterior la función debería retornar:\n",
    "```\n",
    "deque([1, 5, 2, 6, 3, 7, 4, 8])```"
   ]
  },
  {
   "cell_type": "code",
   "execution_count": 10,
   "id": "10148bc6",
   "metadata": {},
   "outputs": [
    {
     "name": "stdout",
     "output_type": "stream",
     "text": [
      "deque([1, 5, 2, 6, 3, 7, 4, 8])\n"
     ]
    }
   ],
   "source": [
    "cola_1 = deque([1, 2, 3, 4])\n",
    "cola_2 = deque([5, 6, 7, 8])\n",
    "\n",
    "\n",
    "def intercalar_colas(cola_1, cola_2):\n",
    "    new_cola = deque()\n",
    "    for i, j in zip(cola_1, cola_2):\n",
    "        new_cola.append(i)\n",
    "        new_cola.append(j)\n",
    "    return new_cola\n",
    "\n",
    "\n",
    "print(intercalar_colas(cola_1, cola_2))\n"
   ]
  },
  {
   "cell_type": "markdown",
   "id": "1eddab31",
   "metadata": {},
   "source": [
    "Tienes una cola implementada con deque que contiene números enteros, por ejemplo:\n",
    "```\n",
    "cola = deque([4, -1, -3, 6, 2, 5])\n",
    "```\n",
    "Deberás definir la función ordenar_cola(cola), la cual recibe como parámetro una cola en el formato descrito anteriormente. Esta función debe ordenar los valores de la cola de menor a mayor y luego retornarla. Para la cola del ejemplo anterior la función debería retornar:\n",
    "```\n",
    "deque([-3, -1, 2, 4, 5, 6])```"
   ]
  },
  {
   "cell_type": "code",
   "execution_count": null,
   "id": "58f5de37",
   "metadata": {},
   "outputs": [
    {
     "name": "stdout",
     "output_type": "stream",
     "text": [
      "deque([-3, -1, 2, 4, 5, 6])\n"
     ]
    }
   ],
   "source": [
    "cola = deque([4, -1, -3, 6, 2, 5])\n",
    "\n",
    "def ordenar_cola(cola):\n",
    "    new_cola = deque(sorted(cola))\n",
    "    return new_cola\n",
    "\n",
    "print(ordenar_cola(cola))"
   ]
  },
  {
   "cell_type": "code",
   "execution_count": null,
   "id": "0110b978",
   "metadata": {},
   "outputs": [],
   "source": []
  }
 ],
 "metadata": {
  "kernelspec": {
   "display_name": "da-py3.12",
   "language": "python",
   "name": "python3"
  },
  "language_info": {
   "codemirror_mode": {
    "name": "ipython",
    "version": 3
   },
   "file_extension": ".py",
   "mimetype": "text/x-python",
   "name": "python",
   "nbconvert_exporter": "python",
   "pygments_lexer": "ipython3",
   "version": "3.12.2"
  }
 },
 "nbformat": 4,
 "nbformat_minor": 5
}
