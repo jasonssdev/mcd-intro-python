{
 "cells": [
  {
   "cell_type": "markdown",
   "id": "6916da3c",
   "metadata": {},
   "source": [
    "Question 1\n",
    "Tienes la siguiente clase libro:\n",
    "\n",
    "```python\n",
    "class Libro:\n",
    "    def __init__(self, t, a, g):\n",
    "        self.titulo = t\n",
    "        self.autor = a\n",
    "        self.genero = g\n",
    "    def __str__(self):\n",
    "        return self.titulo\n",
    "\n",
    "L1 = Libro('Harry Potter', 'J. K. Rowling', 'Fantasía')\n",
    "L2 = Libro('Juego de tronos', 'George R. R. Martin', 'Novela')\n",
    "L3 = Libro('El señor de los anillos', 'J. R. R. Tolkien', 'Novela')\n",
    "\n",
    "biblioteca = [L1, L2, L3]\n",
    "```\n",
    "¿Cuál de los siguientes códigos imprimirá correctamente el título de todas las novelas que hay en la biblioteca?"
   ]
  },
  {
   "cell_type": "code",
   "execution_count": 4,
   "id": "d1cc5aee",
   "metadata": {},
   "outputs": [
    {
     "name": "stdout",
     "output_type": "stream",
     "text": [
      "Juego de tronos\n",
      "El señor de los anillos\n"
     ]
    }
   ],
   "source": [
    "class Libro:\n",
    "    def __init__(self, t, a, g):\n",
    "        self.titulo = t\n",
    "        self.autor = a\n",
    "        self.genero = g\n",
    "    def __str__(self):\n",
    "        return self.titulo\n",
    "\n",
    "L1 = Libro('Harry Potter', 'J. K. Rowling', 'Fantasía')\n",
    "L2 = Libro('Juego de tronos', 'George R. R. Martin', 'Novela')\n",
    "L3 = Libro('El señor de los anillos', 'J. R. R. Tolkien', 'Novela')\n",
    "\n",
    "biblioteca = [L1, L2, L3]\n",
    "\n",
    "for libro in biblioteca:\n",
    "    if libro.genero == 'Novela':\n",
    "        print(libro.titulo)"
   ]
  },
  {
   "cell_type": "markdown",
   "id": "6e6a9340",
   "metadata": {},
   "source": [
    "2.\n",
    "Question 2\n",
    "Tienes las siguientes clases que definen a una mascota y su dueño\n",
    "\n",
    "```python\n",
    "class Mascota:\n",
    "    def __init__(self, n, h):\n",
    "        self.nombre = n\n",
    "        self.dueño = h\n",
    "\n",
    "class Humano:\n",
    "    def __init__(self, n):\n",
    "        self.nombre = n\n",
    "\n",
    "humano = Humano('Alex')\n",
    "perro = Mascota('Rex' , humano)\n",
    "```\n",
    "Quieres agregarle a Mascota el método saludar(self, humano), el cuál recibe como parámetro un humano que lo quieres saludar. El método deberá imprimir 'Hola {nombre humano}' si el humano es su dueño, y 'grrr, no te conozco {nombre humano}'. si el humano no es su dueño.\n",
    "¿Cuál de los siguientes código agrega correctamente el método saludar?"
   ]
  },
  {
   "cell_type": "code",
   "execution_count": 35,
   "id": "2d857f9c",
   "metadata": {},
   "outputs": [
    {
     "name": "stdout",
     "output_type": "stream",
     "text": [
      "Hola Alex\n",
      "grr, no te conozco Juan\n",
      "grr, no te conozco Alex\n"
     ]
    }
   ],
   "source": [
    "class Mascota:\n",
    "\n",
    "    def __init__(self, n, h):\n",
    "        self.nombre = n\n",
    "        self.dueño = h\n",
    "\n",
    "    def saludar(self, humano):\n",
    "        if self.dueño.nombre == humano.nombre:\n",
    "            print(f\"Hola {humano.nombre}\")\n",
    "        else:\n",
    "            print(f\"grr, no te conozco {humano.nombre}\")\n",
    "\n",
    "class Humano:\n",
    "    def __init__(self, n):\n",
    "        self.nombre = n\n",
    "\n",
    "humano = Humano('Alex')\n",
    "perro = Mascota('Rex', humano)\n",
    "perro.saludar(humano)\n",
    "\n",
    "\n",
    "humano2 = Humano('Juan')\n",
    "perro2 = Mascota('Rat', humano)\n",
    "perro2.saludar(humano2)\n",
    "\n",
    "humano3 = Humano('Jorge')\n",
    "perro3 = Mascota('Tor', humano3)\n",
    "perro3.saludar(humano)"
   ]
  },
  {
   "cell_type": "markdown",
   "id": "717afbba",
   "metadata": {},
   "source": [
    "Tienes las siguientes clases que definen a una aula y sus alumnos\n",
    "\n",
    "```python\n",
    "class Aula:\n",
    "    def __init__(self, p):\n",
    "        self.profesor = p\n",
    "        self.estudiantes = []\n",
    "\n",
    "    def agregar_estudiante(self, estudiante):\n",
    "        self.estudiantes.append(estudiante)\n",
    "\n",
    "class Estudiante:\n",
    "    def __init__(self, nom, nota):\n",
    "        self.nombre = nom\n",
    "        self.nota_final = nota\n",
    "\n",
    "class Profesor:\n",
    "    def __init__(self, n):\n",
    "        self.nombre = n\n",
    "\n",
    "profesor = Profesor( 'Calamardo' )\n",
    "e1 = Estudiante( 'Bob', 6 )\n",
    "e2 = Estudiante( 'Patricio', 2 )\n",
    "e3 = Estudiante( 'Arenita', 7 )\n",
    "\n",
    "aula = Aula(profesor)\n",
    "aula.agregar_estudiante(e1)\n",
    "aula.agregar_estudiante(e2)\n",
    "aula.agregar_estudiante(e3)\n",
    "```\n",
    "Quieres agregarle al Aula el método imprimir_mejor_nota(self). El método deberá imprimir la nota final más alta entre todos los estudiantes del aula ¿Cuál de los siguientes código agrega correctamente el método imprimir_mejor_nota?"
   ]
  },
  {
   "cell_type": "code",
   "execution_count": null,
   "id": "c7028548",
   "metadata": {},
   "outputs": [],
   "source": [
    "class Aula:\n",
    "    def __init__(self, p):\n",
    "        self.profesor = p\n",
    "        self.estudiantes = []\n",
    "\n",
    "    def agregar_estudiante(self, estudiante):\n",
    "        self.estudiantes.append(estudiante)\n",
    "\n",
    "class Estudiante:\n",
    "    def __init__(self, nom, nota):\n",
    "        self.nombre = nom\n",
    "        self.nota_final = nota\n",
    "\n",
    "class Profesor:\n",
    "    def __init__(self, n):\n",
    "        self.nombre = n\n",
    "\n",
    "profesor = Profesor( 'Calamardo' )\n",
    "e1 = Estudiante( 'Bob', 6 )\n",
    "e2 = Estudiante( 'Patricio', 2 )\n",
    "e3 = Estudiante( 'Arenita', 7 )\n",
    "\n",
    "aula = Aula(profesor)\n",
    "aula.agregar_estudiante(e1)\n",
    "aula.agregar_estudiante(e2)\n",
    "aula.agregar_estudiante(e3)"
   ]
  }
 ],
 "metadata": {
  "kernelspec": {
   "display_name": "da-py3.12",
   "language": "python",
   "name": "python3"
  },
  "language_info": {
   "codemirror_mode": {
    "name": "ipython",
    "version": 3
   },
   "file_extension": ".py",
   "mimetype": "text/x-python",
   "name": "python",
   "nbconvert_exporter": "python",
   "pygments_lexer": "ipython3",
   "version": "3.12.2"
  }
 },
 "nbformat": 4,
 "nbformat_minor": 5
}
