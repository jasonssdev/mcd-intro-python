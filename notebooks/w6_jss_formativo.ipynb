{
 "cells": [
  {
   "cell_type": "markdown",
   "id": "6916da3c",
   "metadata": {},
   "source": [
    "Question 1\n",
    "Tienes la siguiente clase libro:\n",
    "\n",
    "```python\n",
    "class Libro:\n",
    "    def __init__(self, t, a, g):\n",
    "        self.titulo = t\n",
    "        self.autor = a\n",
    "        self.genero = g\n",
    "    def __str__(self):\n",
    "        return self.titulo\n",
    "\n",
    "L1 = Libro('Harry Potter', 'J. K. Rowling', 'Fantasía')\n",
    "L2 = Libro('Juego de tronos', 'George R. R. Martin', 'Novela')\n",
    "L3 = Libro('El señor de los anillos', 'J. R. R. Tolkien', 'Novela')\n",
    "\n",
    "biblioteca = [L1, L2, L3]\n",
    "```\n",
    "¿Cuál de los siguientes códigos imprimirá correctamente el título de todas las novelas que hay en la biblioteca?"
   ]
  },
  {
   "cell_type": "code",
   "execution_count": 34,
   "id": "d1cc5aee",
   "metadata": {},
   "outputs": [
    {
     "name": "stdout",
     "output_type": "stream",
     "text": [
      "Juego de tronos\n",
      "El señor de los anillos\n"
     ]
    }
   ],
   "source": [
    "class Libro:\n",
    "    def __init__(self, t, a, g):\n",
    "        self.titulo = t\n",
    "        self.autor = a\n",
    "        self.genero = g\n",
    "    def __str__(self):\n",
    "        return self.titulo\n",
    "\n",
    "L1 = Libro('Harry Potter', 'J. K. Rowling', 'Fantasía')\n",
    "L2 = Libro('Juego de tronos', 'George R. R. Martin', 'Novela')\n",
    "L3 = Libro('El señor de los anillos', 'J. R. R. Tolkien', 'Novela')\n",
    "\n",
    "biblioteca = [L1, L2, L3]\n",
    "\n",
    "for libro in biblioteca:\n",
    "    if libro.genero == 'Novela':\n",
    "        print(libro)"
   ]
  },
  {
   "cell_type": "markdown",
   "id": "6e6a9340",
   "metadata": {},
   "source": [
    "2.\n",
    "Question 2\n",
    "Tienes las siguientes clases que definen a una mascota y su dueño\n",
    "\n",
    "```python\n",
    "class Mascota:\n",
    "    def __init__(self, n, h):\n",
    "        self.nombre = n\n",
    "        self.dueño = h\n",
    "\n",
    "class Humano:\n",
    "    def __init__(self, n):\n",
    "        self.nombre = n\n",
    "\n",
    "humano = Humano('Alex')\n",
    "perro = Mascota('Rex' , humano)\n",
    "```\n",
    "Quieres agregarle a Mascota el método saludar(self, humano), el cuál recibe como parámetro un humano que lo quieres saludar. El método deberá imprimir 'Hola {nombre humano}' si el humano es su dueño, y 'grrr, no te conozco {nombre humano}'. si el humano no es su dueño.\n",
    "¿Cuál de los siguientes código agrega correctamente el método saludar?"
   ]
  },
  {
   "cell_type": "code",
   "execution_count": 31,
   "id": "2d857f9c",
   "metadata": {},
   "outputs": [
    {
     "data": {
      "text/plain": [
       "'Hola Alex'"
      ]
     },
     "execution_count": 31,
     "metadata": {},
     "output_type": "execute_result"
    }
   ],
   "source": [
    "class Mascota:\n",
    "\n",
    "    def __init__(self, n, h):\n",
    "        self.nombre = n\n",
    "        self.dueño = h\n",
    "\n",
    "    def saludar(self, humano):\n",
    "        if humano.nombre == self.dueño.nombre:\n",
    "            return 'Hola '+ humano.nombre\n",
    "        return 'grrr, no te conozco ' + humano.nombre\n",
    "\n",
    "class Humano:\n",
    "    def __init__(self, n):\n",
    "        self.nombre = n\n",
    "\n",
    "\n",
    "humano = Humano('Alex')\n",
    "perro = Mascota('Rex', humano)\n",
    "perro.saludar(humano)"
   ]
  },
  {
   "cell_type": "code",
   "execution_count": 33,
   "id": "fbeac18b",
   "metadata": {},
   "outputs": [
    {
     "data": {
      "text/plain": [
       "'Hola Ale'"
      ]
     },
     "execution_count": 33,
     "metadata": {},
     "output_type": "execute_result"
    }
   ],
   "source": [
    "humano2 = Humano('Ale')\n",
    "perro2 = Mascota('Rex', humano2)\n",
    "perro2.saludar(humano2)"
   ]
  },
  {
   "cell_type": "markdown",
   "id": "717afbba",
   "metadata": {},
   "source": [
    "Tienes las siguientes clases que definen a una aula y sus alumnos\n",
    "\n",
    "```python\n",
    "class Aula:\n",
    "    def __init__(self, p):\n",
    "        self.profesor = p\n",
    "        self.estudiantes = []\n",
    "\n",
    "    def agregar_estudiante(self, estudiante):\n",
    "        self.estudiantes.append(estudiante)\n",
    "\n",
    "class Estudiante:\n",
    "    def __init__(self, nom, nota):\n",
    "        self.nombre = nom\n",
    "        self.nota_final = nota\n",
    "\n",
    "class Profesor:\n",
    "    def __init__(self, n):\n",
    "        self.nombre = n\n",
    "\n",
    "profesor = Profesor( 'Calamardo' )\n",
    "e1 = Estudiante( 'Bob', 6 )\n",
    "e2 = Estudiante( 'Patricio', 2 )\n",
    "e3 = Estudiante( 'Arenita', 7 )\n",
    "\n",
    "aula = Aula(profesor)\n",
    "aula.agregar_estudiante(e1)\n",
    "aula.agregar_estudiante(e2)\n",
    "aula.agregar_estudiante(e3)\n",
    "```\n",
    "Quieres agregarle al Aula el método imprimir_mejor_nota(self). El método deberá imprimir la nota final más alta entre todos los estudiantes del aula ¿Cuál de los siguientes código agrega correctamente el método imprimir_mejor_nota?"
   ]
  },
  {
   "cell_type": "code",
   "execution_count": 10,
   "id": "c7028548",
   "metadata": {},
   "outputs": [
    {
     "data": {
      "text/plain": [
       "7"
      ]
     },
     "execution_count": 10,
     "metadata": {},
     "output_type": "execute_result"
    }
   ],
   "source": [
    "class Aula:\n",
    "    def __init__(self, p):\n",
    "        self.profesor = p\n",
    "        self.estudiantes = []\n",
    "\n",
    "    def imprimir_mejor_nota(self):\n",
    "        mejor_nota = 0\n",
    "        for estudiante in self.estudiantes:\n",
    "            if estudiante.nota_final > mejor_nota:\n",
    "                mejor_nota = estudiante.nota_final\n",
    "        return mejor_nota\n",
    "\n",
    "    def agregar_estudiante(self, estudiante):\n",
    "        self.estudiantes.append(estudiante)\n",
    "\n",
    "class Estudiante:\n",
    "    def __init__(self, nom, nota):\n",
    "        self.nombre = nom\n",
    "        self.nota_final = nota\n",
    "\n",
    "class Profesor:\n",
    "    def __init__(self, n):\n",
    "        self.nombre = n\n",
    "\n",
    "profesor = Profesor( 'Calamardo' )\n",
    "e1 = Estudiante( 'Bob', 6 )\n",
    "e2 = Estudiante( 'Patricio', 2 )\n",
    "e3 = Estudiante( 'Arenita', 7 )\n",
    "\n",
    "aula = Aula(profesor)\n",
    "aula.agregar_estudiante(e1)\n",
    "aula.agregar_estudiante(e2)\n",
    "aula.agregar_estudiante(e3)\n",
    "aula.imprimir_mejor_nota()"
   ]
  },
  {
   "cell_type": "markdown",
   "id": "05f3a51b",
   "metadata": {},
   "source": [
    "4.\n",
    "Question 4\n",
    "Tienes la siguiente clase Estudiante:\n",
    "\n",
    "```python\n",
    "class Estudiante:\n",
    "    def __init__(self, nom):\n",
    "        self.nombre = nom\n",
    "        self.notas = []\n",
    "\n",
    "eva = Estudiante( 'Eva' )\n",
    "```\n",
    "Sabes que para agregarle notas al atributo notas de eva deberías hacer:\n",
    "\n",
    "eva.notas.append( 6.8 )\n",
    "\n",
    "Para facilitarte la escritura de esta acción decides sobreescribir el operador +. De este modo, para agregar una nota a eva bastaría con hacer:\n",
    "eva + 6.8\n",
    "\n",
    "¿Cuál de los siguientes códigos agregar el método __add__ correctamente?"
   ]
  },
  {
   "cell_type": "code",
   "execution_count": 13,
   "id": "6107cbfc",
   "metadata": {},
   "outputs": [
    {
     "name": "stdout",
     "output_type": "stream",
     "text": [
      "[5, 5, 7]\n"
     ]
    }
   ],
   "source": [
    "class Estudiante:\n",
    "    def __init__(self, nom):\n",
    "        self.nombre = nom\n",
    "        self.notas = []\n",
    "    def __add__(self, nota):\n",
    "        self.notas.append(nota)\n",
    "\n",
    "eva = Estudiante( 'Eva' )\n",
    "eva + 5\n",
    "eva + 5\n",
    "eva + 7\n",
    "print(eva.notas)"
   ]
  },
  {
   "cell_type": "markdown",
   "id": "39775c39",
   "metadata": {},
   "source": [
    "5.\n",
    "Question 5\n",
    "Tienes la siguiente clase \n",
    "\n",
    "```python\n",
    "class Vehiculo:\n",
    "    def __init__(self):\n",
    "        self.ruedas = 4\n",
    "        self.kilometraje = 0\n",
    "        \n",
    "    def avanzar(self, km):\n",
    "        self.kilometraje += km\n",
    "\n",
    "    def cambiar_neumaticos(self):\n",
    "        print('Se han cambiado las ' +self.ruedas+' ruedas')\n",
    "```\n",
    "Decides crear la clase Camion en base a Vehículo, esta clase debe heredar de vehículo, pero con los siguientes cambios: en lugar de tener 4 ruedas tiene 6 y deberá tener el método ver_kilometraje(self). El cuál deberá retornar el kilometraje actual del vehículo. ¿Cuál de los siguientes códigos define la clase Camion correctamente?"
   ]
  },
  {
   "cell_type": "code",
   "execution_count": 14,
   "id": "d3ec62dd",
   "metadata": {},
   "outputs": [],
   "source": [
    "class Vehiculo:\n",
    "    def __init__(self):\n",
    "        self.ruedas = 4\n",
    "        self.kilometraje = 0\n",
    "        \n",
    "    def avanzar(self, km):\n",
    "        self.kilometraje += km\n",
    "\n",
    "    def cambiar_neumaticos(self):\n",
    "        print('Se han cambiado las ' +self.ruedas+' ruedas')\n",
    "\n",
    "class Camion(Vehiculo):\n",
    "    def __init__(self):\n",
    "        super().__init__()\n",
    "        self.ruedas = 6\n",
    "\n",
    "    def ver_kilometraje(self):\n",
    "        return self.kilometraje"
   ]
  },
  {
   "cell_type": "markdown",
   "id": "9470d6d5",
   "metadata": {},
   "source": [
    "6.\n",
    "Question 6\n",
    "Tienes la clase mueble:\n",
    "\n",
    "```python\n",
    "class Mueble:\n",
    "    def __init__(self, h, a, l, v):\n",
    "        self.alto = h\n",
    "        self.ancho = a\n",
    "        self.largo = l\n",
    "        self.valor = v\n",
    "\n",
    "    def precio(self):\n",
    "        return self.alto * self.ancho * self.largo * self.valor\n",
    "\n",
    "\n",
    "M1 = Mueble(1.0, 2.0, 3.0, 50)\n",
    "M2 = Mueble(2.0, 2.0, 2.0, 600)\n",
    "M3 = Mueble(1.5, 1.5, 3.0, 40)\n",
    "\n",
    "tienda = [M1, M2, M3]\n",
    "```\n",
    "¿Cuál de los siguientes códigos crea una nueva lista tienda, tal que los muebles dentro de esta nueva lista estén ordenados de menor a mayor precio?"
   ]
  },
  {
   "cell_type": "code",
   "execution_count": 30,
   "id": "468d7a80",
   "metadata": {},
   "outputs": [
    {
     "name": "stdout",
     "output_type": "stream",
     "text": [
      "40\n",
      "50\n",
      "600\n"
     ]
    }
   ],
   "source": [
    "class Mueble:\n",
    "    def __init__(self, h, a, l, v):\n",
    "        self.alto = h\n",
    "        self.ancho = a\n",
    "        self.largo = l\n",
    "        self.valor = v\n",
    "\n",
    "    def precio(self):\n",
    "        return self.alto * self.ancho * self.largo * self.valor\n",
    "    \n",
    "    def __str__(self):\n",
    "        return str(self.valor)\n",
    "\n",
    "\n",
    "M1 = Mueble(1.0, 2.0, 3.0, 50)\n",
    "M2 = Mueble(2.0, 2.0, 2.0, 600)\n",
    "M3 = Mueble(1.5, 1.5, 3.0, 40)\n",
    "\n",
    "tienda = [M1, M2, M3]\n",
    "\n",
    "tienda_aux = []\n",
    "while len(tienda) > 0:\n",
    "        menor = tienda[0]\n",
    "        for mueble in tienda:\n",
    "            if menor.precio() > mueble.precio():\n",
    "                menor = mueble\n",
    "        tienda.remove(menor)\n",
    "        tienda_aux.append(menor)\n",
    "tienda = tienda_aux\n",
    "\n",
    "# print results\n",
    "for i in range(len(tienda)):\n",
    "    print(tienda[i])\n"
   ]
  },
  {
   "cell_type": "code",
   "execution_count": null,
   "id": "4463fa6e",
   "metadata": {},
   "outputs": [],
   "source": []
  }
 ],
 "metadata": {
  "kernelspec": {
   "display_name": "da-py3.12",
   "language": "python",
   "name": "python3"
  },
  "language_info": {
   "codemirror_mode": {
    "name": "ipython",
    "version": 3
   },
   "file_extension": ".py",
   "mimetype": "text/x-python",
   "name": "python",
   "nbconvert_exporter": "python",
   "pygments_lexer": "ipython3",
   "version": "3.12.2"
  }
 },
 "nbformat": 4,
 "nbformat_minor": 5
}
