{
 "cells": [
  {
   "cell_type": "markdown",
   "id": "a4650ad3",
   "metadata": {},
   "source": [
    "# Formativo - Week 4"
   ]
  },
  {
   "cell_type": "markdown",
   "id": "15ed09fa",
   "metadata": {},
   "source": [
    "Question 1\n",
    "\n",
    "Tienes una lista con todas las palabras de un poema: \n",
    "```\n",
    "poema = ['Mis', 'pasos', 'en', 'esta', 'calle', 'Resuenan', 'En', 'otra', 'calle', 'Donde', 'Oigo', 'mis', 'pasos', 'Pasar', 'en', 'esta', 'calle', 'Donde', 'Sólo', 'es', 'real', 'la', 'niebla']\n",
    "```\n",
    "Además, tiene un set con palabras prohibidas: \n",
    "```\n",
    "prohibidas = set(['calle', 'mis', 'pasos'])\n",
    "```\n",
    " ¿Cuál de los siguientes códigos elimina todas las palabras prohibidas del poema? "
   ]
  },
  {
   "cell_type": "code",
   "execution_count": 72,
   "id": "8273c44d",
   "metadata": {},
   "outputs": [
    {
     "name": "stdout",
     "output_type": "stream",
     "text": [
      "23\n",
      "3\n",
      "1\n",
      "2\n"
     ]
    }
   ],
   "source": [
    "poema = [\n",
    "    'Mis', 'pasos', 'en', 'esta', 'calle', 'Resuenan', 'En', 'otra', 'calle',\n",
    "    'Donde', 'Oigo', 'mis', 'pasos', 'Pasar', 'en', 'esta', 'calle', 'Donde',\n",
    "    'Sólo', 'es', 'real', 'la', 'niebla'\n",
    "]\n",
    "prohibidas = set(['calle', 'mis', 'pasos'])\n",
    "print(len(poema))\n",
    "print(poema.count('calle'))\n",
    "print(poema.count('mis'))\n",
    "print(poema.count('pasos'))\n"
   ]
  },
  {
   "cell_type": "code",
   "execution_count": 73,
   "id": "42236ffd",
   "metadata": {},
   "outputs": [
    {
     "name": "stdout",
     "output_type": "stream",
     "text": [
      "17\n"
     ]
    }
   ],
   "source": [
    "for palabra in prohibidas:\n",
    "    while palabra in poema:\n",
    "        poema.remove(palabra)\n",
    "\n",
    "print(len(poema))"
   ]
  },
  {
   "cell_type": "markdown",
   "id": "b0ff4c0c",
   "metadata": {},
   "source": [
    "Question 2\n",
    "\n",
    "Tienes una lista con números repetidos:\n",
    "```\n",
    "lista = [1,2,1,1,5,6,4,4,4,6,7,5,1,1,7,7,7,2,1,2]\n",
    "```\n",
    "¿Cuál de los siguientes códigos NO imprime la cantidad de números distintos que hay en la lista?"
   ]
  },
  {
   "cell_type": "code",
   "execution_count": 74,
   "id": "99da3295",
   "metadata": {},
   "outputs": [
    {
     "name": "stdout",
     "output_type": "stream",
     "text": [
      "2\n"
     ]
    }
   ],
   "source": [
    "lista = [1, 2, 1, 1, 5, 6, 4, 4, 4, 6, 7, 5, 1, 1, 7, 7, 7, 2, 1, 2]\n",
    "\n",
    "for num in lista:\n",
    "    veces = lista.count(num)\n",
    "    for i in range(veces):\n",
    "        lista.remove(num)\n",
    "\n",
    "print(len(lista))"
   ]
  },
  {
   "cell_type": "code",
   "execution_count": 75,
   "id": "1652f8fd",
   "metadata": {},
   "outputs": [
    {
     "name": "stdout",
     "output_type": "stream",
     "text": [
      "6\n"
     ]
    }
   ],
   "source": [
    "lista = [1, 2, 1, 1, 5, 6, 4, 4, 4, 6, 7, 5, 1, 1, 7, 7, 7, 2, 1, 2]\n",
    "\n",
    "no_repetidos = dict()\n",
    "for num in lista:\n",
    "    no_repetidos[num] = num\n",
    "\n",
    "print(len(no_repetidos))"
   ]
  },
  {
   "cell_type": "markdown",
   "id": "5cbdc70e",
   "metadata": {},
   "source": [
    "Question 3\n",
    "\n",
    "Tus amigos deciden organizar una completada (para comer hot dogs). Para evitar que todos traigan ketchup y nadie salchichas decides crear un programa en python que verifique variedad de ingredientes. Por cada uno de tus 4 amigos tienes un set con los ingredientes que tiene: \n",
    "```\n",
    "a1 = set(['Pan', 'Salchichas', 'Mostaza', 'Ketchup'])\n",
    "a2 = set(['Pan', 'Cebolla', 'Tomate', 'Chucrut'])\n",
    "a3 = set(['Ketchup', 'Salchichas', 'Aji'])\n",
    "a4 = set(['Chucrut', 'Pan'])\n",
    "```\n",
    "Además tienes un set con tus ingredientes favoritos para los completos: \n",
    "```\n",
    "ing_favoritos = set(['Pan', 'Tomate', 'Salchichas', 'Chucrut', 'Mostaza', 'Ketchup','Mayonesa','Palta'])\n",
    "```\n",
    "Quieres imprimir un set con todos tus ingredientes favoritos que no tienen tus amigos para comprarlos tú y poder comer tus completos como a ti te gusta.\n",
    "\n",
    "¿Cuál de los siguientes códigos hace correctamente lo pedido? "
   ]
  },
  {
   "cell_type": "code",
   "execution_count": 76,
   "id": "790e3ceb",
   "metadata": {},
   "outputs": [
    {
     "name": "stdout",
     "output_type": "stream",
     "text": [
      "{'Mayonesa', 'Palta'}\n"
     ]
    }
   ],
   "source": [
    "a1 = set(['Pan', 'Salchichas', 'Mostaza', 'Ketchup'])\n",
    "a2 = set(['Pan', 'Cebolla', 'Tomate', 'Chucrut'])\n",
    "a3 = set(['Ketchup', 'Salchichas', 'Aji'])\n",
    "a4 = set(['Chucrut', 'Pan'])\n",
    "\n",
    "ing_favoritos = set([\n",
    "    'Pan', 'Tomate', 'Salchichas', 'Chucrut', 'Mostaza', 'Ketchup', 'Mayonesa',\n",
    "    'Palta'\n",
    "])\n",
    "\n",
    "faltantes = ing_favoritos - (a1 | a2 | a3 | a4)\n",
    "print(faltantes)"
   ]
  },
  {
   "cell_type": "markdown",
   "id": "4f36ce3d",
   "metadata": {},
   "source": [
    "4.\n",
    "Question 4\n",
    "Tienes una lista con números repetidos: \n",
    "```\n",
    "lista = [1,2,1,1,5,6,4,4,4,6,7,5,1,1,7,7,7,2,1,2]\n",
    "```\n",
    "Quieres imprimir un diccionario que cuyas llaves sean cada uno de los valores de la lista y cuyos valores sean la cantidad de veces que está ese valor en la lista. Por ejemplo, para la lista anterior se debería imprimir el siguiente diccionario: \n",
    "```\n",
    "{\n",
    "    1: 6,\n",
    "    2: 3,\n",
    "    5: 2,\n",
    "    6: 2,\n",
    "    4: 3,\n",
    "    7: 4\n",
    "}\n",
    "```\n",
    "¿Cuál de los siguientes códigos imprime el diccionario correctamente? "
   ]
  },
  {
   "cell_type": "code",
   "execution_count": 77,
   "id": "282c0102",
   "metadata": {},
   "outputs": [
    {
     "name": "stdout",
     "output_type": "stream",
     "text": [
      "{1: 6, 2: 3, 4: 3, 5: 2, 6: 2, 7: 4}\n"
     ]
    }
   ],
   "source": [
    "lista = [1, 2, 1, 1, 5, 6, 4, 4, 4, 6, 7, 5, 1, 1, 7, 7, 7, 2, 1, 2]\n",
    "\n",
    "d = dict()\n",
    "\n",
    "for num in set(lista):\n",
    "    d[num] = lista.count(num)\n",
    "print(d)"
   ]
  },
  {
   "cell_type": "markdown",
   "id": "3329c943",
   "metadata": {},
   "source": [
    "Question 5\n",
    "\n",
    "Tienes un diccionario con el nombre y la información personal de varios clientes de un banco: \n",
    "```\n",
    "clientes = {\n",
    "    'Alicia': (28, 'Chile', 1200),\n",
    "    'Bob': (45, 'Francia', 2000),\n",
    "    'Carlos': (30, 'Argentina', 500),\n",
    "    'David': (23, 'Inglaterra', 0)\n",
    "}\n",
    "```\n",
    "La información almacenada de cada cliente es una tupla con su edad, país de residencia y la deuda que tiene pendiente con el banco. \n",
    "\n",
    "¿Cuál de los siguientes códigos imprime el nombre de todos los clientes que tiene una deuda mayor a 1000? "
   ]
  },
  {
   "cell_type": "code",
   "execution_count": 78,
   "id": "8741ec06",
   "metadata": {},
   "outputs": [
    {
     "name": "stdout",
     "output_type": "stream",
     "text": [
      "['Alicia', 'Bob']\n"
     ]
    }
   ],
   "source": [
    "## esta alternativa no esta en las opciones\n",
    "clientes = {\n",
    "    'Alicia': (28, 'Chile', 1200),\n",
    "    'Bob': (45, 'Francia', 2000),\n",
    "    'Carlos': (30, 'Argentina', 500),\n",
    "    'David': (23, 'Inglaterra', 0)\n",
    "}\n",
    "\n",
    "clientes_deuda_mas_1000 = []\n",
    "\n",
    "for cliente in clientes:\n",
    "    if clientes[cliente][2] > 1000:\n",
    "        clientes_deuda_mas_1000.append(cliente)\n",
    "\n",
    "print(clientes_deuda_mas_1000)"
   ]
  },
  {
   "cell_type": "code",
   "execution_count": 79,
   "id": "c35671b2",
   "metadata": {},
   "outputs": [
    {
     "name": "stdout",
     "output_type": "stream",
     "text": [
      "Alicia\n",
      "Bob\n"
     ]
    }
   ],
   "source": [
    "clientes = {\n",
    "    'Alicia': (28, 'Chile', 1200),\n",
    "    'Bob': (45, 'Francia', 2000),\n",
    "    'Carlos': (30, 'Argentina', 500),\n",
    "    'David': (23, 'Inglaterra', 0)\n",
    "}\n",
    "\n",
    "for cliente in clientes:\n",
    "    edad, residencia, deuda = clientes[cliente]\n",
    "    if deuda > 1000:\n",
    "        print(cliente)"
   ]
  },
  {
   "cell_type": "markdown",
   "id": "e3d7dacc",
   "metadata": {},
   "source": [
    "Question 6\n",
    "\n",
    "Tienes un diccionario de amigos, donde cada llave es el nombre de una persona y cada valor es una lista con los nombres de todos sus amigos. Por ejemplo: \n",
    "```\n",
    "amigos = {\n",
    "    'Bob': ['Patricio', 'Calamardo', 'Arenita', 'Don Cangrejo'],\n",
    "    'Patricio': ['Bob', 'Calamardo'],\n",
    "    'Arenita': ['Bob'],\n",
    "    'Calamardo': [],\n",
    "    'Don Cangrejo': ['Bob', 'Calamardo']\n",
    "}\n",
    "```\n",
    "Para cada persona quieres guardar en un diccionario cuántas otras personas los consideran como amigos, donde las llaves sean los nombres de las personas y los valores sean el número de persona que los consideran como amigos. Por ejemplo:\n",
    "```\n",
    "{\n",
    "    'Bob': 3,\n",
    "    'Patricio': 1,\n",
    "    'Arenita': 1,\n",
    "    'Calamardo': 3,\n",
    "    'Don Cangrejo': 1\n",
    "}\n",
    "```\n",
    "Dado un diccionario de amigos con el formato anterior. ¿Cuál de los siguientes códigos NO imprime el diccionario mencionado anteriormente?"
   ]
  },
  {
   "cell_type": "code",
   "execution_count": 80,
   "id": "972fc93d",
   "metadata": {},
   "outputs": [
    {
     "name": "stdout",
     "output_type": "stream",
     "text": [
      "['Patricio', 'Calamardo', 'Arenita', 'Don Cangrejo']\n",
      "['Bob', 'Calamardo']\n",
      "['Bob']\n",
      "[]\n",
      "['Bob', 'Calamardo']\n"
     ]
    }
   ],
   "source": [
    "amigos = {\n",
    "    'Bob': ['Patricio', 'Calamardo', 'Arenita', 'Don Cangrejo'],\n",
    "    'Patricio': ['Bob', 'Calamardo'],\n",
    "    'Arenita': ['Bob'],\n",
    "    'Calamardo': [],\n",
    "    'Don Cangrejo': ['Bob', 'Calamardo']\n",
    "}\n",
    "\n",
    "for amigo in amigos.values():\n",
    "    print(amigo)\n",
    "    "
   ]
  },
  {
   "cell_type": "code",
   "execution_count": 81,
   "id": "4cf014f1",
   "metadata": {},
   "outputs": [
    {
     "name": "stdout",
     "output_type": "stream",
     "text": [
      "{'Bob': 3, 'Patricio': 1, 'Arenita': 1, 'Calamardo': 3, 'Don Cangrejo': 1}\n"
     ]
    }
   ],
   "source": [
    "cuenta = dict()\n",
    "\n",
    "for nombre in amigos:\n",
    "    cuenta[nombre] = 0\n",
    "\n",
    "for lista_amigos in amigos.values():\n",
    "    for nombre in lista_amigos:\n",
    "        cuenta[nombre] += 1\n",
    "\n",
    "print(cuenta)"
   ]
  },
  {
   "cell_type": "code",
   "execution_count": 82,
   "id": "260ba803",
   "metadata": {},
   "outputs": [
    {
     "name": "stdout",
     "output_type": "stream",
     "text": [
      "{'Bob': 3, 'Patricio': 1, 'Arenita': 1, 'Calamardo': 3, 'Don Cangrejo': 1}\n"
     ]
    }
   ],
   "source": [
    "cuenta = dict()\n",
    "\n",
    "for nombre in amigos:\n",
    "    cuenta[nombre] = 0\n",
    "    for otro_nombre in amigos:\n",
    "        if nombre != otro_nombre and nombre in amigos[otro_nombre]:\n",
    "            cuenta[nombre] += 1\n",
    "print(cuenta)"
   ]
  },
  {
   "cell_type": "code",
   "execution_count": 83,
   "id": "4a447009",
   "metadata": {},
   "outputs": [
    {
     "name": "stdout",
     "output_type": "stream",
     "text": [
      "{'Bob': 3, 'Patricio': 1, 'Arenita': 1, 'Calamardo': 3, 'Don Cangrejo': 1}\n"
     ]
    }
   ],
   "source": [
    "cuenta = dict()\n",
    "for nombre in amigos:\n",
    "    cuenta[nombre] = 0\n",
    "for nombre in amigos:\n",
    "    lista_amigo = amigos[nombre]\n",
    "    for nombre in cuenta:\n",
    "        if nombre in lista_amigo:\n",
    "            cuenta[nombre] += 1\n",
    "\n",
    "print(cuenta)"
   ]
  },
  {
   "cell_type": "code",
   "execution_count": 86,
   "id": "537490b5",
   "metadata": {},
   "outputs": [
    {
     "ename": "KeyError",
     "evalue": "'Patricio'",
     "output_type": "error",
     "traceback": [
      "\u001b[0;31m---------------------------------------------------------------------------\u001b[0m",
      "\u001b[0;31mKeyError\u001b[0m                                  Traceback (most recent call last)",
      "Cell \u001b[0;32mIn[86], line 6\u001b[0m\n\u001b[1;32m      4\u001b[0m     cuenta[nombre] \u001b[38;5;241m=\u001b[39m \u001b[38;5;241m0\u001b[39m\n\u001b[1;32m      5\u001b[0m     \u001b[38;5;28;01mfor\u001b[39;00m amigo \u001b[38;5;129;01min\u001b[39;00m lista_amigos:\n\u001b[0;32m----> 6\u001b[0m         cuenta[amigo] \u001b[38;5;241m+\u001b[39m\u001b[38;5;241m=\u001b[39m \u001b[38;5;241m1\u001b[39m\n\u001b[1;32m      7\u001b[0m \u001b[38;5;28mprint\u001b[39m(cuenta)\n",
      "\u001b[0;31mKeyError\u001b[0m: 'Patricio'"
     ]
    }
   ],
   "source": [
    "cuenta = dict()\n",
    "\n",
    "for nombre, lista_amigos in amigos.items():\n",
    "    cuenta[nombre] = 0\n",
    "    for amigo in lista_amigos:\n",
    "        cuenta[amigo] += 1\n",
    "print(cuenta)"
   ]
  },
  {
   "cell_type": "code",
   "execution_count": null,
   "id": "a7309d66",
   "metadata": {},
   "outputs": [],
   "source": []
  }
 ],
 "metadata": {
  "kernelspec": {
   "display_name": "da-py3.12",
   "language": "python",
   "name": "python3"
  },
  "language_info": {
   "codemirror_mode": {
    "name": "ipython",
    "version": 3
   },
   "file_extension": ".py",
   "mimetype": "text/x-python",
   "name": "python",
   "nbconvert_exporter": "python",
   "pygments_lexer": "ipython3",
   "version": "3.12.2"
  }
 },
 "nbformat": 4,
 "nbformat_minor": 5
}
