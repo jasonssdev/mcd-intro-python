{
 "cells": [
  {
   "cell_type": "markdown",
   "id": "d25a16cf",
   "metadata": {},
   "source": [
    "1. Tienes una lista de listas con información respecto a un juego de golf entre 3 amigos. Cada lista interior contiene el nombre del jugador, seguido de cuando golpes le dió a la pelota en cada uno de los 18 hoyos.\n",
    "\n",
    "```python\n",
    "partida = [\n",
    "['Camila',12, 9, 5, 12, 9, 5, 5, 8, 7, 10, 6, 5, 1, 4, 9, 9, 3, 6],\n",
    "['Ernesto',6, 5, 8, 12, 8, 5, 7, 10, 2, 5, 1, 9, 4, 10, 2, 2, 1, 7],\n",
    "['Viviana',9, 4, 7, 5, 10, 3, 4, 1, 12, 11, 1, 1, 11, 3, 10, 8, 1, 3]\n",
    "]\n",
    "```\n",
    "El ganador de la partida es aquel jugador que haya logrado la menor cantidad de golpes en los 18 hoyos. ¿Cuál de los siguientes códigos imprime correctamente el nombre del ganador?"
   ]
  },
  {
   "cell_type": "code",
   "execution_count": 1,
   "id": "7c0bcf02",
   "metadata": {},
   "outputs": [],
   "source": [
    "partida = [\n",
    "    ['Camila', 12, 9, 5, 12, 9, 5, 5, 8, 7, 10, 6, 5, 1, 4, 9, 9, 3, 6],\n",
    "    ['Ernesto', 6, 5, 8, 12, 8, 5, 7, 10, 2, 5, 1, 9, 4, 10, 2, 2, 1, 7],\n",
    "    ['Viviana', 9, 4, 7, 5, 10, 3, 4, 1, 12, 11, 1, 1, 11, 3, 10, 8, 1, 3]\n",
    "]"
   ]
  },
  {
   "cell_type": "code",
   "execution_count": 2,
   "id": "9d152410",
   "metadata": {},
   "outputs": [
    {
     "name": "stdout",
     "output_type": "stream",
     "text": [
      "Camila 125\n",
      "Ernesto 104\n",
      "Viviana 104\n"
     ]
    }
   ],
   "source": [
    "print(partida[0][0], sum(partida[0][1:]))\n",
    "print(partida[1][0], sum(partida[1][1:]))\n",
    "print(partida[2][0], sum(partida[2][1:]))"
   ]
  },
  {
   "cell_type": "code",
   "execution_count": 4,
   "id": "f1fa8245",
   "metadata": {},
   "outputs": [
    {
     "name": "stdout",
     "output_type": "stream",
     "text": [
      "Ganador: Ernesto\n"
     ]
    }
   ],
   "source": [
    "mejor = (0, '')\n",
    "for jug in partida:\n",
    "    nombre, golpes = jug[0], sum( jug[1:] )\n",
    "    if mejor[0] == 0 or mejor[0] > golpes:\n",
    "        mejor = (golpes, nombre)\n",
    "print('Ganador: '+mejor[1])"
   ]
  },
  {
   "cell_type": "markdown",
   "id": "cf0748f1",
   "metadata": {},
   "source": [
    "2. Tienes la siguiente clase vehículo:\n",
    "\n",
    "```python\n",
    "class Vehiculo:\n",
    "    def __init__(self, r):\n",
    "        self.ruedas = r\n",
    "        self.kilometraje = 0\n",
    "\n",
    "    def avanzar(self):\n",
    "        self.kilometraje += 10\n",
    "\n",
    "    def tiempo_repacion(self):\n",
    "        if self.ruedas == 2:\n",
    "```\n",
    "\n",
    "Debes definir la clase taller. En este taller los autos se reparan en orden de llegada, sin embargo, siempre se reparan los vehículos que toman menos de 15 primero. Si no hay vehículos que se demoren menos de 15, entones reparan al vehículo de más de 15 que lleve más tiempo en el taller.\n",
    "\n",
    "¿Cuál de los siguientes código define correctamente una clase taller, además de su constructor y un método siguiente_vehículo, el cuál retorna correctamente el siguiente vehículo a reparar?"
   ]
  },
  {
   "cell_type": "code",
   "execution_count": 27,
   "id": "d8c65ea3",
   "metadata": {},
   "outputs": [],
   "source": [
    "class Vehiculo:\n",
    "\n",
    "    def __init__(self, r):\n",
    "        self.ruedas = r\n",
    "        self.kilometraje = 0\n",
    "\n",
    "    def avanzar(self):\n",
    "        self.kilometraje += 10\n",
    "\n",
    "    def tiempo_repacion(self):\n",
    "        if self.ruedas == 2:\n",
    "            return 5\n",
    "        if self.ruedas > 4:\n",
    "            return 20\n",
    "        return 10\n",
    "\n",
    "    def __str__(self):\n",
    "        return f\"Vehículo de {self.ruedas} ruedas, {self.kilometraje} km\""
   ]
  },
  {
   "cell_type": "code",
   "execution_count": 28,
   "id": "21c9cde2",
   "metadata": {},
   "outputs": [],
   "source": [
    "from collections import deque\n",
    "\n",
    "\n",
    "class Taller:\n",
    "\n",
    "    def __init__(self):\n",
    "        self.rapidos = deque()\n",
    "        self.lentos = deque()\n",
    "\n",
    "    def agregar_vehiculo(self, veh):\n",
    "        if veh.tiempo_repacion() < 15:\n",
    "            self.rapidos.append(veh)\n",
    "        else:\n",
    "            self.lentos.append(veh)\n",
    "\n",
    "    def siguiente_vehiculo(self):\n",
    "        if len(self.rapidos) > 0:\n",
    "            return self.rapidos.popleft()\n",
    "        return self.lentos.popleft()\n",
    "\n",
    "    def __str__(self):\n",
    "        rapidos_str = \"\\n  \".join(str(v) for v in self.rapidos)\n",
    "        lentos_str = \"\\n  \".join(str(v) for v in self.lentos)\n",
    "        return (\n",
    "            f\"Taller:\\n\"\n",
    "            f\"Rápidos ({len(self.rapidos)}):\\n  {rapidos_str or 'Ninguno'}\\n\"\n",
    "            f\"Lentos ({len(self.lentos)}):\\n  {lentos_str or 'Ninguno'}\")"
   ]
  },
  {
   "cell_type": "code",
   "execution_count": 29,
   "id": "505014b5",
   "metadata": {},
   "outputs": [],
   "source": [
    "veh_1 = Vehiculo(r=1)\n",
    "veh_2 = Vehiculo(r=2)\n",
    "veh_3 = Vehiculo(r=3)\n",
    "veh_4 = Vehiculo(r=4)\n",
    "veh_5 = Vehiculo(r=5)\n",
    "veh_6 = Vehiculo(r=6)\n",
    "veh_7 = Vehiculo(r=7)\n",
    "taller = Taller()"
   ]
  },
  {
   "cell_type": "code",
   "execution_count": 30,
   "id": "577dbe1e",
   "metadata": {},
   "outputs": [],
   "source": [
    "taller.agregar_vehiculo(veh_1)\n",
    "taller.agregar_vehiculo(veh_2)\n",
    "taller.agregar_vehiculo(veh_3)\n",
    "taller.agregar_vehiculo(veh_4)\n",
    "taller.agregar_vehiculo(veh_5)\n",
    "taller.agregar_vehiculo(veh_6)\n",
    "taller.agregar_vehiculo(veh_7)"
   ]
  },
  {
   "cell_type": "code",
   "execution_count": 32,
   "id": "fe3b2c19",
   "metadata": {},
   "outputs": [
    {
     "name": "stdout",
     "output_type": "stream",
     "text": [
      "Taller:\n",
      "Rápidos (4):\n",
      "  Vehículo de 1 ruedas, 0 km\n",
      "  Vehículo de 2 ruedas, 0 km\n",
      "  Vehículo de 3 ruedas, 0 km\n",
      "  Vehículo de 4 ruedas, 0 km\n",
      "Lentos (3):\n",
      "  Vehículo de 5 ruedas, 0 km\n",
      "  Vehículo de 6 ruedas, 0 km\n",
      "  Vehículo de 7 ruedas, 0 km\n"
     ]
    }
   ],
   "source": [
    "print(taller)"
   ]
  },
  {
   "cell_type": "code",
   "execution_count": 39,
   "id": "fac5653a",
   "metadata": {},
   "outputs": [
    {
     "name": "stdout",
     "output_type": "stream",
     "text": [
      "Taller:\n",
      "Rápidos (0):\n",
      "  Ninguno\n",
      "Lentos (0):\n",
      "  Ninguno\n"
     ]
    }
   ],
   "source": [
    "taller.siguiente_vehiculo()\n",
    "print(taller)"
   ]
  },
  {
   "cell_type": "markdown",
   "id": "e535b39c",
   "metadata": {},
   "source": [
    "3. Tienes una lista de diccionarios con la información de curriculums de postulantes a tu empresa. La información viene en el siguiente formato:\n",
    "\n",
    "```python\n",
    "postulantes = [{\n",
    "'nombre': 'Camila',\n",
    "'edad': 28,\n",
    "'telefono': 912341234,\n",
    "'correo': 'caguirre@gmail.com'\n",
    "},\n",
    "{'nombre': 'Ernesto',\n",
    "'edad': 30,\n",
    "'telefono': 912121212\n",
    "},\n",
    "```\n",
    "\n",
    "Luego de un filtro inicial a los postulantes decides comunicarte con los que quedan para coordinar una entrevista. Para esto decides primero mandarles un correo, y en caso de no tener sus correos, decides llamar por teléfono.\n",
    "\n",
    "Para esto necesitas un código que te imprima en pantalla el nombre del postulante seguido de su información de contacto, siendo está el correo en caso de haberlo enviado, y el teléfono en caso contrario. ¿Cuál de los siguientes códigos imprime la información correctamente?"
   ]
  },
  {
   "cell_type": "code",
   "execution_count": 40,
   "id": "f115269e",
   "metadata": {},
   "outputs": [],
   "source": [
    "postulantes = [{\n",
    "'nombre': 'Camila',\n",
    "'edad': 28,\n",
    "'telefono': 912341234,\n",
    "'correo': 'caguirre@gmail.com'\n",
    "},\n",
    "{'nombre': 'Ernesto',\n",
    "'edad': 30,\n",
    "'telefono': 912121212\n",
    "},\n",
    "{'nombre': 'Viviana',\n",
    "'edad': 27,\n",
    "'telefono': 911111111,\n",
    "'correo': 'vbarroso@gmail.com'\n",
    "}\n",
    "]"
   ]
  },
  {
   "cell_type": "code",
   "execution_count": 53,
   "id": "d16c5e1c",
   "metadata": {},
   "outputs": [
    {
     "name": "stdout",
     "output_type": "stream",
     "text": [
      "Camila - caguirre@gmail.com\n",
      "Ernesto - 912121212\n",
      "Viviana - vbarroso@gmail.com\n"
     ]
    }
   ],
   "source": [
    "for postulante in postulantes:\n",
    "    if 'correo' in postulante:\n",
    "        print( postulante['nombre'] + ' - ' + postulante['correo'])\n",
    "    else:\n",
    "        print( postulante['nombre'] + ' - ' + str(postulante['telefono']))\n"
   ]
  },
  {
   "cell_type": "markdown",
   "id": "50bd4037",
   "metadata": {},
   "source": [
    "4. La secuencia de número bonitos sigue una regla simple: parte con 2 y 3, luego, cada valor es igual a la multiplicación de los 2 anteriores menos 5. Por ejemplo, los primeros 8 valores son los siguientes:\n",
    "\n",
    "2, 3, 1, -2, -7, 9, -68, -617  , …\n",
    "\n",
    "Así, el número en la posición 0 de la secuencia es el 2, el número en la posición 1 es el 3, el de la posición 2 es el 1 y así.\n",
    "\n",
    "Quieres definir la función bonitos(pos), la cual recibe como parámetro con un entero con una posición y retorna el número que se encuentra en esa posición de la secuencia de números bontios. ¿Cuál de los siguientes códigos define bonitos(pos) correctamente?"
   ]
  },
  {
   "cell_type": "code",
   "execution_count": 4,
   "id": "39d098af",
   "metadata": {},
   "outputs": [],
   "source": [
    "def bonitos(pos):\n",
    "    if pos == 0 or pos == 1:\n",
    "        return pos + 2\n",
    "    return bonitos(pos-1)*bonitos(pos-2) - 5\n"
   ]
  },
  {
   "cell_type": "code",
   "execution_count": 10,
   "id": "4dbed1ef",
   "metadata": {},
   "outputs": [
    {
     "data": {
      "text/plain": [
       "3"
      ]
     },
     "execution_count": 10,
     "metadata": {},
     "output_type": "execute_result"
    }
   ],
   "source": [
    "bonitos(1)"
   ]
  },
  {
   "cell_type": "markdown",
   "id": "f958c92a",
   "metadata": {},
   "source": [
    "5.\n",
    "Question 5\n",
    "Dado el siguiente código:\n",
    "\n",
    "```python\n",
    "class Gema:\n",
    "    def __init__(self, nom, dur, vol):\n",
    "        self.nombre = nom\n",
    "        self.dureza = dur\n",
    "        self.volumen = vol\n",
    "\n",
    "    def precio(self):\n",
    "        return self.dureza * self.volumen * 500\n",
    "\n",
    "gemas = []\n",
    "```\n",
    "Sabes que la función llenar_lista(gemas) llena la lista gemas con varias instancias de la clase Gema, luego, te piden que retornes una lista de diccionarios, donde cada diccionario de la lista contiene la información de cada una de las instancia de gemas. Estos diccionarios deberán tener las keys: nombre, dureza, volumen y precio. El value de estas keys deberá ser el valor que tienen estos atributos en la instancia de cada Gema. La key precio deberá tener de valor el retorno del método precio(). \n",
    "\n",
    "Por ejemplo, si a tiene las siguientes instancias:\n",
    "\n",
    "```python\n",
    "g1 = Gema('Esmeralda', 7.5, 60)\n",
    "g2 = Gema('Ruby', 9, 30)\n",
    "g3 = Gema('Diamante', 10, 20)\n",
    "\n",
    "gemas = [g1, g2, g3]\n",
    "```\n",
    "Entonces deberás imprimir la siguientes lista:\n",
    "\n",
    "```python\n",
    "[{'nombre': 'Esmeralda',\n",
    "'dureza': 7.5,\n",
    "'volumen': 60,\n",
    "'precio': 225000},{\n",
    "'nombre': 'Ruby',\n",
    "'dureza': 9,\n",
    "'volumen': 30,\n",
    "'precio': 135000},{\n",
    "'nombre': 'Diamante',\n",
    "'dureza': 10,\n",
    "'volumen': 20,\n",
    "'precio': 100000}]\n",
    "```"
   ]
  },
  {
   "cell_type": "code",
   "execution_count": 14,
   "id": "8e5f53dd",
   "metadata": {},
   "outputs": [],
   "source": [
    "class Gema:\n",
    "    def __init__(self, nom, dur, vol):\n",
    "        self.nombre = nom\n",
    "        self.dureza = dur\n",
    "        self.volumen = vol\n",
    "\n",
    "    def precio(self):\n",
    "        return self.dureza * self.volumen * 500\n",
    "    \n",
    "    def __str__(self):\n",
    "        return f\"Gema {self.nombre}: {self.dureza} de dureza, {self.volumen} de volumen\"\n",
    "\n"
   ]
  },
  {
   "cell_type": "code",
   "execution_count": 15,
   "id": "c00430fe",
   "metadata": {},
   "outputs": [],
   "source": [
    "g1 = Gema('Esmeralda', 7.5, 60)\n",
    "g2 = Gema('Ruby', 9, 30)\n",
    "g3 = Gema('Diamante', 10, 20)\n",
    "\n",
    "gemas = [g1, g2, g3]"
   ]
  },
  {
   "cell_type": "code",
   "execution_count": 22,
   "id": "761d528a",
   "metadata": {},
   "outputs": [
    {
     "name": "stdout",
     "output_type": "stream",
     "text": [
      "225000.0\n",
      "Gema Ruby: 9 de dureza, 30 de volumen\n",
      "Gema Diamante: 10 de dureza, 20 de volumen\n"
     ]
    }
   ],
   "source": [
    "print(g1.precio())\n",
    "print(g2)\n",
    "print(g3)\n"
   ]
  },
  {
   "cell_type": "code",
   "execution_count": 24,
   "id": "026694b6",
   "metadata": {},
   "outputs": [
    {
     "name": "stdout",
     "output_type": "stream",
     "text": [
      "[{'nombre': 'Esmeralda', 'dureza': 7.5, 'volumen': 60, 'precio': 225000.0}, {'nombre': 'Ruby', 'dureza': 9, 'volumen': 30, 'precio': 135000}, {'nombre': 'Diamante', 'dureza': 10, 'volumen': 20, 'precio': 100000}]\n",
      "{'nombre': 'Esmeralda', 'dureza': 7.5, 'volumen': 60, 'precio': 225000.0}\n"
     ]
    }
   ],
   "source": [
    "lista = []\n",
    "for gema in gemas:\n",
    "    diccionario = {\n",
    "        'nombre': gema.nombre,\n",
    "        'dureza': gema.dureza,\n",
    "        'volumen': gema.volumen,\n",
    "        'precio': gema.precio()\n",
    "    }\n",
    "    lista.append(diccionario)\n",
    "print(lista)\n",
    "print(lista[0])\n"
   ]
  },
  {
   "cell_type": "markdown",
   "id": "448c2105",
   "metadata": {},
   "source": [
    "6. Tienes la siguiente clase de Usuario:\n",
    "\n",
    "```python\n",
    "class Usuario:\n",
    "    def __init__(self, nombre, password):\n",
    "        self.nombre = nombre\n",
    "        self.password = password\n",
    "```\n",
    "Además, tiene la siguiente clase Netflix:\n",
    "\n",
    "```python\n",
    "class Netflix:\n",
    "    def __init__(self):\n",
    "        self.usuarios = dict()\n",
    "        self.siguiente_id = 0\n",
    "\n",
    "    def agregar_usuario(self, usuario):\n",
    "        self.usuarios[self.siguiente_id] = usuario\n",
    "        self.siguiente_id += 1\n",
    "```\n",
    "Un ejemplo de uso de la clase Netflix y su método agregar_usuario es el siguiente:\n",
    "\n",
    "```python\n",
    "netf = Netflix()\n",
    "us1 = Usuario('Juan', '12345')\n",
    "us2 = Usuario('Lola', 'contra5ena')\n",
    "netf.agregar_usuario(us1)\n",
    "netf.agregar_usuario(us2)\n",
    "```\n",
    "Quieres agregar a la clase Netflix el método conectarse(self, nombre, password), la cual representa el inicio de sesión de un usuario. El método deberá retornar True si existe algún usuario en la lista de usuarios que tenga ese nombre y contraseña y retornar False en caso contrario. ¿Cuál de los siguientes códigos define conectarse correctamente? Puedes asumir que en todos los casos el método se define dentro de la clase Netflix.\n",
    "\n"
   ]
  },
  {
   "cell_type": "code",
   "execution_count": 48,
   "id": "e9dfa9ca",
   "metadata": {},
   "outputs": [
    {
     "name": "stdout",
     "output_type": "stream",
     "text": [
      "True\n"
     ]
    }
   ],
   "source": [
    "class Usuario:\n",
    "    def __init__(self, nombre, password):\n",
    "        self.nombre = nombre\n",
    "        self.password = password\n",
    "\n",
    "class Netflix:\n",
    "    def __init__(self):\n",
    "        self.usuarios = dict()\n",
    "        self.siguiente_id = 0\n",
    "\n",
    "    def agregar_usuario(self, usuario):\n",
    "        self.usuarios[self.siguiente_id] = usuario\n",
    "        self.siguiente_id += 1\n",
    "\n",
    "    def conectarse(self, nombre, password):\n",
    "        for usuarios in self.usuarios:\n",
    "            usuario = self.usuarios[usuarios]\n",
    "            if usuario.nombre == nombre and usuario.password == password:\n",
    "                return True\n",
    "        return False\n",
    "\n",
    "    \n",
    "    def __str__(self):\n",
    "        return f\"Netflix con {self.usuarios} usuarios\"\n",
    "\n",
    "\n",
    "netf = Netflix()\n",
    "us1 = Usuario('Juan', '12345')\n",
    "us2 = Usuario('Lola', 'contrasena')\n",
    "netf.agregar_usuario(us1)\n",
    "netf.agregar_usuario(us2)\n",
    "\n",
    "print(netf.conectarse('Lola', 'contrasena'))\n"
   ]
  },
  {
   "cell_type": "code",
   "execution_count": null,
   "id": "8c186c06",
   "metadata": {},
   "outputs": [],
   "source": []
  }
 ],
 "metadata": {
  "kernelspec": {
   "display_name": "da-py3.12",
   "language": "python",
   "name": "python3"
  },
  "language_info": {
   "codemirror_mode": {
    "name": "ipython",
    "version": 3
   },
   "file_extension": ".py",
   "mimetype": "text/x-python",
   "name": "python",
   "nbconvert_exporter": "python",
   "pygments_lexer": "ipython3",
   "version": "3.12.2"
  }
 },
 "nbformat": 4,
 "nbformat_minor": 5
}
