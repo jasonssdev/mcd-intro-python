{
 "cells": [
  {
   "cell_type": "markdown",
   "id": "d25a16cf",
   "metadata": {},
   "source": [
    "1. Tienes una lista de listas con información respecto a un juego de golf entre 3 amigos. Cada lista interior contiene el nombre del jugador, seguido de cuando golpes le dió a la pelota en cada uno de los 18 hoyos.\n",
    "\n",
    "```python\n",
    "partida = [\n",
    "['Camila',12, 9, 5, 12, 9, 5, 5, 8, 7, 10, 6, 5, 1, 4, 9, 9, 3, 6],\n",
    "['Ernesto',6, 5, 8, 12, 8, 5, 7, 10, 2, 5, 1, 9, 4, 10, 2, 2, 1, 7],\n",
    "['Viviana',9, 4, 7, 5, 10, 3, 4, 1, 12, 11, 1, 1, 11, 3, 10, 8, 1, 3]\n",
    "]\n",
    "```\n",
    "El ganador de la partida es aquel jugador que haya logrado la menor cantidad de golpes en los 18 hoyos. ¿Cuál de los siguientes códigos imprime correctamente el nombre del ganador?"
   ]
  },
  {
   "cell_type": "code",
   "execution_count": 1,
   "id": "7c0bcf02",
   "metadata": {},
   "outputs": [],
   "source": [
    "partida = [\n",
    "    ['Camila', 12, 9, 5, 12, 9, 5, 5, 8, 7, 10, 6, 5, 1, 4, 9, 9, 3, 6],\n",
    "    ['Ernesto', 6, 5, 8, 12, 8, 5, 7, 10, 2, 5, 1, 9, 4, 10, 2, 2, 1, 7],\n",
    "    ['Viviana', 9, 4, 7, 5, 10, 3, 4, 1, 12, 11, 1, 1, 11, 3, 10, 8, 1, 3]\n",
    "]"
   ]
  },
  {
   "cell_type": "code",
   "execution_count": 2,
   "id": "9d152410",
   "metadata": {},
   "outputs": [
    {
     "name": "stdout",
     "output_type": "stream",
     "text": [
      "Camila 125\n",
      "Ernesto 104\n",
      "Viviana 104\n"
     ]
    }
   ],
   "source": [
    "print(partida[0][0], sum(partida[0][1:]))\n",
    "print(partida[1][0], sum(partida[1][1:]))\n",
    "print(partida[2][0], sum(partida[2][1:]))"
   ]
  },
  {
   "cell_type": "code",
   "execution_count": 4,
   "id": "f1fa8245",
   "metadata": {},
   "outputs": [
    {
     "name": "stdout",
     "output_type": "stream",
     "text": [
      "Ganador: Ernesto\n"
     ]
    }
   ],
   "source": [
    "mejor = (0, '')\n",
    "for jug in partida:\n",
    "    nombre, golpes = jug[0], sum( jug[1:] )\n",
    "    if mejor[0] == 0 or mejor[0] > golpes:\n",
    "        mejor = (golpes, nombre)\n",
    "print('Ganador: '+mejor[1])"
   ]
  },
  {
   "cell_type": "markdown",
   "id": "cf0748f1",
   "metadata": {},
   "source": [
    "2. Tienes la siguiente clase vehículo:\n",
    "\n",
    "```python\n",
    "class Vehiculo:\n",
    "    def __init__(self, r):\n",
    "        self.ruedas = r\n",
    "        self.kilometraje = 0\n",
    "\n",
    "    def avanzar(self):\n",
    "        self.kilometraje += 10\n",
    "\n",
    "    def tiempo_repacion(self):\n",
    "        if self.ruedas == 2:\n",
    "```\n",
    "\n",
    "Debes definir la clase taller. En este taller los autos se reparan en orden de llegada, sin embargo, siempre se reparan los vehículos que toman menos de 15 primero. Si no hay vehículos que se demoren menos de 15, entones reparan al vehículo de más de 15 que lleve más tiempo en el taller.\n",
    "\n",
    "¿Cuál de los siguientes código define correctamente una clase taller, además de su constructor y un método siguiente_vehículo, el cuál retorna correctamente el siguiente vehículo a reparar?"
   ]
  },
  {
   "cell_type": "code",
   "execution_count": 27,
   "id": "d8c65ea3",
   "metadata": {},
   "outputs": [],
   "source": [
    "class Vehiculo:\n",
    "\n",
    "    def __init__(self, r):\n",
    "        self.ruedas = r\n",
    "        self.kilometraje = 0\n",
    "\n",
    "    def avanzar(self):\n",
    "        self.kilometraje += 10\n",
    "\n",
    "    def tiempo_repacion(self):\n",
    "        if self.ruedas == 2:\n",
    "            return 5\n",
    "        if self.ruedas > 4:\n",
    "            return 20\n",
    "        return 10\n",
    "\n",
    "    def __str__(self):\n",
    "        return f\"Vehículo de {self.ruedas} ruedas, {self.kilometraje} km\""
   ]
  },
  {
   "cell_type": "code",
   "execution_count": 28,
   "id": "21c9cde2",
   "metadata": {},
   "outputs": [],
   "source": [
    "from collections import deque\n",
    "\n",
    "\n",
    "class Taller:\n",
    "\n",
    "    def __init__(self):\n",
    "        self.rapidos = deque()\n",
    "        self.lentos = deque()\n",
    "\n",
    "    def agregar_vehiculo(self, veh):\n",
    "        if veh.tiempo_repacion() < 15:\n",
    "            self.rapidos.append(veh)\n",
    "        else:\n",
    "            self.lentos.append(veh)\n",
    "\n",
    "    def siguiente_vehiculo(self):\n",
    "        if len(self.rapidos) > 0:\n",
    "            return self.rapidos.popleft()\n",
    "        return self.lentos.popleft()\n",
    "\n",
    "    def __str__(self):\n",
    "        rapidos_str = \"\\n  \".join(str(v) for v in self.rapidos)\n",
    "        lentos_str = \"\\n  \".join(str(v) for v in self.lentos)\n",
    "        return (\n",
    "            f\"Taller:\\n\"\n",
    "            f\"Rápidos ({len(self.rapidos)}):\\n  {rapidos_str or 'Ninguno'}\\n\"\n",
    "            f\"Lentos ({len(self.lentos)}):\\n  {lentos_str or 'Ninguno'}\")"
   ]
  },
  {
   "cell_type": "code",
   "execution_count": 29,
   "id": "505014b5",
   "metadata": {},
   "outputs": [],
   "source": [
    "veh_1 = Vehiculo(r=1)\n",
    "veh_2 = Vehiculo(r=2)\n",
    "veh_3 = Vehiculo(r=3)\n",
    "veh_4 = Vehiculo(r=4)\n",
    "veh_5 = Vehiculo(r=5)\n",
    "veh_6 = Vehiculo(r=6)\n",
    "veh_7 = Vehiculo(r=7)\n",
    "taller = Taller()"
   ]
  },
  {
   "cell_type": "code",
   "execution_count": 30,
   "id": "577dbe1e",
   "metadata": {},
   "outputs": [],
   "source": [
    "taller.agregar_vehiculo(veh_1)\n",
    "taller.agregar_vehiculo(veh_2)\n",
    "taller.agregar_vehiculo(veh_3)\n",
    "taller.agregar_vehiculo(veh_4)\n",
    "taller.agregar_vehiculo(veh_5)\n",
    "taller.agregar_vehiculo(veh_6)\n",
    "taller.agregar_vehiculo(veh_7)"
   ]
  },
  {
   "cell_type": "code",
   "execution_count": 32,
   "id": "fe3b2c19",
   "metadata": {},
   "outputs": [
    {
     "name": "stdout",
     "output_type": "stream",
     "text": [
      "Taller:\n",
      "Rápidos (4):\n",
      "  Vehículo de 1 ruedas, 0 km\n",
      "  Vehículo de 2 ruedas, 0 km\n",
      "  Vehículo de 3 ruedas, 0 km\n",
      "  Vehículo de 4 ruedas, 0 km\n",
      "Lentos (3):\n",
      "  Vehículo de 5 ruedas, 0 km\n",
      "  Vehículo de 6 ruedas, 0 km\n",
      "  Vehículo de 7 ruedas, 0 km\n"
     ]
    }
   ],
   "source": [
    "print(taller)"
   ]
  },
  {
   "cell_type": "code",
   "execution_count": 39,
   "id": "fac5653a",
   "metadata": {},
   "outputs": [
    {
     "name": "stdout",
     "output_type": "stream",
     "text": [
      "Taller:\n",
      "Rápidos (0):\n",
      "  Ninguno\n",
      "Lentos (0):\n",
      "  Ninguno\n"
     ]
    }
   ],
   "source": [
    "taller.siguiente_vehiculo()\n",
    "print(taller)"
   ]
  },
  {
   "cell_type": "markdown",
   "id": "e535b39c",
   "metadata": {},
   "source": [
    "3. Tienes una lista de diccionarios con la información de curriculums de postulantes a tu empresa. La información viene en el siguiente formato:\n",
    "\n",
    "```python\n",
    "postulantes = [{\n",
    "'nombre': 'Camila',\n",
    "'edad': 28,\n",
    "'telefono': 912341234,\n",
    "'correo': 'caguirre@gmail.com'\n",
    "},\n",
    "{'nombre': 'Ernesto',\n",
    "'edad': 30,\n",
    "'telefono': 912121212\n",
    "},\n",
    "```\n",
    "\n",
    "Luego de un filtro inicial a los postulantes decides comunicarte con los que quedan para coordinar una entrevista. Para esto decides primero mandarles un correo, y en caso de no tener sus correos, decides llamar por teléfono.\n",
    "\n",
    "Para esto necesitas un código que te imprima en pantalla el nombre del postulante seguido de su información de contacto, siendo está el correo en caso de haberlo enviado, y el teléfono en caso contrario. ¿Cuál de los siguientes códigos imprime la información correctamente?"
   ]
  },
  {
   "cell_type": "code",
   "execution_count": 40,
   "id": "f115269e",
   "metadata": {},
   "outputs": [],
   "source": [
    "postulantes = [{\n",
    "'nombre': 'Camila',\n",
    "'edad': 28,\n",
    "'telefono': 912341234,\n",
    "'correo': 'caguirre@gmail.com'\n",
    "},\n",
    "{'nombre': 'Ernesto',\n",
    "'edad': 30,\n",
    "'telefono': 912121212\n",
    "},\n",
    "{'nombre': 'Viviana',\n",
    "'edad': 27,\n",
    "'telefono': 911111111,\n",
    "'correo': 'vbarroso@gmail.com'\n",
    "}\n",
    "]"
   ]
  },
  {
   "cell_type": "code",
   "execution_count": 53,
   "id": "d16c5e1c",
   "metadata": {},
   "outputs": [
    {
     "name": "stdout",
     "output_type": "stream",
     "text": [
      "Camila - caguirre@gmail.com\n",
      "Ernesto - 912121212\n",
      "Viviana - vbarroso@gmail.com\n"
     ]
    }
   ],
   "source": [
    "for postulante in postulantes:\n",
    "    if 'correo' in postulante:\n",
    "        print( postulante['nombre'] + ' - ' + postulante['correo'])\n",
    "    else:\n",
    "        print( postulante['nombre'] + ' - ' + str(postulante['telefono']))\n"
   ]
  },
  {
   "cell_type": "code",
   "execution_count": null,
   "id": "39d098af",
   "metadata": {},
   "outputs": [],
   "source": []
  }
 ],
 "metadata": {
  "kernelspec": {
   "display_name": "da-py3.12",
   "language": "python",
   "name": "python3"
  },
  "language_info": {
   "codemirror_mode": {
    "name": "ipython",
    "version": 3
   },
   "file_extension": ".py",
   "mimetype": "text/x-python",
   "name": "python",
   "nbconvert_exporter": "python",
   "pygments_lexer": "ipython3",
   "version": "3.12.2"
  }
 },
 "nbformat": 4,
 "nbformat_minor": 5
}
