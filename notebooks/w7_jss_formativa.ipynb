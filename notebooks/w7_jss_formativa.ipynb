{
 "cells": [
  {
   "cell_type": "markdown",
   "id": "158500c5",
   "metadata": {},
   "source": [
    "1. Question 1\n",
    "Tienes una lista con los nombres de 4 jugadores de un juego:\n",
    "```python\n",
    "jugadores = [ 'Bob', 'Patricio', 'Calamardo', 'Arenita' ]\n",
    "```\n",
    "\n",
    "El juego funciona de la siguiente forma, el primer jugador lanza una moneda: si lanza cara sigue participando, si lanza sello es eliminado. Luego, el segundo jugador lanza la moneda y así sucesivamente. Luego de que juegue el cuarto jugador le toca de nuevo al primero. Si un jugador es eliminado, entonces ya no deberá lanzar la moneda y se saltará su turno.\n",
    "\n",
    "La lista está ordenada por orden de jugadores, en el ejemplo de jugadores anterior, el primer jugador sería Bob y el cuarto jugador Arenita. El juego termina cuando solamente queda un jugador que no haya sido eliminado.\n",
    "\n",
    "Para simular el lanzamiento de la moneda se utiliza la función randint(0,1), la cuál retorna al azar 0 o 1. Si retorna 1 lo consideraremos como cara y si retorna 0 lo consideraremos como sello.\n",
    "\n",
    "¿Cuál de las siguientes funciones simula el juego y retorna correctamente al ganador?"
   ]
  },
  {
   "cell_type": "code",
   "execution_count": 32,
   "id": "4cd5b454",
   "metadata": {},
   "outputs": [
    {
     "name": "stdout",
     "output_type": "stream",
     "text": [
      "Jugadores restantes: ['Bob', 'Patricio', 'Calamardo', 'Arenita']\n",
      "Jugadores restantes: ['Bob', 'Patricio', 'Calamardo', 'Arenita']\n",
      "Calamardo ha sido eliminado\n",
      "Jugadores restantes: ['Bob', 'Patricio', 'Arenita']\n",
      "Jugadores restantes: ['Bob', 'Patricio', 'Arenita']\n",
      "Patricio ha sido eliminado\n",
      "Jugadores restantes: ['Bob', 'Arenita']\n",
      "Bob ha sido eliminado\n",
      "Jugadores restantes: ['Arenita']\n",
      "Ganador: Arenita\n"
     ]
    }
   ],
   "source": [
    "jugadores = ['Bob', 'Patricio', 'Calamardo', 'Arenita']\n",
    "\n",
    "from random import randint\n",
    "\n",
    "\n",
    "def juego(jugadores, jug_actual):\n",
    "    if len(jugadores) == 1:\n",
    "        return 'Ganador: ' + jugadores[0]\n",
    "\n",
    "    jugador = jugadores[jug_actual]\n",
    "    if randint(0, 1) == 0:\n",
    "        jugadores.remove(jugador)\n",
    "        print(jugador + ' ha sido eliminado')\n",
    "    if jug_actual == len(jugadores) - 1:\n",
    "        print('Jugadores restantes: ' + str(jugadores))\n",
    "        return juego(jugadores, 0)\n",
    "    else:\n",
    "        print('Jugadores restantes: ' + str(jugadores))\n",
    "        return juego(jugadores, jug_actual + 1)\n",
    "\n",
    "print( juego(jugadores, 0) )"
   ]
  },
  {
   "cell_type": "markdown",
   "id": "bf0a734b",
   "metadata": {},
   "source": [
    "2. Question 2\n",
    "La secuencia de fibonacci es una secuencia númerica que tiene como primer y segundo valor el 1. Luego, cualquier valor después de esos es la suma de los dos anteriores. Así, la secuencia se ve de la siguiente forma:\n",
    "\n",
    "```\n",
    "1, 1, 2, 3, 5, 8, 13, 21, 34, 55, 89, …..\n",
    "```\n",
    "Esto se debe a que:\n",
    "```\n",
    "1 + 1 = 2\n",
    "1 + 2 = 3\n",
    "2 + 3 = 5\n",
    "3 + 5 = 8\n",
    "```\n",
    "y así sucesivamente\n",
    "\n",
    "Quieres crear la función fib(n), la cuál dado un n retorna el valor en la posición n de la secuencia de fibonnaci. En el ejemplo anterior si n = 0 o n=1 fib(n) retornaría 1, mientras que f(4) retorna 5 y f(5) retorna 8.\n",
    "\n",
    "Asumiendo que nunca se va a llamar a fib(n) con un n negativo ¿Cuál de los siguientes código define fib(n) de manera correcta?"
   ]
  },
  {
   "cell_type": "code",
   "execution_count": 34,
   "id": "18538c98",
   "metadata": {},
   "outputs": [
    {
     "name": "stdout",
     "output_type": "stream",
     "text": [
      "5\n"
     ]
    }
   ],
   "source": [
    "def fib(n):\n",
    "    if n == 0 or n == 1:\n",
    "        return 1\n",
    "    return fib(n - 1) + fib(n - 2)\n",
    "\n",
    "print(fib(4))"
   ]
  },
  {
   "cell_type": "markdown",
   "id": "e151f33b",
   "metadata": {},
   "source": [
    "3. Question 3\n",
    "Tienes un torneo en formato de brackets donde participan 8 equipos, la información de estos equipos viene en una lista de tuplas, donde cada tupla contiene el nombre del equipo (str) y su nivel de habilidad (int):\n",
    "```\n",
    "equipos = [\n",
    "( 'Equipo 1 ', 5 ),\n",
    "( 'Equipo 2 ', 7 ),\n",
    "( 'Equipo 3 ', 8 ),\n",
    "( 'Equipo 4 ', 2 ),\n",
    "( 'Equipo 5 ', 9 ),\n",
    "( 'Equipo 6 ', 1 ),\n",
    "( 'Equipo 7 ', 3 ),\n",
    "( 'Equipo 8 ', 4 )\n",
    "]\n",
    "```\n",
    "Los equipos van a jugar el torneo por orden de la lista. En el ejemplo anteior, los partidos se jugarán en el siguiente orden:\n",
    "\n",
    "Si los partidos se juegan en el orden que muestra el diagrama, primero el partido 1, luego el partido 2, luego el partido 3 y así. Además, un equipo gana un partido si su nivel de habilidad es mayor que el nivel de habilidad del adversario.\n",
    "\n",
    "¿Cuál de los siguientes código imprime, en orden en que se jugaron, al ganador de cada uno de los 7 partidos?"
   ]
  },
  {
   "cell_type": "code",
   "execution_count": null,
   "id": "9c970025",
   "metadata": {},
   "outputs": [
    {
     "name": "stdout",
     "output_type": "stream",
     "text": [
      "Gana: Equipo 2 \n"
     ]
    },
    {
     "ename": "ValueError",
     "evalue": "too many values to unpack (expected 2)",
     "output_type": "error",
     "traceback": [
      "\u001b[0;31m---------------------------------------------------------------------------\u001b[0m",
      "\u001b[0;31mValueError\u001b[0m                                Traceback (most recent call last)",
      "Cell \u001b[0;32mIn[40], line 20\u001b[0m\n\u001b[1;32m     17\u001b[0m         \u001b[38;5;28mprint\u001b[39m(\u001b[38;5;124m'\u001b[39m\u001b[38;5;124mGana: \u001b[39m\u001b[38;5;124m'\u001b[39m \u001b[38;5;241m+\u001b[39m nom2)\n\u001b[1;32m     18\u001b[0m         \u001b[38;5;28;01mreturn\u001b[39;00m nom2\n\u001b[0;32m---> 20\u001b[0m partido(equipos)\n",
      "Cell \u001b[0;32mIn[40], line 10\u001b[0m, in \u001b[0;36mpartido\u001b[0;34m(equipos)\u001b[0m\n\u001b[1;32m      7\u001b[0m     \u001b[38;5;28;01mreturn\u001b[39;00m equipos[\u001b[38;5;241m0\u001b[39m]\n\u001b[1;32m      9\u001b[0m mitad \u001b[38;5;241m=\u001b[39m \u001b[38;5;28mlen\u001b[39m(equipos)\u001b[38;5;241m/\u001b[39m\u001b[38;5;241m/\u001b[39m\u001b[38;5;241m2\u001b[39m\n\u001b[0;32m---> 10\u001b[0m nom1, hab1 \u001b[38;5;241m=\u001b[39m partido( equipos[:mitad] )\n\u001b[1;32m     11\u001b[0m nom2, hab2 \u001b[38;5;241m=\u001b[39m partido( equipos[mitad:] )\n\u001b[1;32m     13\u001b[0m \u001b[38;5;28;01mif\u001b[39;00m hab1 \u001b[38;5;241m>\u001b[39m hab2:\n",
      "Cell \u001b[0;32mIn[40], line 10\u001b[0m, in \u001b[0;36mpartido\u001b[0;34m(equipos)\u001b[0m\n\u001b[1;32m      7\u001b[0m     \u001b[38;5;28;01mreturn\u001b[39;00m equipos[\u001b[38;5;241m0\u001b[39m]\n\u001b[1;32m      9\u001b[0m mitad \u001b[38;5;241m=\u001b[39m \u001b[38;5;28mlen\u001b[39m(equipos)\u001b[38;5;241m/\u001b[39m\u001b[38;5;241m/\u001b[39m\u001b[38;5;241m2\u001b[39m\n\u001b[0;32m---> 10\u001b[0m nom1, hab1 \u001b[38;5;241m=\u001b[39m partido( equipos[:mitad] )\n\u001b[1;32m     11\u001b[0m nom2, hab2 \u001b[38;5;241m=\u001b[39m partido( equipos[mitad:] )\n\u001b[1;32m     13\u001b[0m \u001b[38;5;28;01mif\u001b[39;00m hab1 \u001b[38;5;241m>\u001b[39m hab2:\n",
      "\u001b[0;31mValueError\u001b[0m: too many values to unpack (expected 2)"
     ]
    }
   ],
   "source": [
    "equipos = [('Equipo 1 ', 5), ('Equipo 2 ', 7), ('Equipo 3 ', 8),\n",
    "        ('Equipo 4 ', 2), ('Equipo 5 ', 9), ('Equipo 6 ', 1),\n",
    "        ('Equipo 7 ', 3), ('Equipo 8 ', 4)]\n",
    "\n",
    "def partido(equipos):\n",
    "    if len(equipos) == 1:\n",
    "        return equipos[0]\n",
    "\n",
    "    mitad = len(equipos)//2\n",
    "    nom1, hab1 = partido( equipos[:mitad] )\n",
    "    nom2, hab2 = partido( equipos[mitad:] )\n",
    "\n",
    "    if hab1 > hab2:\n",
    "        print('Gana: ' + nom1)\n",
    "        return nom1\n",
    "    else:\n",
    "        print('Gana: ' + nom2)\n",
    "        return nom2\n",
    "\n",
    "partido(equipos)\n"
   ]
  },
  {
   "cell_type": "code",
   "execution_count": 41,
   "id": "9247dfb6",
   "metadata": {},
   "outputs": [
    {
     "ename": "TypeError",
     "evalue": "can only concatenate str (not \"int\") to str",
     "output_type": "error",
     "traceback": [
      "\u001b[0;31m---------------------------------------------------------------------------\u001b[0m",
      "\u001b[0;31mTypeError\u001b[0m                                 Traceback (most recent call last)",
      "Cell \u001b[0;32mIn[41], line 14\u001b[0m\n\u001b[1;32m     10\u001b[0m         \u001b[38;5;28;01mreturn\u001b[39;00m \u001b[38;5;124m'\u001b[39m\u001b[38;5;124multimo_digito no puede ser 1 ni 4\u001b[39m\u001b[38;5;124m'\u001b[39m\n\u001b[1;32m     12\u001b[0m     \u001b[38;5;28;01mreturn\u001b[39;00m func(a)\n\u001b[0;32m---> 14\u001b[0m \u001b[38;5;28mprint\u001b[39m( func(\u001b[38;5;241m33\u001b[39m) )\n",
      "Cell \u001b[0;32mIn[41], line 12\u001b[0m, in \u001b[0;36mfunc\u001b[0;34m(a)\u001b[0m\n\u001b[1;32m      9\u001b[0m \u001b[38;5;28;01mif\u001b[39;00m ultimo_digito \u001b[38;5;241m==\u001b[39m \u001b[38;5;241m1\u001b[39m \u001b[38;5;129;01mor\u001b[39;00m ultimo_digito \u001b[38;5;241m==\u001b[39m \u001b[38;5;241m4\u001b[39m:\n\u001b[1;32m     10\u001b[0m     \u001b[38;5;28;01mreturn\u001b[39;00m \u001b[38;5;124m'\u001b[39m\u001b[38;5;124multimo_digito no puede ser 1 ni 4\u001b[39m\u001b[38;5;124m'\u001b[39m\n\u001b[0;32m---> 12\u001b[0m \u001b[38;5;28;01mreturn\u001b[39;00m func(a)\n",
      "Cell \u001b[0;32mIn[41], line 2\u001b[0m, in \u001b[0;36mfunc\u001b[0;34m(a)\u001b[0m\n\u001b[1;32m      1\u001b[0m \u001b[38;5;28;01mdef\u001b[39;00m \u001b[38;5;21mfunc\u001b[39m(a):\n\u001b[0;32m----> 2\u001b[0m     a \u001b[38;5;241m+\u001b[39m\u001b[38;5;241m=\u001b[39m \u001b[38;5;241m24\u001b[39m\n\u001b[1;32m      4\u001b[0m     \u001b[38;5;28;01mif\u001b[39;00m a \u001b[38;5;241m>\u001b[39m \u001b[38;5;241m100\u001b[39m:\n\u001b[1;32m      5\u001b[0m         \u001b[38;5;28;01mreturn\u001b[39;00m  \u001b[38;5;124m'\u001b[39m\u001b[38;5;124ma es muy grande\u001b[39m\u001b[38;5;124m'\u001b[39m\n",
      "\u001b[0;31mTypeError\u001b[0m: can only concatenate str (not \"int\") to str"
     ]
    }
   ],
   "source": [
    "def func(a):\n",
    "    a += 24\n",
    "\n",
    "    if a > 100:\n",
    "        return  'a es muy grande'\n",
    "\n",
    "    a = str(a)\n",
    "    ultimo_digito = a[ len(a) - 1 ]\n",
    "    if ultimo_digito == 1 or ultimo_digito == 4:\n",
    "        return 'ultimo_digito no puede ser 1 ni 4'\n",
    "\n",
    "    return func(a)\n",
    "\n",
    "print( func(33) )"
   ]
  },
  {
   "cell_type": "code",
   "execution_count": null,
   "id": "75f9c22b",
   "metadata": {},
   "outputs": [],
   "source": []
  }
 ],
 "metadata": {
  "kernelspec": {
   "display_name": "da-py3.12",
   "language": "python",
   "name": "python3"
  },
  "language_info": {
   "codemirror_mode": {
    "name": "ipython",
    "version": 3
   },
   "file_extension": ".py",
   "mimetype": "text/x-python",
   "name": "python",
   "nbconvert_exporter": "python",
   "pygments_lexer": "ipython3",
   "version": "3.12.2"
  }
 },
 "nbformat": 4,
 "nbformat_minor": 5
}
