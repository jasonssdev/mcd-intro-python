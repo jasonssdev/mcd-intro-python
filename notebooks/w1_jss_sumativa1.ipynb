{
 "cells": [
  {
   "cell_type": "markdown",
   "metadata": {},
   "source": [
    "# Pregunta 1\n",
    "Tienes una tupla cuyo primer elemento es un str con el nombre de un estudiante y sus 4 siguientes elementos son números decimales con las notas de ese estudiante en un curso. Por ejemplo: \n",
    "\n",
    "```\n",
    "tupla = ('Camila', 5.0, 6.2, 4.8, 6.0)\n",
    "```\n",
    "\n",
    "Deberás definir la función calcular_promedio(tupla), la cual recibe como parámetro una tupla en el formato descrito anteriormente. Esta función debe retornar un tupla con 2 elementos, donde el primero corresponde al nombre del estudiante y el segundo corresponde al promedio de sus 4 notas. Para la tupla del ejemplo anterior, la función debería retornar: \n",
    "\n",
    "```\n",
    "('Camila', 5.5)\n",
    "```"
   ]
  },
  {
   "cell_type": "code",
   "execution_count": 7,
   "metadata": {},
   "outputs": [],
   "source": [
    "def calcular_promedio(tupla: tuple) -> tuple:\n",
    "    \"\"\"\n",
    "    calculate the averege of number in the tuple\n",
    "\n",
    "    Args:\n",
    "    tupla: tuple with name and numbers\n",
    "\n",
    "    Returns:\n",
    "    tuple with name and average of numbers\n",
    "    \"\"\"\n",
    "    name = tupla[0]\n",
    "    average = sum(tupla[1:]) / len(tupla[1:])\n",
    "    return (name, average)\n"
   ]
  },
  {
   "cell_type": "code",
   "execution_count": 2,
   "metadata": {},
   "outputs": [
    {
     "name": "stdout",
     "output_type": "stream",
     "text": [
      "('Camila', 5.5)\n"
     ]
    }
   ],
   "source": [
    "tupla = ('Camila', 5.0, 6.2, 4.8, 6.0)\n",
    "\n",
    "print(calcular_promedio(tupla))"
   ]
  },
  {
   "cell_type": "markdown",
   "metadata": {},
   "source": [
    "# Pregunta 2\n",
    "Tienes una lista de números enteros ordenados de menor a mayor, por ejemplo: \n",
    "\n",
    "```\n",
    "lista = [-40, -1, 2, 5, 16, 72, 100]\n",
    "```\n",
    "\n",
    "Deberás definir la función agregar_entero(lista, entero), la cual recibe como parámetros una lista en el formato descrito anteriormente y un número entero cualquiera. Esta función debe agregar el entero en la posición correcta de la lista y luego retornar la lista. Por ejemplo, si se llama a la función agregar_entero(lista, 13) con la lista anterior, entonces debería retornar:\n",
    "\n",
    "```\n",
    "[-40, -1, 2, 5, 13, 16, 72, 100]\n",
    "```"
   ]
  },
  {
   "cell_type": "markdown",
   "metadata": {},
   "source": []
  },
  {
   "cell_type": "code",
   "execution_count": 9,
   "metadata": {},
   "outputs": [],
   "source": [
    "def agregar_entero(lista: list, entero: int) -> list:\n",
    "    \"\"\"\n",
    "    add an integer to the list in the right position to keep the list sorted\n",
    "\n",
    "    Args:\n",
    "    lista: list with numbers\n",
    "    entero: integer to add\n",
    "\n",
    "    Returns:\n",
    "    list with the integer added\n",
    "    \"\"\"\n",
    "    lista.append(entero)\n",
    "    lista.sort()            \n",
    "    return lista"
   ]
  },
  {
   "cell_type": "code",
   "execution_count": 13,
   "metadata": {},
   "outputs": [
    {
     "name": "stdout",
     "output_type": "stream",
     "text": [
      "[-40, -13, -1, 2, 5, 16, 72, 100]\n"
     ]
    }
   ],
   "source": [
    "lista = [-40, -1, 2, 5, 16, 72, 100]\n",
    "entero = -13\n",
    "print(agregar_entero(lista, entero))"
   ]
  },
  {
   "cell_type": "markdown",
   "metadata": {},
   "source": [
    "# Pregunta 3\n",
    "Tienes una lista de números enteros repetidos, por ejemplo:\n",
    "\n",
    "```\n",
    "lista = [1, 4, 3, 1, 4, 2, 5, 1, 2, 4, 1, 3, 1, 2, 4]\n",
    "```\n",
    "\n",
    "Deberás definir la función contar_repeticiones(lista), la cual recibe como parámetro una lista en el formato descrito anteriormente. Esta función debe retornar un entero con la cantidad de veces que se repite el entero que más se repite en la lista. Para la lista del ejemplo anterior, el entero que más se repite es el 1, el cuál se repite 5 veces, por lo que la función debería retornar 5. "
   ]
  },
  {
   "cell_type": "code",
   "execution_count": 59,
   "metadata": {},
   "outputs": [],
   "source": [
    "def contar_repeticiones(lista: list) -> int:\n",
    "    \"\"\"\n",
    "    count the number with the most repetitions in the list\n",
    "\n",
    "    Args:\n",
    "    lista: list with numbers\n",
    "\n",
    "    Returns:\n",
    "    repetition of the number with the most repetitions\n",
    "    \"\"\"\n",
    "    dict_counter = {}\n",
    "    for num in lista:\n",
    "        if num in dict_counter:\n",
    "            dict_counter[num] += 1\n",
    "        else:\n",
    "            dict_counter[num] = 1\n",
    "    repetition = max(dict_counter.values())\n",
    "    return repetition\n"
   ]
  },
  {
   "cell_type": "code",
   "execution_count": 62,
   "metadata": {},
   "outputs": [
    {
     "name": "stdout",
     "output_type": "stream",
     "text": [
      "5\n"
     ]
    }
   ],
   "source": [
    "lista = [1, 4, 3, 1, 4, 2, 5, 1, 2, 4, 1, 3, 1, 2, 4]\n",
    "print(contar_repeticiones(lista))"
   ]
  },
  {
   "cell_type": "markdown",
   "metadata": {},
   "source": [
    "# Pregunta 4\n",
    "Tienes una lista de str con los nombres y apellidos de estudiantes de un curso, ordenados alfabéticamente por apellido y luego por nombre. Por ejemplo: \n",
    "\n",
    "```\n",
    "lista = ['Francisca Avedaño', 'Pablo Avedaño', 'Juan Bravo', 'Javiera Hernández', 'Mario Huerta', 'David Morales', 'Eliza Morales']\n",
    "```\n",
    "\n",
    "Deberás definir la función agregar_estudiante(lista, estudiante), la cual recibe como parámetros una lista en el formato descrito anteriormente y un str con el nombre de un nuevo estudiante. Esta función debe agregar al estudiante en la posición correcta de la lista (ordenado alfabéticamente por apellido y nombre) y luego retornar la lista. Por ejemplo, si en la lista anterior se agrega el estudiante 'Daniela Gómez', entonces tu función deberá retornar: \n",
    "\n",
    "```\n",
    "['Francisca Avedaño', 'Pablo Avedaño', 'Juan Bravo', 'Daniela Gómez', 'Javiera Hernández', 'Mario Huerta', 'David Morales', 'Eliza Morales']\n",
    "```"
   ]
  },
  {
   "cell_type": "code",
   "execution_count": 72,
   "metadata": {},
   "outputs": [],
   "source": [
    "def agregar_estudiante(lista: list, estudiante: str) -> list:\n",
    "    \"\"\"\n",
    "    add a student to the list in the right position to keep the list sorted by last name then first name\"\n",
    "\n",
    "    Args:\n",
    "    lista: list with students\n",
    "    estudiante: student to add\n",
    "\n",
    "    Returns:\n",
    "    list with the student added in the right position to keep the list sorted\n",
    "    \"\"\"\n",
    "    lista.append(estudiante)\n",
    "    lista.sort(key=lambda name: (name.split()[1], name.split()[0]))\n",
    "    return lista"
   ]
  },
  {
   "cell_type": "code",
   "execution_count": 73,
   "metadata": {},
   "outputs": [
    {
     "name": "stdout",
     "output_type": "stream",
     "text": [
      "['Francisca Avedaño', 'Pablo Avedaño', 'Juan Bravo', 'Javiera Hernández', 'Mario Huerta', 'David Morales', 'Eliza Morales', 'Daniela Sepulveda']\n"
     ]
    }
   ],
   "source": [
    "lista = ['Francisca Avedaño', 'Pablo Avedaño', 'Juan Bravo', 'Javiera Hernández', 'Mario Huerta', 'David Morales', 'Eliza Morales']\n",
    "estudiante = 'Daniela Gomez'\n",
    "print(agregar_estudiante(lista, estudiante))"
   ]
  },
  {
   "cell_type": "code",
   "execution_count": null,
   "metadata": {},
   "outputs": [],
   "source": []
  }
 ],
 "metadata": {
  "kernelspec": {
   "display_name": "da-py3.12",
   "language": "python",
   "name": "python3"
  },
  "language_info": {
   "codemirror_mode": {
    "name": "ipython",
    "version": 3
   },
   "file_extension": ".py",
   "mimetype": "text/x-python",
   "name": "python",
   "nbconvert_exporter": "python",
   "pygments_lexer": "ipython3",
   "version": "3.12.2"
  }
 },
 "nbformat": 4,
 "nbformat_minor": 2
}
