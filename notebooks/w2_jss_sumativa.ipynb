{
 "cells": [
  {
   "cell_type": "markdown",
   "metadata": {},
   "source": [
    "# Vuelos Aerolines"
   ]
  },
  {
   "cell_type": "markdown",
   "metadata": {},
   "source": [
    "Imagina que trabajas para una aerolínea y tu trabajo es ayudar a los clientes a encontrar los mejores vuelos para sus planes de viaje. La información de los vuelos de la aerolínea se encuentra en una lista, donde cada elemento corresponde a una lista que posee información de un vuelo. La lista de cada vuelo posee el siguiente formato:\n",
    "\n",
    "[Origen, Destino, Precio, Asientos disponibles, Fecha]\n",
    "\n",
    "Donde cada campo posee la siguiente información:\n",
    "\n",
    "Origen: es un str con el nombre del lugar de origen del vuelo.\n",
    "\n",
    "Destino: es un str con el nombre del lugar de destino del vuelo.\n",
    "\n",
    "Precio: es un int con el precio del vuelo.\n",
    "\n",
    "Asientos disponibles: es un int con la cantidad de asientos disponibles que posee el vuelo.\n",
    "\n",
    "Fecha: es un str con la fecha del vuelo en el formato 'día-mes-año'.\n",
    "\n",
    "Por ejemplo, una posible lista de vuelos de la aerolínea podría ser:\n",
    "```\n",
    "[\n",
    "    ['Santiago', 'Puerto Montt', 35000, 30, '11-01-2024'],\n",
    "    ['Santiago', 'Concepción', 30000, 40, '12-02-2024'],\n",
    "    ['Concepción', 'Puerto Montt', 22000, 50, '13-02-2024'],\n",
    "    ['Santiago', 'Puerto Montt', 20000, 2, '19-01-2024'],\n",
    "    ['Santiago', 'Puerto Montt', 12000, 100, '20-03-2024'],\n",
    "    ['Concepción', 'Puerto Montt', 22000, 50, '25-01-2024'],\n",
    "    ['Antofagasta', 'Santiago', 27000, 14, '08-04-2024']\n",
    "]\n",
    "```\n",
    "En base a esto, decides implementar las siguientes funciones:"
   ]
  },
  {
   "cell_type": "code",
   "execution_count": 1,
   "metadata": {},
   "outputs": [],
   "source": [
    "# [Origen, Destino, Precio, Asientos disponibles, Fecha]\n",
    "\n",
    "list_example = [\n",
    "    ['Santiago', 'Puerto Montt', 35000, 30, '11-01-2024'],\n",
    "    ['Santiago', 'Concepción', 30000, 40, '12-02-2024'],\n",
    "    ['Concepción', 'Puerto Montt', 22000, 50, '13-02-2024'],\n",
    "    ['Santiago', 'Puerto Montt', 20000, 2, '19-01-2024'],\n",
    "    ['Santiago', 'Puerto Montt', 12000, 100, '20-03-2024'],\n",
    "    ['Concepción', 'Puerto Montt', 22000, 50, '25-01-2024'],\n",
    "    ['Antofagasta', 'Santiago', 27000, 14, '08-04-2024']\n",
    "]"
   ]
  },
  {
   "cell_type": "markdown",
   "metadata": {},
   "source": [
    "Question 1\n",
    "```vuelos_disponibles(vuelos, origen, destino, pasajeros):``` Esta función recibe como parámetros una lista de vuelos en el formato descrito anteriormente, dos strings, uno con un lugar de origen y otro con un lugar de destino, y por último un número entero con la cantidad de pasajeros con los que se quiere viajar. La función deberá retornar una lista con todos los vuelos que vayan desde el origen al destino que tengan suficientes asientos disponibles para todos los pasajeros. Por ejemplo, si se llama la función vuelos_disponibles(vuelos, 'Santiago', 'Puerto Montt', 5), con vuelos la lista definida anteriormente, entonces la función debería retornar:\n",
    "```\n",
    "[\n",
    "    ['Santiago', 'Puerto Montt', 35000, 30, '11-01-2024'],\n",
    "    ['Santiago', 'Puerto Montt', 12000, 100, '20-03-2024']\n",
    "]\n",
    "```"
   ]
  },
  {
   "cell_type": "code",
   "execution_count": 7,
   "metadata": {},
   "outputs": [
    {
     "name": "stdout",
     "output_type": "stream",
     "text": [
      "[['Santiago', 'Puerto Montt', 35000, 30, '11-01-2024'], ['Santiago', 'Puerto Montt', 20000, 2, '19-01-2024'], ['Santiago', 'Puerto Montt', 12000, 100, '20-03-2024']]\n"
     ]
    }
   ],
   "source": [
    "vuelos = [\n",
    "    ['Santiago', 'Puerto Montt', 35000, 30, '11-01-2024'],\n",
    "    ['Santiago', 'Concepción', 30000, 40, '12-02-2024'],\n",
    "    ['Concepción', 'Puerto Montt', 22000, 50, '13-02-2024'],\n",
    "    ['Santiago', 'Puerto Montt', 20000, 2, '19-01-2024'],\n",
    "    ['Santiago', 'Puerto Montt', 12000, 100, '20-03-2024'],\n",
    "    ['Concepción', 'Puerto Montt', 22000, 50, '25-01-2024'],\n",
    "    ['Antofagasta', 'Santiago', 27000, 14, '08-04-2024']\n",
    "]\n",
    "\n",
    "\n",
    "def vuelos_disponibles(vuelos, origen, destino, pasajeros):\n",
    "    lista_de_vuelos = []\n",
    "    for vuelo in vuelos:\n",
    "        if origen == vuelo[0] and destino == vuelo[1] and pasajeros <= vuelo[3]:\n",
    "            lista_de_vuelos.append(vuelo)\n",
    "    return lista_de_vuelos\n",
    "\n",
    "\n",
    "print(vuelos_disponibles(vuelos, 'Santiago', 'Puerto Montt', 5))"
   ]
  },
  {
   "cell_type": "markdown",
   "metadata": {},
   "source": [
    "2.\n",
    "Question 2\n",
    "vuelo_mas_barato(vuelos, origen, destino): Esta función recibe como parámetros una lista de vuelos en el formato descrito anteriormente, el nombre de un lugar de origen y el nombre de un lugar de destino. La función deberá encontrar el vuelo más barato desde el origen al destino y retornarlo. Por ejemplo, si se llama la función ```vuelo_mas_barato(vuelos, 'Santiago', 'Puerto Montt')```, con vuelos la lista definida anteriormente, entonces la función debería retornar:\n",
    "```\n",
    "['Santiago', 'Puerto Montt', 12000, 100, '20-03-2024']```"
   ]
  },
  {
   "cell_type": "code",
   "execution_count": 10,
   "metadata": {},
   "outputs": [
    {
     "name": "stdout",
     "output_type": "stream",
     "text": [
      "['Santiago', 'Puerto Montt', 3500, 30, '11-01-2024']\n"
     ]
    }
   ],
   "source": [
    "vuelos = [\n",
    "    ['Santiago', 'Puerto Montt', 3500, 30, '11-01-2024'],\n",
    "    ['Santiago', 'Concepción', 30000, 40, '12-02-2024'],\n",
    "    ['Concepción', 'Puerto Montt', 22000, 50, '13-02-2024'],\n",
    "    ['Santiago', 'Puerto Montt', 20000, 2, '19-01-2024'],\n",
    "    ['Santiago', 'Puerto Montt', 12000, 100, '20-03-2024'],\n",
    "    ['Concepción', 'Puerto Montt', 22000, 50, '25-01-2024'],\n",
    "    ['Antofagasta', 'Santiago', 27000, 14, '08-04-2024']\n",
    "]\n",
    "\n",
    "def vuelo_mas_barato(vuelos, origen, destino):\n",
    "    lista_de_vuelos_mas_baratos = []\n",
    "    for vuelo in vuelos:\n",
    "        if origen == vuelo[0] and destino == vuelo[1]:\n",
    "            lista_de_vuelos_mas_baratos.append(vuelo)\n",
    "    if not lista_de_vuelos_mas_baratos:\n",
    "        return None\n",
    "    vuelo_barato = lista_de_vuelos_mas_baratos[0]\n",
    "    for vuelo in lista_de_vuelos_mas_baratos:\n",
    "        if vuelo[2] < vuelo_barato[2]:\n",
    "            vuelo_barato = vuelo\n",
    "    return vuelo_barato\n",
    "\n",
    "print(vuelo_mas_barato(vuelos, 'Santiago', 'Puerto Montt'))"
   ]
  },
  {
   "cell_type": "markdown",
   "metadata": {},
   "source": [
    "3.\n",
    "Question 3\n",
    "```aplicar_descuento(vuelos, origen, destino, porcentaje):``` Esta función recibe como parámetros una lista de vuelos en el formato descrito anteriormente, el nombre de un lugar de origen, el nombre de un lugar de destino y un número decimal entre 0 y 1 que representa un porcentaje de descuento. La función deberá aplicar el porcentaje de descuento a todos los vuelos que vayan desde el origen al destino y retornar la lista de vuelos con los precios actualizados. Por ejemplo, si se llama la función ```aplicar_descuento(vuelos, 'Santiago', 'Puerto Montt', 0.2)```, con vuelos la lista definida anteriormente, entonces la función debería retornar:\n",
    "```\n",
    "[\n",
    "    ['Santiago', 'Puerto Montt', 28000, 30, '11-01-2024'],\n",
    "    ['Santiago', 'Concepción', 30000, 40, '12-02-2024'],\n",
    "    ['Concepción', 'Puerto Montt', 22000, 50, '13-02-2024'],\n",
    "    ['Santiago', 'Puerto Montt', 16000, 2, '19-01-2024'],\n",
    "    ['Santiago', 'Puerto Montt', 9600, 100, '20-03-2024'],\n",
    "    ['Concepción', 'Puerto Montt', 22000, 50, '25-01-2024'],\n",
    "    ['Antofagasta', 'Santiago', 27000, 14, '08-04-2024']\n",
    "]\n",
    "```"
   ]
  },
  {
   "cell_type": "code",
   "execution_count": 12,
   "metadata": {},
   "outputs": [
    {
     "name": "stdout",
     "output_type": "stream",
     "text": [
      "[['Santiago', 'Puerto Montt', 2800.0, 30, '11-01-2024'], ['Santiago', 'Concepción', 30000, 40, '12-02-2024'], ['Concepción', 'Puerto Montt', 22000, 50, '13-02-2024'], ['Santiago', 'Puerto Montt', 16000.0, 2, '19-01-2024'], ['Santiago', 'Puerto Montt', 9600.0, 100, '20-03-2024'], ['Concepción', 'Puerto Montt', 22000, 50, '25-01-2024'], ['Antofagasta', 'Santiago', 27000, 14, '08-04-2024']]\n"
     ]
    }
   ],
   "source": [
    "vuelos = [\n",
    "    ['Santiago', 'Puerto Montt', 3500, 30, '11-01-2024'],\n",
    "    ['Santiago', 'Concepción', 30000, 40, '12-02-2024'],\n",
    "    ['Concepción', 'Puerto Montt', 22000, 50, '13-02-2024'],\n",
    "    ['Santiago', 'Puerto Montt', 20000, 2, '19-01-2024'],\n",
    "    ['Santiago', 'Puerto Montt', 12000, 100, '20-03-2024'],\n",
    "    ['Concepción', 'Puerto Montt', 22000, 50, '25-01-2024'],\n",
    "    ['Antofagasta', 'Santiago', 27000, 14, '08-04-2024']\n",
    "]\n",
    "\n",
    "\n",
    "def aplicar_descuento(vuelos, origen, destino, porcentaje):\n",
    "    for vuelo in vuelos:\n",
    "        if origen == vuelo[0] and destino == vuelo[1]:\n",
    "            vuelo[2] = vuelo[2] * (1- porcentaje)\n",
    "    return vuelos\n",
    "\n",
    "print(aplicar_descuento(vuelos, 'Santiago', 'Puerto Montt', 0.2))"
   ]
  },
  {
   "cell_type": "markdown",
   "metadata": {},
   "source": [
    "4.\n",
    "Question 4\n",
    "```vuelos_con_escala(vuelos, origen, destino):``` Esta función recibe como parámetros una lista de vuelos en el formato descrito anteriormente, el nombre de un lugar de origen y el nombre de un lugar de destino. La función deberá encontrar pares de vuelos que vayan desde el origen al destino conectando en un lugar intermedio y retornarlos como una lista de tuplas, donde el primer elemento sea el vuelo desde el origen a la escala y el segundo elemento sea el vuelo desde la escala al destino. Por ejemplo, si se llama la función ```vuelos_con_escala(vuelos, 'Santiago', 'Puerto Montt')```, con vuelos la lista definida anteriormente, entonces la función debería retornar:\n",
    "```\n",
    "[\n",
    "    (\n",
    "        ['Santiago', 'Concepción', 30000, 40, '12-02-2024'],\n",
    "        ['Concepción', 'Puerto Montt', 22000, 50, '13-02-2024']\n",
    "    )\n",
    "]\n",
    "```\n",
    "Importante: Para que un par de vuelos sea válido, la fecha del vuelo desde el origen a la escala debe ser anterior a la fecha del vuelo desde la escala al destino."
   ]
  },
  {
   "cell_type": "code",
   "execution_count": 15,
   "metadata": {},
   "outputs": [
    {
     "name": "stdout",
     "output_type": "stream",
     "text": [
      "[(['Santiago', 'Concepción', 30000, 40, '12-02-2024'], ['Concepción', 'Puerto Montt', 22000, 50, '13-02-2024'])]\n",
      "[(['Santiago', 'Concepción', 30000, 40, '12-02-2024'], ['Concepción', 'Antofagasta', 22000, 50, '13-02-2024'])]\n"
     ]
    }
   ],
   "source": [
    "from datetime import datetime\n",
    "\n",
    "vuelos = [\n",
    "    ['Santiago', 'Puerto Montt', 3500, 30, '11-01-2024'],\n",
    "    ['Santiago', 'Concepción', 30000, 40, '12-02-2024'],\n",
    "    ['Concepción', 'Puerto Montt', 22000, 50, '13-02-2024'],\n",
    "    ['Santiago', 'Puerto Montt', 20000, 2, '19-01-2024'],\n",
    "    ['Santiago', 'Puerto Montt', 12000, 100, '20-03-2024'],\n",
    "    ['Concepción', 'Puerto Montt', 22000, 50, '25-01-2024'],\n",
    "    ['Antofagasta', 'Santiago', 27000, 14, '08-04-2024'],\n",
    "    ['Concepción', 'Antofagasta', 22000, 50, '13-02-2024'],\n",
    "]\n",
    "\n",
    "\n",
    "def vuelos_con_escala(vuelos, origen, destino):\n",
    "    vuelos_escala = []\n",
    "    for vuelo_origen in vuelos:\n",
    "        if vuelo_origen[0] == origen:\n",
    "            ciudad_escala = vuelo_origen[1]\n",
    "            for vuelo_destino in vuelos:\n",
    "                if vuelo_destino[0] == ciudad_escala and vuelo_destino[1] == destino:\n",
    "                    fecha_origen = datetime.strptime(vuelo_origen[4], \"%d-%m-%Y\")\n",
    "                    fecha_destino = datetime.strptime(vuelo_destino[4], \"%d-%m-%Y\")\n",
    "\n",
    "                    if fecha_origen < fecha_destino:\n",
    "                        vuelos_escala.append((vuelo_origen, vuelo_destino))\n",
    "\n",
    "    return vuelos_escala\n",
    "\n",
    "\n",
    "print(vuelos_con_escala(vuelos, 'Santiago', 'Puerto Montt'))\n",
    "print(vuelos_con_escala(vuelos, 'Santiago', 'Antofagasta'))\n"
   ]
  },
  {
   "cell_type": "code",
   "execution_count": null,
   "metadata": {},
   "outputs": [],
   "source": []
  }
 ],
 "metadata": {
  "kernelspec": {
   "display_name": "da-py3.12",
   "language": "python",
   "name": "python3"
  },
  "language_info": {
   "codemirror_mode": {
    "name": "ipython",
    "version": 3
   },
   "file_extension": ".py",
   "mimetype": "text/x-python",
   "name": "python",
   "nbconvert_exporter": "python",
   "pygments_lexer": "ipython3",
   "version": "3.12.9"
  }
 },
 "nbformat": 4,
 "nbformat_minor": 2
}
