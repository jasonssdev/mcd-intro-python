{
 "cells": [
  {
   "cell_type": "markdown",
   "id": "dff81d5b",
   "metadata": {},
   "source": [
    "# Formativo Week 3"
   ]
  },
  {
   "cell_type": "markdown",
   "id": "5d5571cd",
   "metadata": {},
   "source": [
    "Question 1\n",
    "Tienes el siguiente deque con números enteros: \n",
    "```python\n",
    "from collections import deque\n",
    "\n",
    "deq = deque((1, 4, 5, 3, 2))\n",
    "```\n",
    "¿Cuál de los siguientes códigos imprime en orden 1, 2, 3, 4, 5?"
   ]
  },
  {
   "cell_type": "code",
   "execution_count": 1,
   "id": "9561fcad",
   "metadata": {},
   "outputs": [],
   "source": [
    "from collections import deque\n",
    "\n",
    "deq = deque((1, 4, 5, 3, 2))"
   ]
  },
  {
   "cell_type": "code",
   "execution_count": 2,
   "id": "3b981328",
   "metadata": {},
   "outputs": [
    {
     "name": "stdout",
     "output_type": "stream",
     "text": [
      "1\n",
      "2\n",
      "3\n",
      "4\n",
      "5\n"
     ]
    }
   ],
   "source": [
    "print(deq.popleft())\n",
    "print(deq.pop())\n",
    "print(deq.pop())\n",
    "print(deq.popleft())\n",
    "print(deq.count(5)*5)\n"
   ]
  },
  {
   "cell_type": "markdown",
   "id": "fb8c6fcf",
   "metadata": {},
   "source": [
    "Question 2\n",
    "Varios amigos te han recomendado series, y como no los quieres decepcionar decides crear un programa en Python donde ir guardando todas las series que te recomiendan para luego verlas. Como buena persona, decides ver primero las series que te recomendaron antes y por último las que te recomendaron más recientemente. Si tus amigos te recomendaron ```'You', 'Community' y 'Breaking Bad'``` en ese orden y solo has visto la primera\n",
    "\n",
    " ¿Cuál de los siguientes códigos modela correctamente este problema? "
   ]
  },
  {
   "cell_type": "code",
   "execution_count": 3,
   "id": "7f68bbcf",
   "metadata": {},
   "outputs": [
    {
     "name": "stdout",
     "output_type": "stream",
     "text": [
      "deque(['You', 'Community', 'Breaking Bad'])\n",
      "You\n"
     ]
    }
   ],
   "source": [
    "series = deque()\n",
    "\n",
    "series.append(\"You\")\n",
    "series.append(\"Community\")\n",
    "series.append(\"Breaking Bad\")\n",
    "print(series)\n",
    "# series.reverse()\n",
    "print(series.popleft())"
   ]
  },
  {
   "cell_type": "markdown",
   "id": "909b0281",
   "metadata": {},
   "source": [
    "Question 3\n",
    "Tienes un supermercado con 3 cajas registradoras, cuyas filas están modeladas con deques. Además tienes almacenadas estas filas en una tupla, de la siguiente forma:\n",
    "```python\n",
    "from collections import deque\n",
    "\n",
    "fila1 = deque()\n",
    "fila2 = deque()\n",
    "fila3 = deque()\n",
    "filas = (fila1, fila2, fila3)\n",
    "```\n",
    "\n",
    "Para que los clientes esperen la menor cantidad de tiempo en las filas decides crear la función ```elegir_fila(filas, cliente)```, que recibe como parámetro una tupla con filas y un cliente. La función debe encontrar la fila con menos elementos y agregar al cliente al final de esta. \n",
    "\n",
    "¿Cuál de los siguientes códigos define correctamente la función ```elegir_fila(filas, cliente)```?"
   ]
  },
  {
   "cell_type": "code",
   "execution_count": 4,
   "id": "b652f4d7",
   "metadata": {},
   "outputs": [],
   "source": [
    "fila1 = deque()\n",
    "fila2 = deque()\n",
    "fila3 = deque()\n",
    "filas = (fila1, fila2, fila3)\n",
    "\n",
    "def elegir_fila(filas, cliente):\n",
    "    mejor_fila = filas[0]\n",
    "    for fila in filas:\n",
    "        if len(fila) < len(mejor_fila):\n",
    "            mejor_fila = fila\n",
    "    mejor_fila.append(cliente)"
   ]
  },
  {
   "cell_type": "code",
   "execution_count": 5,
   "id": "2a69f967",
   "metadata": {},
   "outputs": [],
   "source": [
    "fila1.append(\"James\")\n",
    "fila2.append(\"Fred\")\n",
    "fila1.append(\"David\")\n",
    "fila1.append(\"Tiesto\")\n",
    "fila2.append(\"John\")"
   ]
  },
  {
   "cell_type": "code",
   "execution_count": 6,
   "id": "4e380a5d",
   "metadata": {},
   "outputs": [
    {
     "name": "stdout",
     "output_type": "stream",
     "text": [
      "deque(['James', 'David', 'Tiesto'])\n",
      "deque(['Fred', 'John'])\n",
      "deque(['Black Coffee'])\n"
     ]
    }
   ],
   "source": [
    "elegir_fila(filas, \"Black Coffee\")\n",
    "print(fila1)\n",
    "print(fila2)\n",
    "print(fila3)"
   ]
  },
  {
   "cell_type": "code",
   "execution_count": 7,
   "id": "a48011c7",
   "metadata": {},
   "outputs": [
    {
     "name": "stdout",
     "output_type": "stream",
     "text": [
      "deque(['James', 'David', 'Tiesto'])\n",
      "deque(['Fred', 'John'])\n",
      "deque(['Black Coffee', 'Afro Jack'])\n"
     ]
    }
   ],
   "source": [
    "elegir_fila(filas, \"Afro Jack\")\n",
    "print(fila1)\n",
    "print(fila2)\n",
    "print(fila3)"
   ]
  },
  {
   "cell_type": "code",
   "execution_count": 8,
   "id": "75661c0f",
   "metadata": {},
   "outputs": [
    {
     "name": "stdout",
     "output_type": "stream",
     "text": [
      "deque(['James', 'David', 'Tiesto'])\n",
      "deque(['Fred', 'John', 'Martin Garrix'])\n",
      "deque(['Black Coffee', 'Afro Jack'])\n"
     ]
    }
   ],
   "source": [
    "elegir_fila(filas, \"Martin Garrix\")\n",
    "print(fila1)\n",
    "print(fila2)\n",
    "print(fila3)"
   ]
  },
  {
   "cell_type": "code",
   "execution_count": 9,
   "id": "b4b81e65",
   "metadata": {},
   "outputs": [
    {
     "name": "stdout",
     "output_type": "stream",
     "text": [
      "deque(['James', 'David', 'Tiesto'])\n",
      "deque(['Fred', 'John', 'Martin Garrix'])\n",
      "deque(['Black Coffee', 'Afro Jack', 'Martin Garrix'])\n"
     ]
    }
   ],
   "source": [
    "elegir_fila(filas, \"Martin Garrix\")\n",
    "print(fila1)\n",
    "print(fila2)\n",
    "print(fila3)"
   ]
  },
  {
   "cell_type": "markdown",
   "id": "a33f15c9",
   "metadata": {},
   "source": [
    "Question 4\n",
    "Tienes el siguiente deque: \n",
    "```python\n",
    "from collections import deque\n",
    "\n",
    "deq = deque((1, 2, 3, 4, 5))\n",
    "```\n",
    "Te gustaría invertirlo para que quede con los valores en orden de mayor a menor, es decir, ```(5, 4, 3,  2,1)```.\n",
    "\n",
    "¿Cuál de los siguientes códigos NO invierte correctamente el deq? "
   ]
  },
  {
   "cell_type": "code",
   "execution_count": 10,
   "id": "4adcc718",
   "metadata": {},
   "outputs": [
    {
     "name": "stdout",
     "output_type": "stream",
     "text": [
      "deque([5, 4, 3, 2, 1])\n"
     ]
    }
   ],
   "source": [
    "deq = deque((1, 2, 3, 4, 5))\n",
    "# it works\n",
    "deq2 = deque()\n",
    "for i in range(len(deq)):\n",
    "    deq2.append(deq.pop())\n",
    "deq = deq2\n",
    "print(deq)"
   ]
  },
  {
   "cell_type": "code",
   "execution_count": 11,
   "id": "387dfc18",
   "metadata": {},
   "outputs": [
    {
     "name": "stdout",
     "output_type": "stream",
     "text": [
      "deque([5, 4, 3, 2, 1])\n"
     ]
    }
   ],
   "source": [
    "deq = deque((1, 2, 3, 4, 5))\n",
    "# it works\n",
    "deq2 = deque()\n",
    "for i in range(len(deq)):\n",
    "    deq2.appendleft(deq.popleft())\n",
    "deq = deq2\n",
    "print(deq)"
   ]
  },
  {
   "cell_type": "code",
   "execution_count": 12,
   "id": "d4f13d36",
   "metadata": {},
   "outputs": [
    {
     "name": "stdout",
     "output_type": "stream",
     "text": [
      "deque([5, 4, 3, 2, 1])\n"
     ]
    }
   ],
   "source": [
    "deq = deque((1, 2, 3, 4, 5))\n",
    "# it works\n",
    "deq.reverse()\n",
    "print(deq)"
   ]
  },
  {
   "cell_type": "code",
   "execution_count": 13,
   "id": "cd7bd271",
   "metadata": {},
   "outputs": [
    {
     "name": "stdout",
     "output_type": "stream",
     "text": [
      "deque([1, 2, 3, 4, 5])\n"
     ]
    }
   ],
   "source": [
    "deq = deque((1, 2, 3, 4, 5))\n",
    "# it does not work\n",
    "deq2 = deque()\n",
    "for number in deq:\n",
    "    deq2.append(number)\n",
    "deq = deq2\n",
    "print(deq)"
   ]
  },
  {
   "cell_type": "markdown",
   "id": "7f5a98bc",
   "metadata": {},
   "source": [
    "5. Acaba de ocurrir un accidente y se debe evacuar a todos los pasajeros. Para evacuar de forma ordenada creas las siguientes colas: \n",
    "```python\n",
    "from collections import deque\n",
    "\n",
    "pasajeros_prioritarios = deque()\n",
    "pasajeros = deque()\n",
    "tripulacion = deque()\n",
    "```\n",
    "Estas colas se llenan con la información de todos los pasajeros, quedando en pasajeros_prioritarios todos los pasajeros que tienen prioridad al evacuar, en pasajeros todos los demás pasajeros y en tripulacion la tripulación. Es tu deber como capitán vaciar estas colas en orden, vaciando primero la cola de ```pasajeros_prioritarios```, luego la de ```pasajeros``` y por último la de ```tripulacion```. Además, cada una de estas colas se deberá vaciar por orden de llegada.\n",
    "\n",
    "¿Cuál de los siguientes códigos vacía las colas correctamente?  "
   ]
  },
  {
   "cell_type": "code",
   "execution_count": 20,
   "id": "9e0fb2c2",
   "metadata": {},
   "outputs": [],
   "source": [
    "pasajeros_prioritarios = deque()\n",
    "pasajeros = deque()\n",
    "tripulacion = deque()"
   ]
  },
  {
   "cell_type": "code",
   "execution_count": 21,
   "id": "1ed821f0",
   "metadata": {},
   "outputs": [
    {
     "name": "stdout",
     "output_type": "stream",
     "text": [
      "deque(['abuela', 'abuelo', 'embarazada', 'nino', 'nina'])\n",
      "deque(['senor', 'senora', 'joven', 'adolecente', 'hombre', 'mujer'])\n",
      "deque(['Asistente de Vuelo', 'Capitan'])\n"
     ]
    }
   ],
   "source": [
    "pasajeros_prioritarios.extend([\"abuela\", \"abuelo\", \"embarazada\", \"nino\", \"nina\"])\n",
    "pasajeros.extend([\"senor\", \"senora\", \"joven\", \"adolecente\", \"hombre\", \"mujer\"])\n",
    "tripulacion.extend([\"Asistente de Vuelo\", \"Capitan\"])\n",
    "\n",
    "print(pasajeros_prioritarios)\n",
    "print(pasajeros)\n",
    "print(tripulacion)"
   ]
  },
  {
   "cell_type": "code",
   "execution_count": 22,
   "id": "5abc8be3",
   "metadata": {},
   "outputs": [
    {
     "name": "stdout",
     "output_type": "stream",
     "text": [
      "cola actual deque(['abuelo', 'embarazada', 'nino', 'nina'])\n",
      "cola actual deque(['embarazada', 'nino', 'nina'])\n",
      "cola actual deque(['nino', 'nina'])\n",
      "cola actual deque(['nina'])\n",
      "cola actual deque([])\n",
      "cola actual deque(['senora', 'joven', 'adolecente', 'hombre', 'mujer'])\n",
      "cola actual deque(['joven', 'adolecente', 'hombre', 'mujer'])\n",
      "cola actual deque(['adolecente', 'hombre', 'mujer'])\n",
      "cola actual deque(['hombre', 'mujer'])\n",
      "cola actual deque(['mujer'])\n",
      "cola actual deque([])\n",
      "cola actual deque(['Capitan'])\n",
      "cola actual deque([])\n",
      "cola final deque([])\n"
     ]
    }
   ],
   "source": [
    "for cola in (pasajeros_prioritarios, pasajeros, tripulacion):\n",
    "    while len(cola) > 0:\n",
    "        cola.popleft()\n",
    "        print(\"cola actual\",cola)\n",
    "\n",
    "print(\"cola final\",cola)\n"
   ]
  },
  {
   "cell_type": "markdown",
   "id": "62c73b93",
   "metadata": {},
   "source": [
    "6. \n",
    "Tienes una cola implementada con deque que contiene diversos elementos, por ejemplo:\n",
    "```python\n",
    "from collections import deque\n",
    "\n",
    "cola = deque([...])\n",
    "```\n",
    "Al observar esta cola notas que los elementos dentro de esta están al revés. \n",
    "\n",
    "¿Cuál de los siguientes códigos invierte los elementos de la cola correctamente? "
   ]
  },
  {
   "cell_type": "code",
   "execution_count": 24,
   "id": "8b293e8a",
   "metadata": {},
   "outputs": [
    {
     "name": "stdout",
     "output_type": "stream",
     "text": [
      "cola deque(['elemento2', 'elemento3', 'elemento4'])\n",
      "cola auxiliar deque(['elemento1'])\n",
      "cola deque(['elemento3', 'elemento4'])\n",
      "cola auxiliar deque(['elemento2', 'elemento1'])\n",
      "cola deque(['elemento4'])\n",
      "cola auxiliar deque(['elemento3', 'elemento2', 'elemento1'])\n",
      "cola deque([])\n",
      "cola auxiliar deque(['elemento4', 'elemento3', 'elemento2', 'elemento1'])\n",
      "cola final deque(['elemento4', 'elemento3', 'elemento2', 'elemento1'])\n",
      "cola auxiliar final deque(['elemento4', 'elemento3', 'elemento2', 'elemento1'])\n"
     ]
    }
   ],
   "source": [
    "cola = deque()\n",
    "cola.extend([\"elemento1\", \"elemento2\", \"elemento3\", \"elemento4\"])\n",
    "\n",
    "cola_aux = deque()\n",
    "\n",
    "while len(cola):\n",
    "    elemento = cola.popleft()\n",
    "    cola_aux.appendleft(elemento)\n",
    "    print(\"cola\", cola)\n",
    "    print(\"cola auxiliar\", cola_aux)\n",
    "cola = cola_aux\n",
    "\n",
    "print(\"cola final\", cola)\n",
    "print(\"cola auxiliar final\", cola_aux)\n"
   ]
  },
  {
   "cell_type": "code",
   "execution_count": null,
   "id": "1bb002f1",
   "metadata": {},
   "outputs": [],
   "source": []
  }
 ],
 "metadata": {
  "kernelspec": {
   "display_name": "da-py3.12",
   "language": "python",
   "name": "python3"
  },
  "language_info": {
   "codemirror_mode": {
    "name": "ipython",
    "version": 3
   },
   "file_extension": ".py",
   "mimetype": "text/x-python",
   "name": "python",
   "nbconvert_exporter": "python",
   "pygments_lexer": "ipython3",
   "version": "3.12.2"
  }
 },
 "nbformat": 4,
 "nbformat_minor": 5
}
