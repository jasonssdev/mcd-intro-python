{
 "cells": [
  {
   "cell_type": "code",
   "execution_count": 15,
   "metadata": {},
   "outputs": [],
   "source": [
    "junio = [1, 90, 2, 89, 4, 24, 5, 64, 7, 43, 12, 34, 14, 13, 20, 90, 21, 32]\n",
    "noviembre = [2, 10, 15, 100, 20, 5]\n",
    "enero = [3, 34, 4, 36, 9, 32, 10, 35, 12, 33, 14, 35, 20, 30, 31, 35]\n",
    "julio = [19, 10]"
   ]
  },
  {
   "cell_type": "code",
   "execution_count": 18,
   "metadata": {},
   "outputs": [
    {
     "name": "stdout",
     "output_type": "stream",
     "text": [
      "10\n"
     ]
    }
   ],
   "source": [
    "def rainiest_days(month):\n",
    "    highest_quantity = [month[i] for i in range(len(month)) if i % 2 != 0]\n",
    "    return max(highest_quantity)\n",
    "\n",
    "print(rainiest_days(julio))"
   ]
  },
  {
   "cell_type": "code",
   "execution_count": null,
   "metadata": {},
   "outputs": [],
   "source": []
  }
 ],
 "metadata": {
  "kernelspec": {
   "display_name": "da-py3.12",
   "language": "python",
   "name": "python3"
  },
  "language_info": {
   "codemirror_mode": {
    "name": "ipython",
    "version": 3
   },
   "file_extension": ".py",
   "mimetype": "text/x-python",
   "name": "python",
   "nbconvert_exporter": "python",
   "pygments_lexer": "ipython3",
   "version": "3.12.9"
  }
 },
 "nbformat": 4,
 "nbformat_minor": 2
}
