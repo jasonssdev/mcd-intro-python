{
 "cells": [
  {
   "cell_type": "markdown",
   "metadata": {},
   "source": [
    "# Ayudantia 4: Inventario de Electrónica 🖥️📱🔊"
   ]
  },
  {
   "cell_type": "markdown",
   "metadata": {},
   "source": [
    "Trabajaremos con el inventario de una tienda de electrónica. Cada producto está representado por una sublista con:\n",
    "\n",
    "- Código del producto (int)\n",
    "- Categoría (str)\n",
    "- Precio en USD (int)\n",
    "- Stock disponible (int)\n",
    "- Importado (1 si es importado, 0 si es nacional)\n",
    "\n",
    "Ejemplo:\n",
    "\n",
    "```python\n",
    "inventario = [\n",
    "    ['Código', 'Categoría', 'Precio', 'Stock', 'Importado'],\n",
    "    [101, 'Audio', 120, 15, 1],\n",
    "    [102, 'TV', 300, 5, 0],\n",
    "    [103, 'Computación', 750, 2, 1],\n",
    "    [104, 'Audio', 95, 20, 0],\n",
    "    [105, 'TV', 500, 1, 1],\n",
    "    [106, 'Computación', 900, 3, 1],\n",
    "    [107, 'Accesorios', 25, 40, 0],\n",
    "    [108, 'Accesorios', 30, 8, 1]\n",
    "]\n",
    "```"
   ]
  },
  {
   "cell_type": "code",
   "execution_count": 12,
   "metadata": {},
   "outputs": [],
   "source": [
    "inventario = [\n",
    "    ['Código', 'Categoría', 'Precio', 'Stock', 'Importado'],\n",
    "    [101, 'Audio', 120, 15, 1],\n",
    "    [102, 'TV', 300, 6, 0],\n",
    "    [103, 'Computación', 750, 2, 1],\n",
    "    [104, 'Audio', 95, 20, 0],\n",
    "    [105, 'TV', 500, 1, 1],\n",
    "    [106, 'Computación', 900, 3, 1],\n",
    "    [107, 'Accesorios', 25, 40, 0],\n",
    "    [108, 'Accesorios', 30, 8, 1]\n",
    "]"
   ]
  },
  {
   "cell_type": "markdown",
   "metadata": {},
   "source": [
    "## Ejercicio 1️⃣: resumen_categorias_origen(lista)\n",
    "Crea una función que reciba la lista del inventario y devuelva un resumen con el número de productos por categoría y origen.\n",
    "\n",
    "**Salida esperada:**\n",
    "Una lista de listas con la siguiente estructura:\n",
    "\n",
    "```python\n",
    "[['Audio', 1, 1], ['TV', 1, 1], ['Computación', 0, 2], ['Accesorios', 1, 1]]\n",
    "# Cada sublista: [Categoría, Nacionales, Importados]\n",
    "```"
   ]
  },
  {
   "cell_type": "code",
   "execution_count": 20,
   "metadata": {},
   "outputs": [
    {
     "data": {
      "text/plain": [
       "[['Audio', 1, 1], ['TV', 1, 1], ['Computación', 0, 2], ['Accesorios', 1, 1]]"
      ]
     },
     "execution_count": 20,
     "metadata": {},
     "output_type": "execute_result"
    }
   ],
   "source": [
    "def resumen_categorias_origen(inventario):\n",
    "    resumen = []\n",
    "    for producto in inventario[1:]:\n",
    "        categoria = producto[1]\n",
    "        importado = producto[-1]\n",
    "        categoria_existe = False\n",
    "        for categ_resumen in resumen:\n",
    "            if categ_resumen[0] == categoria:\n",
    "                categoria_existe = True\n",
    "        if not(categoria_existe):\n",
    "            if bool(importado):\n",
    "                resumen.append([categoria, 0, 0])\n",
    "            else:\n",
    "                resumen.append([categoria, 0, 0])\n",
    "        for cat_resumen in resumen:\n",
    "            if cat_resumen[0] == categoria:\n",
    "                if bool(importado):\n",
    "                    cat_resumen[2] += 1\n",
    "                else:\n",
    "                    cat_resumen[1] += 1\n",
    "        \n",
    "    return resumen\n",
    "\n",
    "def resumen_categorias_origen2(inventario):\n",
    "    resumen = {}\n",
    "    for producto in inventario[1:]:\n",
    "        categoria = producto[1]\n",
    "        importado = producto[-1]\n",
    "        if categoria not in resumen.keys():\n",
    "            resumen[categoria] = [0, 0]\n",
    "        resumen[categoria][importado] += 1\n",
    "    resultado = []\n",
    "    for k, v in resumen.items():\n",
    "        resultado.append([k]+ v)\n",
    "    return resultado\n",
    "\n",
    "class Producto:\n",
    "    def __init__(self, codigo, categoria, precio, stock, importado):\n",
    "        self.codigo = codigo\n",
    "        self.categoria = categoria\n",
    "        pass\n",
    "        \n",
    "class Inventario:\n",
    "    def __init__(self):\n",
    "        self.lista = []\n",
    "        \n",
    "    def agregar_inventario(self, producto):\n",
    "        self.lista.append(producto)\n",
    "        \n",
    "    def resumen(self):\n",
    "        pass\n",
    "            \n",
    "\n",
    "resumen_categorias_origen2(inventario)"
   ]
  },
  {
   "cell_type": "markdown",
   "metadata": {},
   "source": [
    "## Ejercicio 2️⃣: prob_stock_bajo(lista)\n",
    "Crea una función que calcule, por categoría, la probabilidad de que un producto tenga **stock bajo** (stock menor o igual a 5).\n",
    "\n",
    "**Salida esperada:**\n",
    "\n",
    "```python\n",
    "{'Audio': 0.0, 'TV': 0.5, 'Computación': 1.0, 'Accesorios': 0.0}\n",
    "```"
   ]
  },
  {
   "cell_type": "code",
   "execution_count": 22,
   "metadata": {},
   "outputs": [
    {
     "data": {
      "text/plain": [
       "{'Audio': 0.0, 'TV': 0.5, 'Computación': 1.0, 'Accesorios': 0.0}"
      ]
     },
     "execution_count": 22,
     "metadata": {},
     "output_type": "execute_result"
    }
   ],
   "source": [
    "def prob_stock_bajo(inventario):\n",
    "    resultado = {}\n",
    "    conteo_stock_bajo = {}\n",
    "    conteo_total = {}\n",
    "    \n",
    "    for producto in inventario[1:]:\n",
    "        categoria = producto[1]\n",
    "        stock_bajo = producto[-2] <= 5 # True or False\n",
    "        if categoria not in conteo_total.keys():\n",
    "            conteo_total[categoria] = 0\n",
    "            conteo_stock_bajo[categoria] = 0\n",
    "        conteo_total[categoria] += 1\n",
    "        if stock_bajo:\n",
    "            conteo_stock_bajo[categoria] += 1\n",
    "    for key in conteo_stock_bajo.keys():\n",
    "        resultado[key] = round(conteo_stock_bajo[key]/conteo_total[key], 2)\n",
    "    return resultado\n",
    "        \n",
    "\n",
    "prob_stock_bajo(inventario)"
   ]
  },
  {
   "cell_type": "code",
   "execution_count": null,
   "metadata": {},
   "outputs": [],
   "source": []
  }
 ],
 "metadata": {
  "kernelspec": {
   "display_name": "Python 3 (ipykernel)",
   "language": "python",
   "name": "python3"
  },
  "language_info": {
   "codemirror_mode": {
    "name": "ipython",
    "version": 3
   },
   "file_extension": ".py",
   "mimetype": "text/x-python",
   "name": "python",
   "nbconvert_exporter": "python",
   "pygments_lexer": "ipython3",
   "version": "3.9.6"
  }
 },
 "nbformat": 4,
 "nbformat_minor": 2
}
